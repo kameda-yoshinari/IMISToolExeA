{
  "nbformat": 4,
  "nbformat_minor": 0,
  "metadata": {
    "colab": {
      "provenance": [],
      "gpuType": "T4",
      "include_colab_link": true
    },
    "kernelspec": {
      "name": "python3",
      "display_name": "Python 3"
    },
    "accelerator": "GPU"
  },
  "cells": [
    {
      "cell_type": "markdown",
      "metadata": {
        "id": "view-in-github",
        "colab_type": "text"
      },
      "source": [
        "<a href=\"https://colab.research.google.com/github/kameda-yoshinari/IMISToolExeA/blob/main/300_PyTorch.ipynb\" target=\"_parent\"><img src=\"https://colab.research.google.com/assets/colab-badge.svg\" alt=\"Open In Colab\"/></a>"
      ]
    },
    {
      "cell_type": "markdown",
      "metadata": {
        "id": "CvYFa2bSBgrB"
      },
      "source": [
        "# 3. Pytorch on Google Colaboratory"
      ]
    },
    {
      "cell_type": "markdown",
      "metadata": {
        "id": "5X-PBWBVKB3f"
      },
      "source": [
        "[Pytorch](https://pytorch.org) is a (very large) machine learning library originally developed by Facebook/Meta.   \n",
        "It's very wierd, since colab notebook is supported by Google and PyTorch is supported by Facebook/Meta. But sometimes it happens in this literature...  \n",
        "(FYI, [TensorFlow](https://www.tensorflow.org/) is the one by Google.)\n",
        "\n",
        "Well written tutorials are now available (they made big effort to welcome newbies to their commmunity), so I just show the links to the tutorials.\n",
        "\n",
        "At the same time, I also show some info that how rapidly things are changing in this literature. One year is too long, even a month might be tough. In the library below, some are released in this month...\n"
      ]
    },
    {
      "cell_type": "markdown",
      "metadata": {
        "id": "Mmae-_D2NOFC"
      },
      "source": [
        "# python\n",
        "\n",
        "> python2 support was terminated on 2020/01/01.  \n",
        "So you are strongly encouraged to use python3.\n",
        "\n",
        "Site https://www.python.org/  \n",
        "\n",
        "[It is updated every year.](https://devguide.python.org/versions/#versions)   \n",
        "FYI: 3.11.13 (2025/07/27), 3.10.12 (2023/11/20), 3.10.5 (2022/08/01), 3.9.6 (2021/06/28), 3.8.3 (2020/05/13) on google colab runtime instance\n",
        "\n",
        "\n",
        "Tutorial  \n",
        "https://docs.python.org/3/tutorial/"
      ]
    },
    {
      "cell_type": "markdown",
      "metadata": {
        "id": "vFvK6sonyvBm"
      },
      "source": [
        "Check the version you use."
      ]
    },
    {
      "cell_type": "code",
      "metadata": {
        "id": "oWxMjRH5thHx"
      },
      "source": [
        "!python3 -VV"
      ],
      "execution_count": null,
      "outputs": []
    },
    {
      "cell_type": "markdown",
      "metadata": {
        "id": "t2AYcJ2ueVlf"
      },
      "source": [
        "# numpy\n",
        "\n",
        "> Numpy is a matlab-like extension of python.\n",
        "Matrix operations (on \"ndarray\") could be executed very efficiently. (If you want to accelate the computation, you need GPU-powered numpy compatible extention such as [CUpy](https://github.com/cupy/cupy).)\n",
        "\n",
        "Site https://numpy.org/\n",
        "\n",
        "Numpy is being developped on github: https://github.com/numpy\n",
        "\n",
        "Currently v2.3.2 (2025/07/24) [Release history by github tag](https://github.com/numpy/numpy/tags)   \n",
        "\n",
        "Quickstart tutorial :\n",
        "https://numpy.org/devdocs/user/quickstart.html"
      ]
    },
    {
      "cell_type": "markdown",
      "metadata": {
        "id": "Cq7Q1SgfzMzS"
      },
      "source": [
        "Check the version on the google colaboratory runtime instance.  \n",
        "Then try to verify the version by referring the git_revision number."
      ]
    },
    {
      "cell_type": "code",
      "metadata": {
        "id": "gKzRCrQGvX9p"
      },
      "source": [
        "import numpy as np\n",
        "\n",
        "print(np.__version__)\n",
        "print(np.version.git_revision)"
      ],
      "execution_count": null,
      "outputs": []
    },
    {
      "cell_type": "markdown",
      "source": [
        "#Virtual Environment (venv)  \n",
        "Since you may need many libraries and tools (including pytorch of course), it may rely on some libraries that SHOULD NOT be the latest ones.  \n",
        "To manage your own customized libraries and tools, [the virtual envionment](https://docs.python.org/ja/3/library/venv.html) (a.k.a. venv), that is a function of python, is useful.  \n",
        "However, in the google collaboratoy, you do not need to use venv as you will install necessary libraries just after its boot up."
      ],
      "metadata": {
        "id": "-vnXriLWiQ6R"
      }
    },
    {
      "cell_type": "markdown",
      "metadata": {
        "id": "ewjdPljmjU1U"
      },
      "source": [
        "#Pytorch main\n",
        "\n",
        "> Pytorch is the newly coming ([2016-](https://github.com/pytorch/pytorch/releases/tag/v0.1.1)) open source library to provide machine learning techniques by way of deep neural network and it can get benefits from GPU. Since it comes lastly, it covers advantages that other libraries have. Supported by Facebook (at this moment).\n",
        "\n",
        "> As of 2020/06, pytorch is preinstalled to the colab instances (so far as I remember, it was not there in 2019.)\n",
        "\n",
        "Site https://pytorch.org/\n",
        "\n",
        "Pytorch is being developped on github: https://github.com/pytorch/pytorch\n",
        "\n",
        "Currently Ver 2.3.1 (2024/05/30)  [Release history by github tag](https://github.com/pytorch/pytorch/releases)\n",
        "\n",
        "\n",
        "\n"
      ]
    },
    {
      "cell_type": "markdown",
      "metadata": {
        "id": "UE1HJN0w3Cqc"
      },
      "source": [
        "Check the version and verify that it is from github."
      ]
    },
    {
      "cell_type": "code",
      "metadata": {
        "id": "9qIUvy2b1T-5"
      },
      "source": [
        "import torch\n",
        "\n",
        "print(torch.__version__)\n",
        "print(torch.version.git_version)"
      ],
      "execution_count": null,
      "outputs": []
    },
    {
      "cell_type": "markdown",
      "metadata": {
        "id": "94stPgEXdAAl"
      },
      "source": [
        "---\n",
        "# Pytorch tutorials / Learn the Basics\n",
        "\n",
        "> There are many tutorials, but since the official tutorial supports colab notebook natively (and google translator is now very smart since 2019/11, thank you [BERT!](https://ai.googleblog.com/2018/11/open-sourcing-bert-state-of-art-pre.html)), I strongly recommend you to see the official tutorial first.\n",
        "\n",
        "\n",
        "https://pytorch.org/tutorials/\n",
        "\n",
        "Pytorch tutorals are colab-ready.  \n",
        "These two are strongly encouraged to learn.\n",
        "\n",
        "1. Deep Learning with PyTorch: A 60 Minute Blitz\n",
        "2. Learning PyTorch with Examples\n",
        "\n",
        "You should pick up as many as possible as for you have time (for assigned class time, say 2.5 hours in total).\n",
        "\n",
        "\n",
        "The list below is as of 2023/08/01.\n",
        "FYI, from 2024, they have started to provide YouTube video lessons too (See \"Intorduction to PyTorch on YouTube).\n",
        "\n",
        "\n",
        "\n",
        "> You can also see how the things are rapidly changing by checking the new/deleted tag since 2021...  \n",
        "> As of 2025, I finally give up updating this list as there are so many changes.\n",
        "See the left side \"Section Navigation\" on the tutorial pages below to obtain full list of the latest tutorial documents.  \n",
        "\n",
        "Below was the list as of 2024.07.\n"
      ]
    },
    {
      "cell_type": "markdown",
      "source": [
        "<p class=\"caption\" role=\"heading\"><span class=\"caption-text\">Introduction to PyTorch</span></p>\n",
        "<ul>\n",
        "<li class=\"toctree-l1\"><a class=\"reference internal\" href=\"https://pytorch.org/tutorials/beginner/basics/intro.html\">Learn the Basics</a></li>\n",
        "<li class=\"toctree-l1\"><a class=\"reference internal\" href=\"https://pytorch.org/tutorials/beginner/basics/quickstart_tutorial.html\">Quickstart</a></li>\n",
        "<li class=\"toctree-l1\"><a class=\"reference internal\" href=\"https://pytorch.org/tutorials/beginner/basics/tensorqs_tutorial.html\">Tensors</a></li>\n",
        "<li class=\"toctree-l1\"><a class=\"reference internal\" href=\"https://pytorch.org/tutorials/beginner/basics/data_tutorial.html\">Datasets &amp; DataLoaders</a></li>\n",
        "<li class=\"toctree-l1\"><a class=\"reference internal\" href=\"https://pytorch.org/tutorials/beginner/basics/transforms_tutorial.html\">Transforms</a></li>\n",
        "<li class=\"toctree-l1\"><a class=\"reference internal\" href=\"https://pytorch.org/tutorials/beginner/basics/buildmodel_tutorial.html\">Build the Neural Network</a></li>\n",
        "<li class=\"toctree-l1\"><a class=\"reference internal\" href=\"https://pytorch.org/tutorials/beginner/basics/autogradqs_tutorial.html\">Automatic Differentiation with <code class=\"docutils literal notranslate\"><span class=\"pre\">torch.autograd</span></code></a></li>\n",
        "<li class=\"toctree-l1\"><a class=\"reference internal\" href=\"https://pytorch.org/tutorials/beginner/basics/optimization_tutorial.html\">Optimizing Model Parameters</a></li>\n",
        "<li class=\"toctree-l1\"><a class=\"reference internal\" href=\"https://pytorch.org/tutorials/beginner/basics/saveloadrun_tutorial.html\">Save and Load the Model</a></li>\n",
        "<li class=\"toctree-l1\"><a class=\"reference internal\" href=\"advanced/custom_ops_landing_page.html\">PyTorch Custom Operators</a></li>\n",
        "\n",
        "</ul>"
      ],
      "metadata": {
        "id": "ezQ861kqTLmG"
      }
    },
    {
      "cell_type": "markdown",
      "source": [
        "<p class=\"caption\" role=\"heading\"><span class=\"caption-text\">Introduction to PyTorch on YouTube (2023 new)</span></p>\n",
        "<ul>\n",
        "<li class=\"toctree-l1\"><a class=\"reference internal\" href=\"https://pytorch.org/tutorials/beginner/introyt.html\">Introduction to PyTorch - YouTube Series</a>(2023 new)</li>\n",
        "<li class=\"toctree-l1\"><a class=\"reference internal\" href=\"https://pytorch.org/tutorials/beginner/introyt/introyt1_tutorial.html\">Introduction to PyTorch</a>(2023 new)</li>\n",
        "<li class=\"toctree-l1\"><a class=\"reference internal\" href=\"https://pytorch.org/tutorials/beginner/introyt/tensors_deeper_tutorial.html\">Introduction to PyTorch Tensors</a>(2023 new)</li>\n",
        "<li class=\"toctree-l1\"><a class=\"reference internal\" href=\"https://pytorch.org/tutorials/beginner/introyt/autogradyt_tutorial.html\">The Fundamentals of Autograd</a>(2023 new)</li>\n",
        "<li class=\"toctree-l1\"><a class=\"reference internal\" href=\"https://pytorch.org/tutorials/beginner/introyt/modelsyt_tutorial.html\">Building Models with PyTorch</a>(2023 new)</li>\n",
        "<li class=\"toctree-l1\"><a class=\"reference internal\" href=\"https://pytorch.org/tutorials/beginner/introyt/tensorboardyt_tutorial.html\">PyTorch TensorBoard Support</a>(2023 new)</li>\n",
        "<li class=\"toctree-l1\"><a class=\"reference internal\" href=\"https://pytorch.org/tutorials/beginner/introyt/trainingyt.html\">Training with PyTorch</a>(2023 new)</li>\n",
        "<li class=\"toctree-l1\"><a class=\"reference internal\" href=\"https://pytorch.org/tutorials/beginner/introyt/captumyt.html\">Model Understanding with Captum</a>(2023 new)</li>\n",
        "</ul>\n"
      ],
      "metadata": {
        "id": "3ltYf47MTTN0"
      }
    },
    {
      "cell_type": "markdown",
      "source": [
        "\n",
        "\n",
        "<p class=\"caption\" role=\"heading\"><span class=\"caption-text\">Learning PyTorch</span></p>\n",
        "<ul>\n",
        "<li class=\"toctree-l1\"><a class=\"reference internal\" href=\"https://pytorch.org/tutorials/beginner/deep_learning_60min_blitz.html\">Deep Learning with PyTorch: A 60 Minute Blitz</a></li>\n",
        "<li class=\"toctree-l1\"><a class=\"reference internal\" href=\"https://pytorch.org/tutorials/beginner/pytorch_with_examples.html\">Learning PyTorch with Examples</a></li>\n",
        "<li class=\"toctree-l1\"><a class=\"reference internal\" href=\"https://pytorch.org/tutorials/beginner/nn_tutorial.html\">What is <cite>torch.nn</cite> <em>really</em>?</a></li>\n",
        "<li class=\"toctree-l1\"><a class=\"reference internal\" href=\"https://pytorch.org/tutorials/intermediate/tensorboard_tutorial.html\">Visualizing Models, Data, and Training with TensorBoard</a></li>\n",
        "</ul>"
      ],
      "metadata": {
        "id": "WU7H76OoTUbv"
      }
    },
    {
      "cell_type": "markdown",
      "source": [
        "<p class=\"caption\" role=\"heading\"><span class=\"caption-text\">Image and Video</span></p>\n",
        "<ul>\n",
        "<li class=\"toctree-l1\"><a class=\"reference internal\" href=\"https://pytorch.org/tutorials/intermediate/torchvision_tutorial.html\">TorchVision Object Detection Finetuning Tutorial</a></li>\n",
        "<li class=\"toctree-l1\"><a class=\"reference internal\" href=\"https://pytorch.org/tutorials/beginner/transfer_learning_tutorial.html\">Transfer Learning for Computer Vision Tutorial</a></li>\n",
        "<li class=\"toctree-l1\"><a class=\"reference internal\" href=\"https://pytorch.org/tutorials/beginner/fgsm_tutorial.html\">Adversarial Example Generation</a></li>\n",
        "<li class=\"toctree-l1\"><a class=\"reference internal\" href=\"https://pytorch.org/tutorials/beginner/dcgan_faces_tutorial.html\">DCGAN Tutorial</a></li>\n",
        "<li class=\"toctree-l1\"><a class=\"reference internal\" href=\"https://pytorch.org/tutorials/intermediate/spatial_transformer_tutorial.html\">Spatial Transformer Networks Tutorial</a>(2022 new)</li>\n",
        "<li class=\"toctree-l1\"><a class=\"reference internal\" href=\"https://pytorch.org/tutorials/beginner/vt_tutorial.html\">Optimizing Vision Transformer Model for Deployment</a></li>\n",
        "<li class=\"toctree-l1\"><a class=\"reference internal\" href=\"intermediate/tiatoolbox_tutorial.html\">Whole Slide Image Classification Using PyTorch and TIAToolbox</a></li>\n",
        "</ul>\n"
      ],
      "metadata": {
        "id": "IFPfq7uuTbt0"
      }
    },
    {
      "cell_type": "markdown",
      "source": [
        "<p class=\"caption\" role=\"heading\"><span class=\"caption-text\">Audio</span></p>\n",
        "<ul>\n",
        "<li class=\"toctree-l1\"><a class=\"reference internal\" href=\"https://pytorch.org/tutorials/beginner/audio_io_tutorial.html\">Audio I/O</a></li>\n",
        "<li class=\"toctree-l1\"><a class=\"reference internal\" href=\"https://pytorch.org/tutorials/beginner/audio_resampling_tutorial.html\">Audio Resampling</a></li>\n",
        "<li class=\"toctree-l1\"><a class=\"reference internal\" href=\"https://pytorch.org/tutorials/beginner/audio_data_augmentation_tutorial.html\">Audio Data Augmentation</a></li>\n",
        "<li class=\"toctree-l1\"><a class=\"reference internal\" href=\"https://pytorch.org/tutorials/beginner/audio_feature_extractions_tutorial.html\">Audio Feature Extractions</a></li>\n",
        "<li class=\"toctree-l1\"><a class=\"reference internal\" href=\"https://pytorch.org/tutorials/beginner/audio_feature_augmentation_tutorial.html\">Audio Feature Augmentation</a></li>\n",
        "<li class=\"toctree-l1\"><a class=\"reference internal\" href=\"https://pytorch.org/tutorials/beginner/audio_datasets_tutorial.html\">Audio Datasets</a></li>\n",
        "<li class=\"toctree-l1\"><a class=\"reference internal\" href=\"https://pytorch.org/tutorials/intermediate/speech_recognition_pipeline_tutorial.html\">Speech Recognition with Wav2Vec2</a>(2022 new)</li>\n",
        "<li class=\"toctree-l1\"><a class=\"reference internal\" href=\"https://pytorch.org/tutorials/intermediate/speech_command_classification_with_torchaudio_tutorial.html\">Speech Command Classification with torchaudio</a>(2023 deleted)</li>\n",
        "<li class=\"toctree-l1\"><a class=\"reference internal\" href=\"https://pytorch.org/tutorials/intermediate/text_to_speech_with_torchaudio.html\">Text-to-speech with Tacotron2</a>(2022 new)</li>\n",
        "<li class=\"toctree-l1\"><a class=\"reference internal\" href=\"https://pytorch.org/tutorials/intermediate/forced_alignment_with_torchaudio_tutorial.html\">Forced Alignment with Wav2Vec2</a>(2022 new)</li>\n",
        "</ul>\n"
      ],
      "metadata": {
        "id": "v5iSn4pkTgfy"
      }
    },
    {
      "cell_type": "markdown",
      "source": [
        "\n",
        "<p class=\"caption\" role=\"heading\"><span class=\"caption-text\">Text</span></p>\n",
        "<ul>\n",
        "<li class=\"toctree-l1\"><a class=\"reference internal\" href=\"https://pytorch.org/tutorials/beginner/transformer_tutorial.html\">Language Modeling with <code class=\"docutils literal notranslate\"><span class=\"pre\">nn.Transformer</span></code> and torchtext</a>(2024 deleted)</li>\n",
        "<li class=\"toctree-l1\"><a class=\"reference internal\" href=\"https://pytorch.org/tutorials/beginner/bettertransformer_tutorial.html\">Fast Transformer Inference with Better Transformer</a>(2022 new)</li>\n",
        "<li class=\"toctree-l1\"><a class=\"reference internal\" href=\"https://pytorch.org/tutorials/intermediate/char_rnn_classification_tutorial.html\">NLP From Scratch: Classifying Names with a Character-Level RNN</a></li>\n",
        "<li class=\"toctree-l1\"><a class=\"reference internal\" href=\"https://pytorch.org/tutorials/intermediate/char_rnn_generation_tutorial.html\">NLP From Scratch: Generating Names with a Character-Level RNN</a></li>\n",
        "<li class=\"toctree-l1\"><a class=\"reference internal\" href=\"https://pytorch.org/tutorials/intermediate/seq2seq_translation_tutorial.html\">NLP From Scratch: Translation with a Sequence to Sequence Network and Attention</a></li>\n",
        "<li class=\"toctree-l1\"><a class=\"reference internal\" href=\"https://pytorch.org/tutorials/beginner/text_sentiment_ngrams_tutorial.html\">Text classification with the torchtext library</a></li>\n",
        "<li class=\"toctree-l1\"><a class=\"reference internal\" href=\"https://pytorch.org/tutorials/beginner/translation_transformer.html\">Language Translation with <code class=\"docutils literal notranslate\"><span class=\"pre\">nn.Transformer</span></code> and torchtext</a></li>\n",
        "<li class=\"toctree-l1\"><a class=\"reference internal\" href=\"https://pytorch.org/tutorials/beginner/torchtext_custom_dataset_tutorial.html\">Preprocess custom text dataset using Torchtext</a>(2023 new)</li>\n",
        "</ul>"
      ],
      "metadata": {
        "id": "SuEQixINT1Qq"
      }
    },
    {
      "cell_type": "markdown",
      "source": [
        "<p class=\"caption\" role=\"heading\"><span class=\"caption-text\">Backends</span></p>\n",
        "<ul>\n",
        "<li class=\"toctree-l1\"><a class=\"reference internal\" href=\"beginner/onnx/intro_onnx.html\">Introduction to ONNX</a></li>"
      ],
      "metadata": {
        "id": "81EXi1_Vu1UG"
      }
    },
    {
      "cell_type": "markdown",
      "source": [
        "\n",
        "<p class=\"caption\" role=\"heading\"><span class=\"caption-text\">Reinforcement Learning</span></p>\n",
        "<ul>\n",
        "<li class=\"toctree-l1\"><a class=\"reference internal\" href=\"https://pytorch.org/tutorials/intermediate/reinforcement_q_learning.html\">Reinforcement Learning (DQN) Tutorial</a></li>\n",
        "<li class=\"toctree-l1\"><a class=\"reference internal\" href=\"https://pytorch.org/tutorials/intermediate/reinforcement_ppo.html\">Reinforcement Learning (PPO) with TorchRL Tutorial</a>(2023 new)(2024 deleted)</li>\n",
        "<li class=\"toctree-l1\"><a class=\"reference internal\" href=\"https://pytorch.org/tutorials/intermediate/mario_rl_tutorial.html\">Train a Mario-playing RL Agent</a></li>\n",
        "<li class=\"toctree-l1\"><a class=\"reference internal\" href=\"advanced/pendulum.html\">Pendulum: Writing your environment and transforms with TorchRL</a></li>\n",
        "</ul>"
      ],
      "metadata": {
        "id": "3UVnW8l6wKff"
      }
    },
    {
      "cell_type": "markdown",
      "source": [
        "\n",
        "<p class=\"caption\" role=\"heading\"><span class=\"caption-text\">Deploying PyTorch Models in Production</span></p>\n",
        "<ul>\n",
        "<li class=\"toctree-l1\"><a class=\"reference internal\" href=\"beginner/onnx/intro_onnx.html\">Introduction to ONNX</a>(2024 copied)</li>\n",
        "<li class=\"toctree-l1\"><a class=\"reference internal\" href=\"https://pytorch.org/tutorials/intermediate/flask_rest_api_tutorial.html\">Deploying PyTorch in Python via a REST API with Flask</a></li>\n",
        "<li class=\"toctree-l1\"><a class=\"reference internal\" href=\"https://pytorch.org/tutorials/beginner/Intro_to_TorchScript_tutorial.html\">Introduction to TorchScript</a></li>\n",
        "<li class=\"toctree-l1\"><a class=\"reference internal\" href=\"https://pytorch.org/tutorials/advanced/cpp_export.html\">Loading a TorchScript Model in C++</a></li>\n",
        "<li class=\"toctree-l1\"><a class=\"reference internal\" href=\"https://pytorch.org/tutorials/advanced/super_resolution_with_onnxruntime.html\">(optional) Exporting a Model from PyTorch to ONNX and Running it using ONNX Runtime</a></li>\n",
        "<li class=\"toctree-l1\"><a class=\"reference internal\" href=\"https://pytorch.org/tutorials/intermediate/realtime_rpi.html\">Real Time Inference on Raspberry Pi 4 (30 fps!)</a></li>\n",
        "</ul>"
      ],
      "metadata": {
        "id": "m9CnHzbBxkxO"
      }
    },
    {
      "cell_type": "markdown",
      "source": [
        "<p class=\"caption\" role=\"heading\"><span class=\"caption-text\">Profiling PyTorch</span></p>\n",
        "<ul>\n",
        "<li class=\"toctree-l1\"><a class=\"reference internal\" href=\"beginner/profiler.html\">Profiling your PyTorch Module</a>(2024 new)</li>\n",
        "<li class=\"toctree-l1\"><a class=\"reference internal\" href=\"beginner/hta_intro_tutorial.html\">Introduction to Holistic Trace Analysis</a>(2024 new)</li>\n",
        "<li class=\"toctree-l1\"><a class=\"reference internal\" href=\"beginner/hta_trace_diff_tutorial.html\">Trace Diff using Holistic Trace Analysis</a>(2024 new)</li>\n",
        "</ul>"
      ],
      "metadata": {
        "id": "hY0-VDRayo6c"
      }
    },
    {
      "cell_type": "markdown",
      "source": [
        "\n",
        "<p class=\"caption\" role=\"heading\"><span class=\"caption-text\">Code Transforms with FX</span></p>\n",
        "<ul>\n",
        "<li class=\"toctree-l1\"><a class=\"reference internal\" href=\"https://pytorch.org/tutorials/intermediate/fx_conv_bn_fuser.html\">(beta) Building a Convolution/Batch Norm fuser in FX</a></li>\n",
        "<li class=\"toctree-l1\"><a class=\"reference internal\" href=\"https://pytorch.org/tutorials/intermediate/fx_profiling_tutorial.html\">(beta) Building a Simple CPU Performance Profiler with FX</a></li>\n",
        "</ul>"
      ],
      "metadata": {
        "id": "Yvgt9-Ksxs93"
      }
    },
    {
      "cell_type": "markdown",
      "source": [
        "\n",
        "<p class=\"caption\" role=\"heading\"><span class=\"caption-text\">Frontend APIs</span></p>\n",
        "<ul>\n",
        "<li class=\"toctree-l1\"><a class=\"reference internal\" href=\"https://pytorch.org/tutorials/intermediate/memory_format_tutorial.html\">(beta) Channels Last Memory Format in PyTorch</a></li>\n",
        "<li class=\"toctree-l1\"><a class=\"reference internal\" href=\"https://pytorch.org/tutorials/intermediate/forward_ad_usage.html\">Forward-mode Automatic Differentiation (Beta)</a>(2022 new)</li>\n",
        "<li class=\"toctree-l1\"><a class=\"reference internal\" href=\"https://pytorch.org/tutorials/intermediate/jacobians_hessians.html\">Jacobians, Hessians, hvp, vhp, and more: composing function transforms</a>(2023 new)</li>\n",
        "<li class=\"toctree-l1\"><a class=\"reference internal\" href=\"https://pytorch.org/tutorials/intermediate/ensembling.html\">Model ensembling</a>(2023 new)</li>\n",
        "<li class=\"toctree-l1\"><a class=\"reference internal\" href=\"https://pytorch.org/tutorials/intermediate/per_sample_grads.html\">Per-sample-gradients</a>(2023 new)</li>\n",
        "<li class=\"toctree-l1\"><a class=\"reference internal\" href=\"https://pytorch.org/tutorials/advanced/cpp_frontend.html\">Using the PyTorch C++ Frontend</a></li>\n",
        "<li class=\"toctree-l1\"><a class=\"reference internal\" href=\"https://pytorch.org/tutorials/advanced/torch-script-parallelism.html\">Dynamic Parallelism in TorchScript</a></li>\n",
        "<li class=\"toctree-l1\"><a class=\"reference internal\" href=\"https://pytorch.org/tutorials/advanced/cpp_autograd.html\">Autograd in C++ Frontend</a></li>\n",
        "</ul>"
      ],
      "metadata": {
        "id": "Ermbx6olxyJ9"
      }
    },
    {
      "cell_type": "markdown",
      "source": [
        "\n",
        "<p class=\"caption\" role=\"heading\"><span class=\"caption-text\">Extending PyTorch</span></p>\n",
        "<ul>\n",
        "<li class=\"toctree-l1\"><a class=\"reference internal\" href=\"advanced/custom_ops_landing_page.html\">PyTorch Custom Operators</a>(2024 new)</li>\n",
        "<li class=\"toctree-l1\"><a class=\"reference internal\" href=\"advanced/python_custom_ops.html\">Python Custom Operators</a>(2024 new)</li>\n",
        "<li class=\"toctree-l1\"><a class=\"reference internal\" href=\"advanced/cpp_custom_ops.html\">Custom C++ and CUDA Operators</a>(2024 new)</li>\n",
        "\n",
        "<li class=\"toctree-l1\"><a class=\"reference internal\" href=\"https://pytorch.org/tutorials/intermediate/custom_function_double_backward_tutorial.html\">Double Backward with Custom Functions</a>(2022 new)</li>\n",
        "<li class=\"toctree-l1\"><a class=\"reference internal\" href=\"https://pytorch.org/tutorials/intermediate/custom_function_conv_bn_tutorial.html\">Fusing Convolution and Batch Norm using Custom Function</a>(2022 new)</li>\n",
        "<li class=\"toctree-l1\"><a class=\"reference internal\" href=\"https://pytorch.org/tutorials/advanced/cpp_extension.html\">Custom C++ and CUDA Extensions</a></li>\n",
        "<li class=\"toctree-l1\"><a class=\"reference internal\" href=\"https://pytorch.org/tutorials/advanced/torch_script_custom_ops.html\">Extending TorchScript with Custom C++ Operators</a></li>\n",
        "<li class=\"toctree-l1\"><a class=\"reference internal\" href=\"https://pytorch.org/tutorials/advanced/torch_script_custom_classes.html\">Extending TorchScript with Custom C++ Classes</a></li>\n",
        "<li class=\"toctree-l1\"><a class=\"reference internal\" href=\"https://pytorch.org/tutorials/advanced/dispatcher.html\">Registering a Dispatched Operator in C++</a></li>\n",
        "<li class=\"toctree-l1\"><a class=\"reference internal\" href=\"https://pytorch.org/tutorials/advanced/extend_dispatcher.html\">Extending dispatcher for a new backend in C++</a></li>\n",
        "<li class=\"toctree-l1\"><a class=\"reference internal\" href=\"advanced/privateuseone.html\">Facilitating New Backend Integration by PrivateUse1</a>(2024 new)</li>\n",
        "\n",
        "</ul>"
      ],
      "metadata": {
        "id": "-8EgPyOzx44Z"
      }
    },
    {
      "cell_type": "markdown",
      "source": [
        "\n",
        "<p class=\"caption\" role=\"heading\"><span class=\"caption-text\">Model Optimization</span></p>\n",
        "<ul>\n",
        "<li class=\"toctree-l1\"><a class=\"reference internal\" href=\"https://pytorch.org/tutorials/beginner/profiler.html\">Profiling your PyTorch Module</a></li>\n",
        "<li class=\"toctree-l1\"><a class=\"reference internal\" href=\"https://pytorch.org/tutorials/intermediate/tensorboard_profiler_tutorial.html\">PyTorch Profiler With TensorBoard</a></li>\n",
        "<li class=\"toctree-l1\"><a class=\"reference internal\" href=\"https://pytorch.org/tutorials/beginner/hyperparameter_tuning_tutorial.html\">Hyperparameter tuning with Ray Tune</a></li>\n",
        "<li class=\"toctree-l1\"><a class=\"reference internal\" href=\"https://pytorch.org/tutorials/beginner/vt_tutorial.html\">Optimizing Vision Transformer Model for Deployment</a></li>\n",
        "<li class=\"toctree-l1\"><a class=\"reference internal\" href=\"https://pytorch.org/tutorials/intermediate/parametrizations.html\">Parametrizations Tutorial</a></li>\n",
        "<li class=\"toctree-l1\"><a class=\"reference internal\" href=\"https://pytorch.org/tutorials/intermediate/pruning_tutorial.html\">Pruning Tutorial</a></li>\n",
        "<li class=\"toctree-l1\"><a class=\"reference internal\" href=\"https://pytorch.org/tutorials/advanced/dynamic_quantization_tutorial.html\">(beta) Dynamic Quantization on an LSTM Word Language Model</a></li>\n",
        "<li class=\"toctree-l1\"><a class=\"reference internal\" href=\"https://pytorch.org/tutorials/intermediate/dynamic_quantization_bert_tutorial.html\">(beta) Dynamic Quantization on BERT</a></li>\n",
        "<li class=\"toctree-l1\"><a class=\"reference internal\" href=\"https://pytorch.org/tutorials/intermediate/quantized_transfer_learning_tutorial.html\">(beta) Quantized Transfer Learning for Computer Vision Tutorial</a></li>\n",
        "<li class=\"toctree-l1\"><a class=\"reference internal\" href=\"https://pytorch.org/tutorials/advanced/static_quantization_tutorial.html\">(beta) Static Quantization with Eager Mode in PyTorch</a></li>\n",
        "<li class=\"toctree-l1\"><a class=\"reference internal\" href=\"https://pytorch.org/tutorials/intermediate/torchserve_with_ipex.html\">Grokking PyTorch Intel CPU performance from first principles</a>(2022 new)</li>\n",
        "<li class=\"toctree-l1\"><a class=\"reference internal\" href=\"https://pytorch.org/tutorials/intermediate/torchserve_with_ipex_2.html\">Grokking PyTorch Intel CPU performance from first principles (Part 2)</a>(2023 new)</li>\n",
        "<li class=\"toctree-l1\"><a class=\"reference internal\" href=\"https://pytorch.org/tutorials/intermediate/nvfuser_intro_tutorial.html\">Getting Started - Accelerate Your Scripts with nvFuser</a>(2023 new)</li>\n",
        "<li class=\"toctree-l1\"><a class=\"reference internal\" href=\"https://pytorch.org/tutorials/intermediate/ax_multiobjective_nas_tutorial.html\">Multi-Objective NAS with Ax</a>(2023 new)</li>\n",
        "<li class=\"toctree-l1\"><a class=\"reference internal\" href=\"https://pytorch.org/tutorials/intermediate/torch_compile_tutorial.html\">Introduction to torch.compile Tutorial</a>(2023 new)</li>\n",
        "<li class=\"toctree-l1\"><a class=\"reference internal\" href=\"https://pytorch.org/tutorials/intermediate/inductor_debug_cpu.html\">Inductor CPU backend debugging and profiling</a>(2023 new)</li>\n",
        "<li class=\"toctree-l1\"><a class=\"reference internal\" href=\"https://pytorch.org/tutorials/intermediate/scaled_dot_product_attention_tutorial.html\">(Beta) Implementing High-Performance Transformers with Scaled Dot Product Attention (SDPA)</a>(2023 new)</li>\n",
        "<li class=\"toctree-l1\"><a class=\"reference internal\" href=\"https://pytorch.org/tutorials/intermediate/scaled_dot_product_attention_tutorial.html#using-sdpa-with-torch-compile\">Using SDPA with <code class=\"docutils literal notranslate\"><span class=\"pre\">torch.compile</span></code></a>(2023 new)</li>\n",
        "<li class=\"toctree-l1\"><a class=\"reference internal\" href=\"intermediate/scaled_dot_product_attention_tutorial.html#using-sdpa-with-attn-bias-subclasses\">Using SDPA with attn_bias subclasses`</a>(2024 new)</li>\n",
        "<li class=\"toctree-l1\"><a class=\"reference internal\" href=\"https://pytorch.org/tutorials/intermediate/scaled_dot_product_attention_tutorial.html#conclusion\">Conclusion</a>(2023 new)</li>\n",
        "<li class=\"toctree-l1\"><a class=\"reference internal\" href=\"beginner/knowledge_distillation_tutorial.html\">Knowledge Distillation Tutorial</a>(2024 new)</li>\n",
        "\n",
        "</ul>"
      ],
      "metadata": {
        "id": "1aBWsNdAx_Oc"
      }
    },
    {
      "cell_type": "markdown",
      "source": [
        "\n",
        "<p class=\"caption\" role=\"heading\"><span class=\"caption-text\">Parallel and Distributed Training</span></p>\n",
        "<ul>\n",
        "<li class=\"toctree-l1\"><a class=\"reference internal\" href=\"https://pytorch.org/tutorials/distributed/home.html\">Distributed and Parallel Training Tutorials</a>(2023 new)</li>\n",
        "<li class=\"toctree-l1\"><a class=\"reference internal\" href=\"https://pytorch.org/tutorials/beginner/dist_overview.html\">PyTorch Distributed Overview</a></li>\n",
        "<li class=\"toctree-l1\"><a class=\"reference internal\" href=\"https://pytorch.org/tutorials/beginner/ddp_series_intro.html\">Distributed Data Parallel in PyTorch - Video Tutorials</a>(2023 new)</li>\n",
        "<li class=\"toctree-l1\"><a class=\"reference internal\" href=\"https://pytorch.org/tutorials/intermediate/model_parallel_tutorial.html\">Single-Machine Model Parallel Best Practices</a></li>\n",
        "<li class=\"toctree-l1\"><a class=\"reference internal\" href=\"https://pytorch.org/tutorials/intermediate/ddp_tutorial.html\">Getting Started with Distributed Data Parallel</a></li>\n",
        "<li class=\"toctree-l1\"><a class=\"reference internal\" href=\"https://pytorch.org/tutorials/intermediate/dist_tuto.html\">Writing Distributed Applications with PyTorch</a></li>\n",
        "<li class=\"toctree-l1\"><a class=\"reference internal\" href=\"https://pytorch.org/tutorials/intermediate/FSDP_tutorial.html\">Getting Started with Fully Sharded Data Parallel(FSDP)</a>(2022 new)</li>\n",
        "<li class=\"toctree-l1\"><a class=\"reference internal\" href=\"https://pytorch.org/tutorials/intermediate/FSDP_adavnced_tutorial.html\">Advanced Model Training with Fully Sharded Data Parallel (FSDP)</a>(2022 new)</li>\n",
        "\n",
        "<li class=\"toctree-l1\"><a class=\"reference internal\" href=\"intermediate/TCPStore_libuv_backend.html\">Introduction to Libuv TCPStore Backend</a>(2024 new)</li>\n",
        "<li class=\"toctree-l1\"><a class=\"reference internal\" href=\"intermediate/TP_tutorial.html\">Large Scale Transformer model training with Tensor Parallel (TP)</a>(2024 new)</li>\n",
        "<li class=\"toctree-l1\"><a class=\"reference internal\" href=\"intermediate/pipelining_tutorial.html\">Introduction to Distributed Pipeline Parallelism</a>(2024 new)</li>\n",
        "\n",
        "<li class=\"toctree-l1\"><a class=\"reference internal\" href=\"https://pytorch.org/tutorials/intermediate/process_group_cpp_extension_tutorial.html\">Customize Process Group Backends Using Cpp Extensions</a>(2022 new)</li>\n",
        "<li class=\"toctree-l1\"><a class=\"reference internal\" href=\"https://pytorch.org/tutorials/intermediate/rpc_tutorial.html\">Getting Started with Distributed RPC Framework</a></li>\n",
        "<li class=\"toctree-l1\"><a class=\"reference internal\" href=\"https://pytorch.org/tutorials/intermediate/rpc_param_server_tutorial.html\">Implementing a Parameter Server Using Distributed RPC Framework</a></li>\n",
        "<li class=\"toctree-l1\"><a class=\"reference internal\" href=\"https://pytorch.org/tutorials/intermediate/dist_pipeline_parallel_tutorial.html\">Distributed Pipeline Parallelism Using RPC</a>(2024 deleted)</li>\n",
        "<li class=\"toctree-l1\"><a class=\"reference internal\" href=\"https://pytorch.org/tutorials/intermediate/rpc_async_execution.html\">Implementing Batch RPC Processing Using Asynchronous Executions</a></li>\n",
        "<li class=\"toctree-l1\"><a class=\"reference internal\" href=\"https://pytorch.org/tutorials/advanced/rpc_ddp_tutorial.html\">Combining Distributed DataParallel with Distributed RPC Framework</a></li>\n",
        "<li class=\"toctree-l1\"><a class=\"reference internal\" href=\"https://pytorch.org/tutorials/intermediate/pipeline_tutorial.html\">Training Transformer models using Pipeline Parallelism</a>(2024 deleted)</li>\n",
        "<li class=\"toctree-l1\"><a class=\"reference internal\" href=\"https://pytorch.org/tutorials/advanced/ddp_pipeline.html\">Training Transformer models using Distributed Data Parallel and Pipeline Parallelism</a>(2024 deleted)</li>\n",
        "<li class=\"toctree-l1\"><a class=\"reference internal\" href=\"https://pytorch.org/tutorials/advanced/generic_join.html\">Distributed Training with Uneven Inputs Using the Join Context Manager</a>(2022 new)</li>\n",
        "</ul>"
      ],
      "metadata": {
        "id": "1cIIXk4CyGlT"
      }
    },
    {
      "cell_type": "markdown",
      "source": [
        "<p class=\"caption\" role=\"heading\"><span class=\"caption-text\">Edge with ExecuTorch</span></p>\n",
        "<ul>\n",
        "<li class=\"toctree-l1\"><a class=\"reference external\" href=\"https://pytorch.org/executorch/stable/tutorials/export-to-executorch-tutorial.html\">Exporting to ExecuTorch Tutorial</a>(2024 new)</li>\n",
        "<li class=\"toctree-l1\"><a class=\"reference external\" href=\" https://pytorch.org/executorch/stable/running-a-model-cpp-tutorial.html\">Running an ExecuTorch Model in C++ Tutorial</a>(2024 new)</li>\n",
        "<li class=\"toctree-l1\"><a class=\"reference external\" href=\"https://pytorch.org/executorch/stable/tutorials/sdk-integration-tutorial.html\">Using the ExecuTorch SDK to Profile a Model</a>(2024 new)</li>\n",
        "<li class=\"toctree-l1\"><a class=\"reference external\" href=\"https://pytorch.org/executorch/stable/demo-apps-ios.html\">Building an ExecuTorch iOS Demo App</a>(2024 new)</li>\n",
        "<li class=\"toctree-l1\"><a class=\"reference external\" href=\"https://pytorch.org/executorch/stable/demo-apps-android.html\">Building an ExecuTorch Android Demo App</a>(2024 new)</li>\n",
        "<li class=\"toctree-l1\"><a class=\"reference external\" href=\"https://pytorch.org/executorch/stable/examples-end-to-end-to-lower-model-to-delegate.html\">Lowering a Model as a Delegate</a>(2024 new)</li>\n",
        "</ul>"
      ],
      "metadata": {
        "id": "PXY6mQJ91v94"
      }
    },
    {
      "cell_type": "markdown",
      "source": [
        "\n",
        "<p class=\"caption\" role=\"heading\"><span class=\"caption-text\">Mobile</span></p>\n",
        "<ul>\n",
        "<li class=\"toctree-l1\"><a class=\"reference internal\" href=\"https://pytorch.org/tutorials/beginner/deeplabv3_on_ios.html\">Image Segmentation DeepLabV3 on iOS</a>(2024 deleted)</li>\n",
        "<li class=\"toctree-l1\"><a class=\"reference internal\" href=\"https://pytorch.org/tutorials/beginner/deeplabv3_on_android.html\">Image Segmentation DeepLabV3 on Android</a>(2024 deleted)</li>\n",
        "</ul>"
      ],
      "metadata": {
        "id": "dKyl7YsfyLZ3"
      }
    },
    {
      "cell_type": "markdown",
      "source": [
        "\n",
        "<p class=\"caption\" role=\"heading\"><span class=\"caption-text\">Recommendation Systems</span></p>\n",
        "<ul>\n",
        "<li class=\"toctree-l1\"><a class=\"reference internal\" href=\"https://pytorch.org/tutorials/intermediate/torchrec_tutorial.html\">Introduction to TorchRec</a>(2022 new)</li>\n",
        "<li class=\"toctree-l1\"><a class=\"reference internal\" href=\"https://pytorch.org/tutorials/advanced/sharding.html\">Exploring TorchRec sharding</a>(2022 new)</li>\n",
        "</ul>"
      ],
      "metadata": {
        "id": "UiONWA-xyPb6"
      }
    },
    {
      "cell_type": "markdown",
      "metadata": {
        "id": "8-qyQ_4u5rsO"
      },
      "source": [
        "\n",
        "<p class=\"caption\" role=\"heading\"><span class=\"caption-text\">Multimodality (2023 new)</span></p>\n",
        "<ul>\n",
        "<li class=\"toctree-l1\"><a class=\"reference internal\" href=\"https://pytorch.org/tutorials/beginner/flava_finetuning_tutorial.html\">TorchMultimodal Tutorial: Finetuning FLAVA</a>(2023 new)</li>\n",
        "</ul>"
      ]
    },
    {
      "cell_type": "markdown",
      "metadata": {
        "id": "JsVtv1-3iuDX"
      },
      "source": [
        "---\n",
        "# PyTorch Tutorials /  Pytorch recipes\n",
        "\n",
        "Recipes (a.k.a. short sample codes) are quite useful especially when you are getting familir with Pytorch and then facing how to write codes in Pytorch style (but AI tool may help for the same purpose as of 2024...)\n",
        "\n",
        "> \"Recipes are bite-sized bite-sized, actionable examples of how to use specific PyTorch features, different from our full-length tutorials.\"\n",
        "\n",
        "https://pytorch.org/tutorials/recipes/recipes_index.html\n",
        "\n",
        "There are quite a big number of recipes!"
      ]
    },
    {
      "cell_type": "markdown",
      "metadata": {
        "id": "MXXzwS--m7e2"
      },
      "source": [
        "# Other Pytorch resources (日本語)\n",
        "\n",
        "2022年以降ではここの情報はもう古いし，各自でいいサイトを見つけて下さい．  \n",
        "2022以降になるとたくさん増えたので，好きなの探して下さい．  \n",
        "（2021年当時はまだこういうのが数少なかったのです）  \n",
        "\n",
        "* https://yutaroogawa.github.io/pytorch_tutorials_jp/  \n",
        "Pytorch公式を日本語化してるようです．でもBERTさん来たから本家を自動翻訳で済ませてもいいかも．  \n",
        "(2021.10)\n",
        "\n",
        "* https://www.codexa.net/pytorch-python/  \n",
        "PyTorch 入門！人気急上昇中のPyTorchで知っておくべき6つの基礎知識  \n",
        "(2018.12)  \n",
        "※pytorchがメジャーになりだした頃の資料  \n",
        "\n",
        "* https://www.atmarkit.co.jp/ait/articles/2003/17/news019.html  \n",
        "Colab Pro登場と、Google ColabユーザーのためのTipsトップ10  \n",
        "(2020/03)\n",
        "\n"
      ]
    },
    {
      "cell_type": "markdown",
      "metadata": {
        "id": "D2BoQXvyoXqo"
      },
      "source": [
        "---\n",
        "# Pandas\n",
        "\n",
        "> Pandas (Python Data Analysis Library) is used to cleaning the datasets. If you can do that with only numpy, it is OK, but when you comes to unite many datasets with a bit complicated conditions, this will help.\n",
        "\n",
        "Site https://pandas.pydata.org/  \n",
        "\n",
        "Check the latest version at [What's new](https://pandas.pydata.org/docs/whatsnew/)  \n",
        "\n",
        "Documentation  \n",
        "https://pandas.pydata.org/docs/\n",
        "\n",
        "Tutorial  \n",
        "https://pandas.pydata.org/pandas-docs/stable/getting_started/index.html"
      ]
    },
    {
      "cell_type": "markdown",
      "metadata": {
        "id": "9ijPyK5WSgVA"
      },
      "source": [
        "---\n",
        "Back to [index](https://github.com/kameda-yoshinari/IMISToolExeA/)  \n",
        "\n",
        "---\n",
        "Tools and Practices for Intelligent Interaction Systems A  \n",
        "Master's and Docotal programs in intelligent and mechanical interaction systems, University of Tsukuba, Japan.  \n",
        "KAMEDA Yoshinari, SHIBUYA Takeshi  \n",
        "\n",
        "知能システムツール演習a  \n",
        "知能機能システム学位プログラム (筑波大学大学院)  \n",
        "担当：亀田能成，澁谷長史  \n",
        "\n",
        "2025/07/28.  \n",
        "2024/07/29.  \n",
        "2023/07/31.  \n",
        "2023/07/06.  \n",
        "2022/08/01.  \n",
        "2021/07/26.  \n",
        "2020/06/29.\n",
        "\n"
      ]
    }
  ]
}
