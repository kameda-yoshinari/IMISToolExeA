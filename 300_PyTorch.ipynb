{
  "nbformat": 4,
  "nbformat_minor": 0,
  "metadata": {
    "colab": {
      "name": "300-PyTorch",
      "provenance": [],
      "collapsed_sections": [],
      "authorship_tag": "ABX9TyNgq+XumSVCIvUsS/W3ad4i",
      "include_colab_link": true
    },
    "kernelspec": {
      "name": "python3",
      "display_name": "Python 3"
    },
    "accelerator": "GPU",
    "gpuClass": "standard"
  },
  "cells": [
    {
      "cell_type": "markdown",
      "metadata": {
        "id": "view-in-github",
        "colab_type": "text"
      },
      "source": [
        "<a href=\"https://colab.research.google.com/github/kameda-yoshinari/IMISToolExeA2022/blob/main/300_PyTorch.ipynb\" target=\"_parent\"><img src=\"https://colab.research.google.com/assets/colab-badge.svg\" alt=\"Open In Colab\"/></a>"
      ]
    },
    {
      "cell_type": "markdown",
      "metadata": {
        "id": "CvYFa2bSBgrB"
      },
      "source": [
        "# 3. Pytorch on Google Colaboratory"
      ]
    },
    {
      "cell_type": "markdown",
      "metadata": {
        "id": "5X-PBWBVKB3f"
      },
      "source": [
        "It's very wierd. Because colab notebook is supported by Google and PyTorch is supported by Facebook. But sometimes it happens in this literature...\n",
        "\n",
        "Well written tutorials are now available (they made big effort to welcome newbies to their commmunity), so I just show the links to the tutorials.\n",
        "\n",
        "At the same time, I also show some info that how rapidly things are changing in this literature. One year is too long, even a month might be tough. In the library below, some are released in this month...\n",
        "\n",
        "Currently, TPUs on colab notebook is not natively supported by pytorch (though pytorch is designed to use \"tensor flow\" calculation -_-; But I guess it should come soon as preinstalled. (You can install[ pytorch/xla](https://github.com/pytorch/xla) compiler manually, see \"Getting Started with PyTorch on Cloud TPUs\" there.) "
      ]
    },
    {
      "cell_type": "markdown",
      "metadata": {
        "id": "Mmae-_D2NOFC"
      },
      "source": [
        "# python\n",
        "\n",
        "> python2 support was terminated on 2020/01/01.  \n",
        "So you are strongly encouraged to use python3.\n",
        "\n",
        "Site https://www.python.org/  \n",
        "\n",
        "The latest version is \n",
        "[currently 3.10.5 (2022/08/01)](https://www.python.org/downloads/release/python-3105/)   \n",
        "FYI: 3.9.6 (2021/06/28), 3.8.3 (2020/05/13)\n",
        "\n",
        "\n",
        "Tutorial  \n",
        "https://docs.python.org/3/tutorial/"
      ]
    },
    {
      "cell_type": "markdown",
      "metadata": {
        "id": "vFvK6sonyvBm"
      },
      "source": [
        "Check the version you use."
      ]
    },
    {
      "cell_type": "code",
      "metadata": {
        "id": "oWxMjRH5thHx"
      },
      "source": [
        "!python3 -VV"
      ],
      "execution_count": null,
      "outputs": []
    },
    {
      "cell_type": "markdown",
      "metadata": {
        "id": "t2AYcJ2ueVlf"
      },
      "source": [
        "# numpy\n",
        "\n",
        "> Numpy is a matlab-like extension of python.\n",
        "Matrix operations (on \"ndarray\") could be executed very efficiently. (If you want to accelate the computation, you need GPU-powered numpy compatible extention such as [CUpy](https://github.com/cupy/cupy).)\n",
        "\n",
        "Site https://numpy.org/ \n",
        "\n",
        "Numpy is being developped on github: https://github.com/numpy\n",
        "\n",
        "Currently v1.23.1 (2021/07/08) [Release history by github tag](https://github.com/numpy/numpy/tags)   \n",
        " \n",
        "Quickstart tutorial  \n",
        "https://numpy.org/devdocs/user/quickstart.html"
      ]
    },
    {
      "cell_type": "markdown",
      "metadata": {
        "id": "Cq7Q1SgfzMzS"
      },
      "source": [
        "Check the version and verify that it is from github."
      ]
    },
    {
      "cell_type": "code",
      "metadata": {
        "id": "gKzRCrQGvX9p"
      },
      "source": [
        "import numpy as np\n",
        "\n",
        "print(np.__version__)\n",
        "print(np.version.git_revision)"
      ],
      "execution_count": null,
      "outputs": []
    },
    {
      "cell_type": "markdown",
      "metadata": {
        "id": "ewjdPljmjU1U"
      },
      "source": [
        "#Pytorch main\n",
        "\n",
        "> Pytorch is the newly coming ([2016-](https://github.com/pytorch/pytorch/releases/tag/v0.1.1)) open source library to provide machine learning techniques by way of deep newral network and it can get benefits from GPU. Since it comes lastly, it covers advantages that other libraries have. Supported by Facebook (at this moment).\n",
        "\n",
        "> As of 2020/06, pytorch is preinstalled to the colab instances (so far as I remember, it was not in 2019.)\n",
        "\n",
        "Site https://pytorch.org/\n",
        "\n",
        "Pytorch is being developped on github: https://github.com/pytorch/pytorch\n",
        "\n",
        "Currently Ver 1.9.0 (2020/06/18)  [Release history by github tag](https://github.com/pytorch/pytorch/tags)\n",
        "\n",
        "\n",
        "\n"
      ]
    },
    {
      "cell_type": "markdown",
      "metadata": {
        "id": "UE1HJN0w3Cqc"
      },
      "source": [
        "Check the version and verify that it is from github."
      ]
    },
    {
      "cell_type": "code",
      "metadata": {
        "id": "9qIUvy2b1T-5"
      },
      "source": [
        "import torch\n",
        "\n",
        "print(torch.__version__)\n",
        "print(torch.version.git_version)"
      ],
      "execution_count": null,
      "outputs": []
    },
    {
      "cell_type": "markdown",
      "metadata": {
        "id": "94stPgEXdAAl"
      },
      "source": [
        "---\n",
        "# Pytorch tutorial\n",
        "\n",
        "> There are many tutorials, but since the official tutorial supports colab notebook natively (and google translator is now very smart since 2019/11, thank you [BERT!](https://ai.googleblog.com/2018/11/open-sourcing-bert-state-of-art-pre.html)), I strongly recommend you to see the official tutorial first.\n",
        "\n",
        "\n",
        "https://pytorch.org/tutorials/\n",
        "\n",
        "Pytorch tutorals are colab-ready.  \n",
        "These two are strongly encouraged to learn.\n",
        "\n",
        "1. Deep Learning with PyTorch: A 60 Minute Blitz\n",
        "2. Learning PyTorch with Examples\n",
        "\n",
        "You should pick up as many as possible as for you have time (for assigned class time, say 2.5 hours in total).\n",
        "\n",
        "\n",
        "The list below is as of 2022/08/01.\n",
        "FYI, this year, they start to provide YouTube video lessons too (See \"Intorduction to PyTorch on YouTube).\n",
        "\n"
      ]
    },
    {
      "cell_type": "markdown",
      "metadata": {
        "id": "8-qyQ_4u5rsO"
      },
      "source": [
        "\n",
        "<p class=\"caption\"><span class=\"caption-text\">Introduction to PyTorch</span></p>\n",
        "<ul>\n",
        "<li class=\"toctree-l1\"><a class=\"reference internal\" href=\"https://pytorch.org/tutorials/beginner/basics/intro.html\">Learn the Basics</a></li>\n",
        "<li class=\"toctree-l1\"><a class=\"reference internal\" href=\"https://pytorch.org/tutorials/beginner/basics/quickstart_tutorial.html\">Quickstart</a></li>\n",
        "<li class=\"toctree-l1\"><a class=\"reference internal\" href=\"https://pytorch.org/tutorials/beginner/basics/tensorqs_tutorial.html\">Tensors</a></li>\n",
        "<li class=\"toctree-l1\"><a class=\"reference internal\" href=\"https://pytorch.org/tutorials/beginner/basics/data_tutorial.html\">Datasets &amp; Dataloaders</a></li>\n",
        "<li class=\"toctree-l1\"><a class=\"reference internal\" href=\"https://pytorch.org/tutorials/beginner/basics/transforms_tutorial.html\">Transforms</a></li>\n",
        "<li class=\"toctree-l1\"><a class=\"reference internal\" href=\"https://pytorch.org/tutorials/beginner/basics/buildmodel_tutorial.html\">Build the Neural Network</a></li>\n",
        "<li class=\"toctree-l1\"><a class=\"reference internal\" href=\"https://pytorch.org/tutorials/beginner/basics/autogradqs_tutorial.html\">Automatic Differentiation with <code class=\"docutils literal notranslate\"><span class=\"pre\">torch.autograd</span></code></a></li>\n",
        "<li class=\"toctree-l1\"><a class=\"reference internal\" href=\"https://pytorch.org/tutorials/beginner/basics/optimization_tutorial.html\">Optimizing Model Parameters</a></li>\n",
        "<li class=\"toctree-l1\"><a class=\"reference internal\" href=\"https://pytorch.org/tutorials/beginner/basics/saveloadrun_tutorial.html\">Save and Load the Model</a></li>\n",
        "</ul>\n",
        "<p class=\"caption\"><span class=\"caption-text\">Learning PyTorch</span></p>\n",
        "<ul>\n",
        "<li class=\"toctree-l1\"><a class=\"reference internal\" href=\"https://pytorch.org/tutorials/beginner/deep_learning_60min_blitz.html\">Deep Learning with PyTorch: A 60 Minute Blitz</a></li>\n",
        "<li class=\"toctree-l1\"><a class=\"reference internal\" href=\"https://pytorch.org/tutorials/beginner/pytorch_with_examples.html\">Learning PyTorch with Examples</a></li>\n",
        "<li class=\"toctree-l1\"><a class=\"reference internal\" href=\"https://pytorch.org/tutorials/beginner/nn_tutorial.html\">What is <cite>torch.nn</cite> <em>really</em>?</a></li>\n",
        "<li class=\"toctree-l1\"><a class=\"reference internal\" href=\"https://pytorch.org/tutorials/intermediate/tensorboard_tutorial.html\">Visualizing Models, Data, and Training with TensorBoard</a></li>\n",
        "</ul>\n",
        "<p class=\"caption\"><span class=\"caption-text\">Image and Video</span></p>\n",
        "<ul>\n",
        "<li class=\"toctree-l1\"><a class=\"reference internal\" href=\"https://pytorch.org/tutorials/intermediate/torchvision_tutorial.html\">TorchVision Object Detection Finetuning Tutorial</a></li>\n",
        "<li class=\"toctree-l1\"><a class=\"reference internal\" href=\"https://pytorch.org/tutorials/beginner/transfer_learning_tutorial.html\">Transfer Learning for Computer Vision Tutorial</a></li>\n",
        "<li class=\"toctree-l1\"><a class=\"reference internal\" href=\"https://pytorch.org/tutorials/beginner/fgsm_tutorial.html\">Adversarial Example Generation</a></li>\n",
        "<li class=\"toctree-l1\"><a class=\"reference internal\" href=\"https://pytorch.org/tutorials/beginner/dcgan_faces_tutorial.html\">DCGAN Tutorial</a></li>\n",
        "<li class=\"toctree-l1 current\"><a class=\"current reference internal\" href=\"#\">Spatial Transformer Networks Tutorial</a> (2022 new)</li> \n",
        "<li class=\"toctree-l1\"><a class=\"reference internal\" href=\"https://pytorch.org/tutorials/beginner/vt_tutorial.html\">Optimizing Vision Transformer Model for Deployment</a></li>\n",
        "</ul>\n",
        "<p class=\"caption\"><span class=\"caption-text\">Audio</span></p>\n",
        "<ul>\n",
        "<li class=\"toctree-l1\"><a class=\"reference internal\" href=\"https://pytorch.org/tutorials/beginner/audio_io_tutorial.html\">Audio I/O</a></li>\n",
        "<li class=\"toctree-l1\"><a class=\"reference internal\" href=\"https://pytorch.org/tutorials/beginner/audio_resampling_tutorial.html\">Audio Resampling</a></li>\n",
        "<li class=\"toctree-l1\"><a class=\"reference internal\" href=\"https://pytorch.org/tutorials/beginner/audio_data_augmentation_tutorial.html\">Audio Data Augmentation</a></li>\n",
        "<li class=\"toctree-l1\"><a class=\"reference internal\" href=\"https://pytorch.org/tutorials/beginner/audio_feature_extractions_tutorial.html\">Audio Feature Extractions</a></li>\n",
        "<li class=\"toctree-l1\"><a class=\"reference internal\" href=\"https://pytorch.org/tutorials/beginner/audio_feature_augmentation_tutorial.html\">Audio Feature Augmentation</a></li>\n",
        "<li class=\"toctree-l1\"><a class=\"reference internal\" href=\"https://pytorch.org/tutorials/beginner/audio_datasets_tutorial.html\">Audio Datasets</a></li>\n",
        "<li class=\"toctree-l1\"><a class=\"reference internal\" href=\"speech_recognition_pipeline_tutorial.html\">Speech Recognition with Wav2Vec2</a> (2022 new)</li>\n",
        "<li class=\"toctree-l1\"><a class=\"reference internal\" href=\"speech_command_classification_with_torchaudio_tutorial.html\">Speech Command Classification with torchaudio</a></li>\n",
        "<li class=\"toctree-l1\"><a class=\"reference internal\" href=\"text_to_speech_with_torchaudio.html\">Text-to-speech with torchaudio</a> (2022 new)</li>\n",
        "<li class=\"toctree-l1\"><a class=\"reference internal\" href=\"forced_alignment_with_torchaudio_tutorial.html\">Forced Alignment with Wav2Vec2</a> (2022 new)</li>\n",
        "</ul>\n",
        "\n",
        "<p class=\"caption\"><span class=\"caption-text\">Text</span></p>\n",
        "<ul>\n",
        "<li class=\"toctree-l1\"><a class=\"reference internal\" href=\"https://pytorch.org/tutorials/beginner/transformer_tutorial.html\">Language Modeling with nn.Transformer and TorchText</a></li>\n",
        "<li class=\"toctree-l1\"><a class=\"reference internal\" href=\"https://pytorch.org/tutorials/beginner/bettertransformer_tutorial.html\">Fast Transformer Inference with Better Transformer</a> (2022 new)</li>\n",
        "<li class=\"toctree-l1\"><a class=\"reference internal\" href=\"char_rnn_classification_tutorial.html\">NLP From Scratch: Classifying Names with a Character-Level RNN</a></li>\n",
        "<li class=\"toctree-l1\"><a class=\"reference internal\" href=\"char_rnn_generation_tutorial.html\">NLP From Scratch: Generating Names with a Character-Level RNN</a></li>\n",
        "<li class=\"toctree-l1\"><a class=\"reference internal\" href=\"seq2seq_translation_tutorial.html\">NLP From Scratch: Translation with a Sequence to Sequence Network and Attention</a></li>\n",
        "<li class=\"toctree-l1\"><a class=\"reference internal\" href=\"https://pytorch.org/tutorials/beginner/text_sentiment_ngrams_tutorial.html\">Text classification with the torchtext library</a></li>\n",
        "<li class=\"toctree-l1\"><a class=\"reference internal\" href=\"https://pytorch.org/tutorials/beginner/translation_transformer.html\">Language Translation with nn.Transformer and torchtext</a></li>\n",
        "</ul>\n",
        "\n",
        "<p class=\"caption\"><span class=\"caption-text\">Reinforcement Learning</span></p>\n",
        "<ul>\n",
        "<li class=\"toctree-l1\"><a class=\"reference internal\" href=\"https://pytorch.org/tutorials/intermediate/reinforcement_q_learning.html\">Reinforcement Learning (DQN) Tutorial</a></li>\n",
        "<li class=\"toctree-l1\"><a class=\"reference internal\" href=\"https://pytorch.org/tutorials/intermediate/mario_rl_tutorial.html\">Train a Mario-playing RL Agent</a></li>\n",
        "</ul>\n",
        "\n",
        "<p class=\"caption\"><span class=\"caption-text\">Deploying PyTorch Models in Production</span></p>\n",
        "<ul>\n",
        "<li class=\"toctree-l1\"><a class=\"reference internal\" href=\"flask_rest_api_tutorial.html\">Deploying PyTorch in Python via a REST API with Flask</a></li>\n",
        "<li class=\"toctree-l1\"><a class=\"reference internal\" href=\"https://pytorch.org/tutorials/beginner/Intro_to_TorchScript_tutorial.html\">Introduction to TorchScript</a></li>\n",
        "<li class=\"toctree-l1\"><a class=\"reference internal\" href=\"https://pytorch.org/tutorials/advanced/cpp_export.html\">Loading a TorchScript Model in C++</a></li>\n",
        "<li class=\"toctree-l1\"><a class=\"reference internal\" href=\"https://pytorch.org/tutorials/advanced/super_resolution_with_onnxruntime.html\">(optional) Exporting a Model from PyTorch to ONNX and Running it using ONNX Runtime</a></li>\n",
        "<li class=\"toctree-l1\"><a class=\"reference internal\" href=\"realtime_rpi.html\">Real Time Inference on Raspberry Pi 4 (30 fps!)</a> (2022 new)</li>\n",
        "</ul>\n",
        "\n",
        "<p class=\"caption\"><span class=\"caption-text\">Code Transforms with FX</span></p>\n",
        "<ul>\n",
        "<li class=\"toctree-l1\"><a class=\"reference internal\" href=\"https://pytorch.org/tutorials/intermediate/fx_conv_bn_fuser.html\">(beta) Building a Convolution/Batch Norm fuser in FX</a></li>\n",
        "<li class=\"toctree-l1\"><a class=\"reference internal\" href=\"https://pytorch.org/tutorials/intermediate/fx_profiling_tutorial.html\">(beta) Building a Simple CPU Performance Profiler with FX</a></li>\n",
        "</ul>\n",
        "\n",
        "<p class=\"caption\"><span class=\"caption-text\">Frontend APIs</span></p>\n",
        "<ul>\n",
        "<li class=\"toctree-l1\"><a class=\"reference internal\" href=\"memory_format_tutorial.html\">(beta) Channels Last Memory Format in PyTorch</a></li>\n",
        "<li class=\"toctree-l1\"><a class=\"reference internal\" href=\"forward_ad_usage.html\">Forward-mode Automatic Differentiation (Beta)</a>(2022 new)</li>\n",
        "<li class=\"toctree-l1\"><a class=\"reference internal\" href=\"https://pytorch.org/tutorials/advanced/cpp_frontend.html\">Using the PyTorch C++ Frontend</a></li>\n",
        "<li class=\"toctree-l1\"><a class=\"reference internal\" href=\"https://pytorch.org/tutorials/advanced/torch-script-parallelism.html\">Dynamic Parallelism in TorchScript</a></li>\n",
        "<li class=\"toctree-l1\"><a class=\"reference internal\" href=\"https://pytorch.org/tutorials/advanced/cpp_autograd.html\">Autograd in C++ Frontend</a></li>\n",
        "</ul>\n",
        "\n",
        "<p class=\"caption\"><span class=\"caption-text\">Extending PyTorch</span></p>\n",
        "<ul>\n",
        "<li class=\"toctree-l1\"><a class=\"reference internal\" href=\"custom_function_double_backward_tutorial.html\">Double Backward with Custom Functions</a>(2022 new)</li>\n",
        "<li class=\"toctree-l1\"><a class=\"reference internal\" href=\"custom_function_conv_bn_tutorial.html\">Fusing Convolution and Batch Norm using Custom Function</a>(2022 new)</li>\n",
        "<li class=\"toctree-l1\"><a class=\"reference internal\" href=\"https://pytorch.org/tutorials/advanced/cpp_extension.html\">Custom C++ and CUDA Extensions</a></li>\n",
        "<li class=\"toctree-l1\"><a class=\"reference internal\" href=\"https://pytorch.org/tutorials/advanced/torch_script_custom_ops.html\">Extending TorchScript with Custom C++ Operators</a></li>\n",
        "<li class=\"toctree-l1\"><a class=\"reference internal\" href=\"https://pytorch.org/tutorials/advanced/torch_script_custom_classes.html\">Extending TorchScript with Custom C++ Classes</a></li>\n",
        "<li class=\"toctree-l1\"><a class=\"reference internal\" href=\"https://pytorch.org/tutorials/advanced/dispatcher.html\">Registering a Dispatched Operator in C++</a></li>\n",
        "<li class=\"toctree-l1\"><a class=\"reference internal\" href=\"https://pytorch.org/tutorials/advanced/extend_dispatcher.html\">Extending dispatcher for a new backend in C++</a></li>\n",
        "</ul>\n",
        "\n",
        "<p class=\"caption\"><span class=\"caption-text\">Model Optimization</span></p>\n",
        "<ul>\n",
        "<li class=\"toctree-l1\"><a class=\"reference internal\" href=\"https://pytorch.org/tutorials/beginner/profiler.html\">Profiling your PyTorch Module</a></li>\n",
        "<li class=\"toctree-l1\"><a class=\"reference internal\" href=\"tensorboard_profiler_tutorial.html\">PyTorch Profiler With TensorBoard</a></li>\n",
        "<li class=\"toctree-l1\"><a class=\"reference internal\" href=\"https://pytorch.org/tutorials/beginner/hyperparameter_tuning_tutorial.html\">Hyperparameter tuning with Ray Tune</a></li>\n",
        "<li class=\"toctree-l1\"><a class=\"reference internal\" href=\"https://pytorch.org/tutorials/beginner/vt_tutorial.html\">Optimizing Vision Transformer Model for Deployment</a></li>\n",
        "<li class=\"toctree-l1\"><a class=\"reference internal\" href=\"parametrizations.html\">Parametrizations Tutorial</a></li>\n",
        "<li class=\"toctree-l1\"><a class=\"reference internal\" href=\"pruning_tutorial.html\">Pruning Tutorial</a></li>\n",
        "<li class=\"toctree-l1\"><a class=\"reference internal\" href=\"https://pytorch.org/tutorials/advanced/dynamic_quantization_tutorial.html\">(beta) Dynamic Quantization on an LSTM Word Language Model</a></li>\n",
        "<li class=\"toctree-l1\"><a class=\"reference internal\" href=\"dynamic_quantization_bert_tutorial.html\">(beta) Dynamic Quantization on BERT</a></li>\n",
        "<li class=\"toctree-l1\"><a class=\"reference internal\" href=\"quantized_transfer_learning_tutorial.html\">(beta) Quantized Transfer Learning for Computer Vision Tutorial</a></li>\n",
        "<li class=\"toctree-l1\"><a class=\"reference internal\" href=\"https://pytorch.org/tutorials/advanced/static_quantization_tutorial.html\">(beta) Static Quantization with Eager Mode in PyTorch</a></li>\n",
        "<li class=\"toctree-l1\"><a class=\"reference internal\" href=\"torchserve_with_ipex.html\">Grokking PyTorch Intel CPU performance from first principles</a>(2022 new)</li>\n",
        "</ul>\n",
        "\n",
        "<p class=\"caption\"><span class=\"caption-text\">Parallel and Distributed Training</span></p>\n",
        "<ul>\n",
        "<li class=\"toctree-l1\"><a class=\"reference internal\" href=\"https://pytorch.org/tutorials/beginner/dist_overview.html\">PyTorch Distributed Overview</a></li>\n",
        "<li class=\"toctree-l1\"><a class=\"reference internal\" href=\"model_parallel_tutorial.html\">Single-Machine Model Parallel Best Practices</a></li>\n",
        "<li class=\"toctree-l1\"><a class=\"reference internal\" href=\"ddp_tutorial.html\">Getting Started with Distributed Data Parallel</a></li>\n",
        "<li class=\"toctree-l1\"><a class=\"reference internal\" href=\"dist_tuto.html\">Writing Distributed Applications with PyTorch</a></li>\n",
        "<li class=\"toctree-l1\"><a class=\"reference internal\" href=\"FSDP_tutorial.html\">Getting Started with Fully Sharded Data Parallel(FSDP)</a>(2022 new)</li>\n",
        "<li class=\"toctree-l1\"><a class=\"reference internal\" href=\"FSDP_adavnced_tutorial.html\">Advanced Model Training with Fully Sharded Data Parallel (FSDP)</a>(2022 new)</li>\n",
        "<li class=\"toctree-l1\"><a class=\"reference internal\" href=\"process_group_cpp_extension_tutorial.html\">Customize Process Group Backends Using Cpp Extensions</a>(2022 new)</li>\n",
        "<li class=\"toctree-l1\"><a class=\"reference internal\" href=\"rpc_tutorial.html\">Getting Started with Distributed RPC Framework</a></li>\n",
        "<li class=\"toctree-l1\"><a class=\"reference internal\" href=\"rpc_param_server_tutorial.html\">Implementing a Parameter Server Using Distributed RPC Framework</a></li>\n",
        "<li class=\"toctree-l1\"><a class=\"reference internal\" href=\"dist_pipeline_parallel_tutorial.html\">Distributed Pipeline Parallelism Using RPC</a></li>\n",
        "<li class=\"toctree-l1\"><a class=\"reference internal\" href=\"rpc_async_execution.html\">Implementing Batch RPC Processing Using Asynchronous Executions</a></li>\n",
        "<li class=\"toctree-l1\"><a class=\"reference internal\" href=\"https://pytorch.org/tutorials/advanced/rpc_ddp_tutorial.html\">Combining Distributed DataParallel with Distributed RPC Framework</a></li>\n",
        "<li class=\"toctree-l1\"><a class=\"reference internal\" href=\"pipeline_tutorial.html\">Training Transformer models using Pipeline Parallelism</a></li>\n",
        "<li class=\"toctree-l1\"><a class=\"reference internal\" href=\"https://pytorch.org/tutorials/advanced/ddp_pipeline.html\">Training Transformer models using Distributed Data Parallel and Pipeline Parallelism</a></li>\n",
        "<li class=\"toctree-l1\"><a class=\"reference internal\" href=\"https://pytorch.org/tutorials/advanced/generic_join.html\">Distributed Training with Uneven Inputs Using the Join Context Manager</a>(2022 new)</li>\n",
        "</ul>\n",
        "<p class=\"caption\"><span class=\"caption-text\">Mobile</span></p>\n",
        "<ul>\n",
        "<li class=\"toctree-l1\"><a class=\"reference internal\" href=\"https://pytorch.org/tutorials/beginner/deeplabv3_on_ios.html\">Image Segmentation DeepLabV3 on iOS</a></li>\n",
        "<li class=\"toctree-l1\"><a class=\"reference internal\" href=\"https://pytorch.org/tutorials/beginner/deeplabv3_on_android.html\">Image Segmentation DeepLabV3 on Android</a></li>\n",
        "</ul>\n",
        "\n",
        "<p class=\"caption\" role=\"heading\"><span class=\"caption-text\">Recommendation Systems</span></p>\n",
        "<ul>\n",
        "<li class=\"toctree-l1\"><a class=\"reference internal\" href=\"torchrec_tutorial.html\">Introduction to TorchRec</a>(2022 new)</li>\n",
        "<li class=\"toctree-l1\"><a class=\"reference internal\" href=\"https://pytorch.org/tutorials/advanced/sharding.html\">Exploring TorchRec sharding</a>(2022 new)</li>\n",
        "</ul>"
      ]
    },
    {
      "cell_type": "markdown",
      "metadata": {
        "id": "JsVtv1-3iuDX"
      },
      "source": [
        "---\n",
        "# Pytorch recipes\n",
        "\n",
        "> \"Recipes are bite-sized bite-sized, actionable examples of how to use specific PyTorch features, different from our full-length tutorials.\"\n",
        "\n",
        "https://pytorch.org/tutorials/recipes/recipes_index.html\n",
        "\n",
        "Below is the list of recipes as of 2021/07/25.\n"
      ]
    },
    {
      "cell_type": "markdown",
      "metadata": {
        "id": "xmdenWC99mVG"
      },
      "source": [
        " * [Loading data in PyTorch](https://pytorch.org/tutorials/recipes/recipes/loading_data_recipe.html)  \n",
        "Learn how to use PyTorch packages to prepare and load common datasets for your model.  \n",
        " * [Defining a Neural Network](https://pytorch.org/tutorials/recipes/recipes/defining_a_neural_network.html)  \n",
        "Learn how to use PyTorch's torch.nn package to create and define a neural network for the MNIST dataset.  \n",
        " * [What is a state_dict in PyTorch](https://pytorch.org/tutorials/recipes/recipes/what_is_state_dict.html)  \n",
        "Learn how state_dict objects and Python dictionaries are used in saving or loading models from PyTorch.  \n",
        " * [Saving and loading models for inference in PyTorch](https://pytorch.org/tutorials/recipes/recipes/saving_and_loading_models_for_inference.html)  \n",
        "Learn about the two approaches for saving and loading models for inference in PyTorch - via the state_dict and via the entire model.  \n",
        " * [Saving and loading a general checkpoint in PyTorch](https://pytorch.org/tutorials/recipes/recipes/saving_and_loading_a_general_checkpoint.html)  \n",
        "Saving and loading a general checkpoint model for inference or resuming training can be helpful for picking up where you last left off. In this recipe, explore how to save and load multiple checkpoints.  \n",
        " * [Saving and loading multiple models in one file using PyTorch](https://pytorch.org/tutorials/recipes/recipes/saving_multiple_models_in_one_file.html)  \n",
        "In this recipe, learn how saving and loading multiple models can be helpful for reusing models that you have previously trained.  \n",
        " * [Warmstarting model using parameters from a different model in PyTorch](https://pytorch.org/tutorials/recipes/recipes/warmstarting_model_using_parameters_from_a_different_model.html)  \n",
        "Learn how warmstarting the training process by partially loading a model or loading a partial model can help your model converge much faster than training from scratch.  \n",
        " * [Saving and loading models across devices in PyTorch](https://pytorch.org/tutorials/recipes/recipes/save_load_across_devices.html)  \n",
        "Learn how saving and loading models across devices (CPUs and GPUs) is relatively straightforward using PyTorch.  \n",
        " * [Zeroing out gradients in PyTorch](https://pytorch.org/tutorials/recipes/recipes/zeroing_out_gradients.html)  \n",
        "Learn when you should zero out gradients and how doing so can help increase the accuracy of your model.  \n",
        " * [PyTorch Benchmark](https://pytorch.org/tutorials/recipes/recipes/benchmark.html)  \n",
        "Learn how to use PyTorch's benchmark module to measure and compare the performance of your code  \n",
        " * [PyTorch Benchmark (quick start)](https://pytorch.org/tutorials/recipes/recipes/timer_quick_start.html)  \n",
        "Learn how to measure snippet run times and collect instructions.  \n",
        " * [PyTorch Profiler](https://pytorch.org/tutorials/recipes/recipes/profiler_recipe.html)  \n",
        "Learn how to use PyTorch's profiler to measure operators time and memory consumption  \n",
        " * [Model Interpretability using Captum](https://pytorch.org/tutorials/recipes/recipes/Captum_Recipe.html)  \n",
        "Learn how to use Captum attribute the predictions of an image classifier to their corresponding image features and visualize the attribution results.  \n",
        " * [How to use TensorBoard with PyTorch](https://pytorch.org/tutorials/recipes/recipes/tensorboard_with_pytorch.html)  \n",
        "Learn basic usage of TensorBoard with PyTorch, and how to visualize data in TensorBoard UI  \n",
        " * [Dynamic Quantization](https://pytorch.org/tutorials/recipes/recipes/dynamic_quantization.html)  \n",
        "Apply dynamic quantization to a simple LSTM model.  \n",
        " * [TorchScript for Deployment](https://pytorch.org/tutorials/recipes/torchscript_inference.html)  \n",
        "Learn how to export your trained model in TorchScript format and how to load your TorchScript model in C++ and do inference.  \n",
        " * [Deploying with Flask](https://pytorch.org/tutorials/recipes/deployment_with_flask.html)  \n",
        "Learn how to use Flask, a lightweight web server, to quickly setup a web API from your trained PyTorch model.  \n",
        " * [PyTorch Mobile Performance Recipes](https://pytorch.org/tutorials/recipes/mobile_perf.html)  \n",
        "List of recipes for performance optimizations for using PyTorch on Mobile (Android and iOS).  \n",
        " * [Making Android Native Application That Uses PyTorch Android Prebuilt Libraries](https://pytorch.org/tutorials/recipes/android_native_app_with_custom_op.html)  \n",
        "Learn how to make Android application from the scratch that uses LibTorch C++ API and uses TorchScript model with custom C++ operator.  \n",
        " * [Fuse Modules recipe](https://pytorch.org/tutorials/recipes/fuse.html)  \n",
        "Learn how to fuse a list of PyTorch modules into a single module to reduce the model size before quantization.  \n",
        " * [Quantization for Mobile Recipe](https://pytorch.org/tutorials/recipes/quantization.html)  \n",
        "Learn how to reduce the model size and make it run faster without losing much on accuracy.  \n",
        " * [Script and Optimize for Mobile](https://pytorch.org/tutorials/recipes/script_optimized.html)  \n",
        "Learn how to convert the model to TorchScipt and (optional) optimize it for mobile apps.  \n",
        " * [Model Preparation for iOS Recipe](https://pytorch.org/tutorials/recipes/model_preparation_ios.html)  \n",
        "Learn how to add the model in an iOS project and use PyTorch pod for iOS.  \n",
        " * [Model Preparation for Android Recipe](https://pytorch.org/tutorials/recipes/model_preparation_android.html)  \n",
        "Learn how to add the model in an Android project and use the PyTorch library for Android.  \n",
        " * [Mobile Interpreter Workflow in Android and iOS](https://pytorch.org/tutorials/recipes/mobile_interpreter.html)  \n",
        "Learn how to use the mobile interpreter on iOS and Andriod devices.  \n",
        " * [Profiling PyTorch RPC-Based Workloads](https://pytorch.org/tutorials/recipes/distributed_rpc_profiling.html)  \n",
        "How to use the PyTorch profiler to profile RPC-based workloads.  \n",
        " * [Automatic Mixed Precision](https://pytorch.org/tutorials/recipes/recipes/amp_recipe.html)  \n",
        "Use torch.cuda.amp to reduce runtime and save memory on NVIDIA GPUs.  \n",
        " * [Performance Tuning Guide](https://pytorch.org/tutorials/recipes/recipes/tuning_guide.html)  \n",
        "Tips for achieving optimal performance.  \n",
        " * [Intel® Extension for PyTorch*](https://pytorch.org/tutorials/recipes/intel_extension_for_pytorch.html)  \n",
        "Introduction of Intel® Extension for PyTorch*  \n",
        " * [Intel® Neural Compressor for PyTorch](https://pytorch.org/tutorials/recipes/intel_neural_compressor_for_pytorch.html)  \n",
        "Ease-of-use quantization for PyTorch with Intel® Neural Compressor.  \n",
        " * [Shard Optimizer States with ZeroRedundancyOptimizer](https://pytorch.org/tutorials/recipes/zero_redundancy_optimizer.html)  \n",
        "How to use ZeroRedundancyOptimizer to reduce memory consumption.  \n",
        " * [Direct Device-to-Device Communication with TensorPipe RPC](https://pytorch.org/tutorials/recipes/cuda_rpc.html)  \n",
        "How to use RPC with direct GPU-to-GPU communication.  \n",
        " * [Distributed Optimizer with TorchScript support](https://pytorch.org/tutorials/recipes/distributed_optim_torchscript.html)  \n",
        "How to enable TorchScript support for Distributed Optimizer.  \n"
      ]
    },
    {
      "cell_type": "markdown",
      "metadata": {
        "id": "MXXzwS--m7e2"
      },
      "source": [
        "# Other Pytorch resources (日本語)\n",
        "\n",
        "2022になるとたくさんあるので，好きなの探して下さい．\n",
        "\n",
        "* https://yutaroogawa.github.io/pytorch_tutorials_jp/  \n",
        "Pytorch公式を日本語化してるようです．でもBERTさん来たから本家を自動翻訳で済ませてもいいかも．  \n",
        "(2021.10)\n",
        "\n",
        "* https://www.codexa.net/pytorch-python/  \n",
        "PyTorch 入門！人気急上昇中のPyTorchで知っておくべき6つの基礎知識  \n",
        "(2018.12)  \n",
        "※pytorchがメジャーになりだした頃の資料  \n",
        "\n",
        "* https://www.atmarkit.co.jp/ait/articles/2003/17/news019.html  \n",
        "Colab Pro登場と、Google ColabユーザーのためのTipsトップ10  \n",
        "(2020/03)\n",
        "\n"
      ]
    },
    {
      "cell_type": "markdown",
      "metadata": {
        "id": "D2BoQXvyoXqo"
      },
      "source": [
        "---\n",
        "# Pandas\n",
        "\n",
        "> Pandas (Python Data Analysis Library) is used to cleaning the datasets. If you can do that with only numpy, it is OK, but when you comes to unite many datasets with a bit complicated conditions, this will help.\n",
        "\n",
        "Site https://pandas.pydata.org/  \n",
        "\n",
        "Currently 1.4.3 [What's new](https://pandas.pydata.org/docs/whatsnew/) (2022/06/23)  \n",
        "FYI, 1.3.1 (2021/07/25), 1.0.5 (2020/06/17)\n",
        "\n",
        "Documentation  \n",
        "https://pandas.pydata.org/docs/\n",
        "\n",
        "Tutorial  \n",
        "https://pandas.pydata.org/pandas-docs/stable/getting_started/intro_tutorials/index.html"
      ]
    },
    {
      "cell_type": "markdown",
      "metadata": {
        "id": "9ijPyK5WSgVA"
      },
      "source": [
        "---\n",
        "Tools and Practices for Intelligent Interaction Systems A  \n",
        "Master's and Docotal programs in intelligent and mechanical interaction systems, University of Tsukuba, Japan.  \n",
        "KAMEDA Yoshinari, SHIBUYA Takeshi  \n",
        "\n",
        "知能システムツール演習a  \n",
        "知能機能システム学位プログラム (筑波大学大学院)  \n",
        "担当：亀田能成，澁谷長史  \n",
        "\n",
        "2022/08/01.  \n",
        "2021/07/26.  \n",
        "2020/06/29.\n",
        "\n"
      ]
    }
  ]
}