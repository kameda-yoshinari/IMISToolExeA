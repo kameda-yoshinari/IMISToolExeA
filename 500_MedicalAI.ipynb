{
  "nbformat": 4,
  "nbformat_minor": 0,
  "metadata": {
    "colab": {
      "name": "500-MedicalAI",
      "provenance": [],
      "collapsed_sections": [],
      "authorship_tag": "ABX9TyN3gt+4tYR7RGG0ejBAui7U",
      "include_colab_link": true
    },
    "kernelspec": {
      "name": "python3",
      "display_name": "Python 3"
    },
    "accelerator": "TPU"
  },
  "cells": [
    {
      "cell_type": "markdown",
      "metadata": {
        "id": "view-in-github",
        "colab_type": "text"
      },
      "source": [
        "<a href=\"https://colab.research.google.com/github/kameda-yoshinari/IMISToolExeA2021/blob/main/500_MedicalAI.ipynb\" target=\"_parent\"><img src=\"https://colab.research.google.com/assets/colab-badge.svg\" alt=\"Open In Colab\"/></a>"
      ]
    },
    {
      "cell_type": "markdown",
      "metadata": {
        "id": "CvYFa2bSBgrB"
      },
      "source": [
        "# 5. Medical AI expert course online course material\n",
        "\n",
        "An academy provides well organized online course tutorial with some practical (medical) examples.\n",
        "\n",
        "An example of building up deep learning machine from scratch.  \n",
        "It was prepared for 2019 cource, so it is a bit obsolute, but yet it could be useful especially those who prefer to see Japanese text.\n",
        "Tutorials are all colab-ready.\n",
        "\n",
        "* [メディカルAI専門コース オンライン講義資料](https://japan-medical-ai.github.io/medical-ai-course-materials/) (Japanese material)\n",
        "\n",
        "Index: \n",
        "\n",
        "1. 機械学習に必要な数学の基礎\n",
        "2. 機械学習ライブラリの基礎\n",
        "3. ニューラルネットワークの基礎\n",
        "4. Deep Learningフレームワークの基礎\n",
        "5. 実践編: MRI画像のセグメンテーション\n",
        "6. 実践編: 血液の顕微鏡画像からの細胞検出\n",
        "7. 実践編: ディープラーニングを使った配列解析\n",
        "8. 実践編: ディープラーニングを使ったモニタリングデータの時系列解析\n",
        "\n",
        "The course was supervised by a guy from [Preferred networks](https://preferred.jp/ja/) (Japan) who are the developpeers of [chainer](https://chainer.org/). So the content was written on chainer.\n",
        "\n",
        "Unfortunately, Prefered networks announced [they close deveopment of chainer](https://preferred.jp/ja/news/pr20191205/) (and shift to pytorch since pytorch also follow the define-by-run strategy which is the advantageous point of chainer) on 2019/12/05.\n",
        "\n",
        "As of 2021/07/26, chainer is out of the pre-installed packages at google colaboratory. So you have to install chainer by yourself.\n",
        "\n",
        "The last version of chainer is 7.8.0."
      ]
    },
    {
      "cell_type": "markdown",
      "metadata": {
        "id": "zGgarxjcYeGh"
      },
      "source": [
        "---\n",
        "# 4. Deep Learningフレームワークの基礎 (and later)\n",
        "\n",
        "You shoud place the code cell at the first place of the colab page."
      ]
    },
    {
      "cell_type": "code",
      "metadata": {
        "id": "LD0hrHlIYm7E"
      },
      "source": [
        "!pip uninstall --yes cupy-cuda100\n",
        "!pip uninstall --yes cupy-cuda101\n",
        "!pip uninstall --yes chainer\n",
        "!pip install 'cupy-cuda100>=7.7.0,<8.0.0'\n",
        "!pip install chainer"
      ],
      "execution_count": null,
      "outputs": []
    },
    {
      "cell_type": "markdown",
      "metadata": {
        "id": "9ijPyK5WSgVA"
      },
      "source": [
        "---\n",
        "Tools for intelligent interaction systems a  \n",
        "Master's and Docotal programs in intelligent and mechanical interaction systems, University of Tsukuba, Japan.  \n",
        "KAMEDA Yoshinari, SHIBUYA Takeshi  \n",
        "\n",
        "知能システムツール演習a  \n",
        "知能機能システム学位プログラム (筑波大学大学院)  \n",
        "担当：亀田能成，澁谷長史  \n",
        "\n",
        "2021/07/26.  \n",
        "2020/06/29.\n"
      ]
    }
  ]
}