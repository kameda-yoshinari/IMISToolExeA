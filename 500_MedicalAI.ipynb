{
  "nbformat": 4,
  "nbformat_minor": 0,
  "metadata": {
    "colab": {
      "name": "500-MedicalAI",
      "provenance": [],
      "collapsed_sections": [],
      "authorship_tag": "ABX9TyMjtYdJLqoVsTm/r7OsamaX",
      "include_colab_link": true
    },
    "kernelspec": {
      "name": "python3",
      "display_name": "Python 3"
    },
    "accelerator": "GPU",
    "gpuClass": "standard"
  },
  "cells": [
    {
      "cell_type": "markdown",
      "metadata": {
        "id": "view-in-github",
        "colab_type": "text"
      },
      "source": [
        "<a href=\"https://colab.research.google.com/github/kameda-yoshinari/IMISToolExeA2022/blob/main/500_MedicalAI.ipynb\" target=\"_parent\"><img src=\"https://colab.research.google.com/assets/colab-badge.svg\" alt=\"Open In Colab\"/></a>"
      ]
    },
    {
      "cell_type": "markdown",
      "metadata": {
        "id": "CvYFa2bSBgrB"
      },
      "source": [
        "# 5. Medical AI expert course online course material\n",
        "\n",
        "An academy provides well organized online course tutorial with some practical (medical) examples.\n",
        "\n",
        "An example of building up deep learning machine from scratch.  \n",
        "It was prepared for 2019 cource, so it is a bit obsolute, but yet it could be useful especially those who prefer to see Japanese text.\n",
        "Tutorials are all colab-ready, but it seems it does not work properly as of 2022/08 ...\n",
        "\n",
        "* [メディカルAI専門コース オンライン講義資料](https://japan-medical-ai.github.io/medical-ai-course-materials/) (Japanese material)\n",
        "\n",
        "Index: \n",
        "\n",
        "1. 機械学習に必要な数学の基礎\n",
        "2. 機械学習ライブラリの基礎\n",
        "3. ニューラルネットワークの基礎\n",
        "4. Deep Learningフレームワークの基礎\n",
        "5. 実践編: MRI画像のセグメンテーション\n",
        "6. 実践編: 血液の顕微鏡画像からの細胞検出\n",
        "7. 実践編: ディープラーニングを使った配列解析\n",
        "8. 実践編: ディープラーニングを使ったモニタリングデータの時系列解析\n",
        "\n",
        "The course was supervised by a guy from [Preferred networks](https://preferred.jp/ja/) (Japan) who are the developpeers of [chainer](https://chainer.org/). So the content was written on chainer.\n",
        "\n",
        "Unfortunately, Prefered networks announced [they close deveopment of chainer](https://preferred.jp/ja/news/pr20191205/) (and shift to pytorch since pytorch also follow the define-by-run strategy which is the advantageous point of chainer) on 2019/12/05.\n",
        "\n",
        "As of 2021/07/26, chainer is out of the pre-installed packages at google colaboratory. So you have to install chainer by yourself.\n",
        "\n",
        "[The lastest version of chainer](https://github.com/chainer/chainer/releases) is 7.8.1 post1 on 2022/08/01."
      ]
    },
    {
      "cell_type": "markdown",
      "source": [
        "https://docs.chainer.org/en/stable/install.html\n",
        "!curl https://colab.chainer.org/install | sh -"
      ],
      "metadata": {
        "id": "tKPxq8E079Fc"
      }
    },
    {
      "cell_type": "markdown",
      "metadata": {
        "id": "zGgarxjcYeGh"
      },
      "source": [
        "---\n",
        "# Additional commands needed at Google colaboratory\n",
        "\n",
        "As for section 4. Deep Learningフレームワークの基礎 and later, \n",
        "You shoud place the code cell below at the very first first part of each colab page.\n",
        "\n",
        "Reference (Japanese):  \n",
        "https://docs.chainer.org/en/stable/install.html "
      ]
    },
    {
      "cell_type": "code",
      "metadata": {
        "id": "LD0hrHlIYm7E",
        "colab": {
          "base_uri": "https://localhost:8080/"
        },
        "outputId": "7be563fb-49f0-4dd0-ef51-a30bc4fb68d2"
      },
      "source": [
        "!curl https://colab.chainer.org/install | sh -"
      ],
      "execution_count": 1,
      "outputs": [
        {
          "output_type": "stream",
          "name": "stdout",
          "text": [
            "  % Total    % Received % Xferd  Average Speed   Time    Time     Time  Current\n",
            "                                 Dload  Upload   Total   Spent    Left  Speed\n",
            "\r  0     0    0     0    0     0      0      0 --:--:-- --:--:-- --:--:--     0\r100  1580  100  1580    0     0  26779      0 --:--:-- --:--:-- --:--:-- 26779\n",
            "+ apt -y -q install cuda-libraries-dev-10-0\n",
            "Reading package lists...\n",
            "Building dependency tree...\n",
            "Reading state information...\n",
            "cuda-libraries-dev-10-0 is already the newest version (10.0.130-1).\n",
            "The following package was automatically installed and is no longer required:\n",
            "  libnvidia-common-460\n",
            "Use 'apt autoremove' to remove it.\n",
            "0 upgraded, 0 newly installed, 0 to remove and 49 not upgraded.\n",
            "+ pip install -q cupy-cuda100  chainer \n",
            "\u001b[K     |████████████████████████████████| 58.9 MB 1.2 MB/s \n",
            "\u001b[K     |████████████████████████████████| 1.0 MB 59.2 MB/s \n",
            "\u001b[?25h  Building wheel for chainer (setup.py) ... \u001b[?25l\u001b[?25hdone\n",
            "+ set +ex\n",
            "Installation succeeded!\n"
          ]
        }
      ]
    },
    {
      "cell_type": "markdown",
      "source": [
        "But it does not work properly as of 2022/08/01."
      ],
      "metadata": {
        "id": "O6bmrzHQ2rPi"
      }
    },
    {
      "cell_type": "code",
      "source": [
        "import chainer\n"
      ],
      "metadata": {
        "colab": {
          "base_uri": "https://localhost:8080/"
        },
        "id": "_5hW9R352qjf",
        "outputId": "1a702929-6d4b-47c2-ed92-952e62c7f7c2"
      },
      "execution_count": 2,
      "outputs": [
        {
          "output_type": "stream",
          "name": "stderr",
          "text": [
            "/usr/local/lib/python3.7/dist-packages/chainer/_environment_check.py:75: UserWarning: \n",
            "--------------------------------------------------------------------------------\n",
            "CuPy (cupy-cuda111) version 9.4.0 may not be compatible with this version of Chainer.\n",
            "Please consider installing the supported version by running:\n",
            "  $ pip install 'cupy-cuda111>=7.7.0,<8.0.0'\n",
            "\n",
            "See the following page for more details:\n",
            "  https://docs.cupy.dev/en/latest/install.html\n",
            "--------------------------------------------------------------------------------\n",
            "\n",
            "  requirement=requirement, help=help))\n"
          ]
        }
      ]
    },
    {
      "cell_type": "code",
      "source": [
        "chainer.print_runtime_info()"
      ],
      "metadata": {
        "colab": {
          "base_uri": "https://localhost:8080/"
        },
        "id": "_Y6psVtFBHR2",
        "outputId": "0b29f8da-974b-4b9c-8135-63dd761bb413"
      },
      "execution_count": 3,
      "outputs": [
        {
          "output_type": "stream",
          "name": "stdout",
          "text": [
            "Platform: Linux-5.4.188+-x86_64-with-Ubuntu-18.04-bionic\n",
            "Chainer: 7.8.1\n",
            "ChainerX: Not Available\n",
            "NumPy: 1.21.6\n",
            "CuPy:\n",
            "  OS                           : Linux-5.4.188+-x86_64-with-Ubuntu-18.04-bionic\n",
            "  Python Version               : 3.7.13\n",
            "  CuPy Version                 : 9.6.0\n",
            "  CuPy Platform                : NVIDIA CUDA\n",
            "  NumPy Version                : 1.21.6\n",
            "  SciPy Version                : 1.7.3\n",
            "  Cython Build Version         : 0.29.22\n",
            "  Cython Runtime Version       : 0.29.30\n",
            "  CUDA Root                    : /usr/local/cuda\n",
            "  nvcc PATH                    : /usr/local/cuda/bin/nvcc\n",
            "  CUDA Build Version           : 10000\n",
            "  CUDA Driver Version          : 11020\n",
            "  CUDA Runtime Version         : 10000\n",
            "  cuBLAS Version               : 10000\n",
            "  cuFFT Version                : 10000\n",
            "  cuRAND Version               : 10000\n",
            "  cuSOLVER Version             : (10, 0, 0)\n",
            "  cuSPARSE Version             : 10000\n",
            "  NVRTC Version                : (10, 0)\n",
            "  Thrust Version               : 100903\n",
            "  CUB Build Version            : 100800\n",
            "  Jitify Build Version         : 60e9e72\n",
            "  cuDNN Build Version          : 7605\n",
            "  cuDNN Version                : 7605\n",
            "  NCCL Build Version           : 2604\n",
            "  NCCL Runtime Version         : 2708\n",
            "  cuTENSOR Version             : None\n",
            "  cuSPARSELt Build Version     : None\n",
            "  Device 0 Name                : Tesla T4\n",
            "  Device 0 Compute Capability  : 75\n",
            "  Device 0 PCI Bus ID          : 0000:00:04.0\n",
            "iDeep: Not Available\n"
          ]
        }
      ]
    },
    {
      "cell_type": "markdown",
      "metadata": {
        "id": "9ijPyK5WSgVA"
      },
      "source": [
        "---\n",
        "Tools and Practices for Intelligent Interaction Systems A  \n",
        "Master's and Docotal programs in intelligent and mechanical interaction systems, University of Tsukuba, Japan.  \n",
        "KAMEDA Yoshinari, SHIBUYA Takeshi  \n",
        "\n",
        "知能システムツール演習a  \n",
        "知能機能システム学位プログラム (筑波大学大学院)  \n",
        "担当：亀田能成，澁谷長史  \n",
        "\n",
        "2022/08/01.  \n",
        "2021/08/02. revised.\n",
        "2021/07/26.  \n",
        "2020/06/29.\n"
      ]
    }
  ]
}