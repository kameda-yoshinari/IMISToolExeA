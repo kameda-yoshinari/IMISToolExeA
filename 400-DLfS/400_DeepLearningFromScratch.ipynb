{
  "nbformat": 4,
  "nbformat_minor": 0,
  "metadata": {
    "colab": {
      "provenance": [],
      "include_colab_link": true
    },
    "kernelspec": {
      "name": "python3",
      "display_name": "Python 3"
    }
  },
  "cells": [
    {
      "cell_type": "markdown",
      "metadata": {
        "id": "view-in-github",
        "colab_type": "text"
      },
      "source": [
        "<a href=\"https://colab.research.google.com/github/kameda-yoshinari/IMISToolExeA/blob/main/400-DLfS/400_DeepLearningFromScratch.ipynb\" target=\"_parent\"><img src=\"https://colab.research.google.com/assets/colab-badge.svg\" alt=\"Open In Colab\"/></a>"
      ]
    },
    {
      "cell_type": "markdown",
      "metadata": {
        "id": "CvYFa2bSBgrB"
      },
      "source": [
        "# 4. Deep Learning from Scratch\n",
        "\n",
        "An example of building up deep learning machine from scratch.  \n",
        "This book is introduced for 2019 cource for the first time, so it becomes a bit obsolute, but yet it could be useful especially those who have to learn basics of the theory (and who prefer to see Japanese text).\n",
        "\n",
        "* [ゼロから作るDeep Learning](https://www.amazon.co.jp/%E3%82%BC%E3%83%AD%E3%81%8B%E3%82%89%E4%BD%9C%E3%82%8BDeep-Learning-%E2%80%95Python%E3%81%A7%E5%AD%A6%E3%81%B6%E3%83%87%E3%82%A3%E3%83%BC%E3%83%97%E3%83%A9%E3%83%BC%E3%83%8B%E3%83%B3%E3%82%B0%E3%81%AE%E7%90%86%E8%AB%96%E3%81%A8%E5%AE%9F%E8%A3%85-%E6%96%8E%E8%97%A4-%E5%BA%B7%E6%AF%85/dp/4873117585) (Japanese textbook at amazon)"
      ]
    },
    {
      "cell_type": "markdown",
      "metadata": {
        "id": "5X-PBWBVKB3f"
      },
      "source": [
        "---\n",
        "# Before you run Google Colab\n",
        "\n",
        "## 1. Visit Programs on the book\n",
        "\n",
        "Official site:  \n",
        "https://www.oreilly.co.jp/books/9784873117584/\n",
        "\n",
        "Codes in the book:  \n",
        "https://github.com/oreilly-japan/deep-learning-from-scratch\n",
        "\n",
        "## 2. Download codes at your browser\n",
        "\n",
        "This is the way to download source files at your browser by accessing directly to your google drive.\n",
        "\n",
        "1. \"Code\" → Download ZIP\n",
        "2. You will obtain deep-learning-from-scratch-master.zip in your local folder.\n",
        "3. Unzip deep-learning-from-scratch-master.zip .\n",
        "4. You will have \"deep-learning-from-scratch-master/\" folder.\n",
        "5. Open your google drive page on your browser with your google account.\n",
        "6. Make \"My Drive / IMIS_Tool-A / Work400\" folder.\n",
        "7. Drop the \"deep-learning-from-scratch-master/\" folder to the \"Work400\" follder on the google drive.\n",
        "8. Upon success, you should see the files on google drive like:  \n",
        "My Drive > IMIS_Tool-A > Work400 > deep-learning-from-scratch-master > README.md\n",
        "\n",
        "## 2'. Download codes by way of running commands on Google Colab\n",
        "\n",
        "Or, if you want to do the 2. procedure on a runtime instance, you can do it like (prepare a code box and run them):\n",
        "\n",
        "1. Mount your google drive on a runtime instance.\n",
        "2. mkdir -p /content/drive/My Drive/IMIS_Tool-A/Work400/\n",
        "3. cd /content/drive/My Drive/IMIS_Tool-A/Work400/\n",
        "4. check the URL to download zip\n",
        "5. wget https://github.com/oreilly-japan/deep-learning-from-scratch/archive/refs/heads/master.zip\n",
        "6. unzip -l master.zip\n",
        "7. unzip master.zip\n",
        "\n",
        "Note that you should do only once, only one of 2. or 2'."
      ]
    },
    {
      "cell_type": "markdown",
      "metadata": {
        "id": "7PP4YVTTLkiG"
      },
      "source": [
        "---\n",
        "\n",
        "# After you jump onto Google Colab"
      ]
    },
    {
      "cell_type": "markdown",
      "metadata": {
        "id": "-WTkCZxAXzro"
      },
      "source": [
        "## 1. Timezone JST."
      ]
    },
    {
      "cell_type": "code",
      "metadata": {
        "id": "dSHwW7ulXvd9"
      },
      "source": [
        "!echo \"Change to the JST notation.\"\n",
        "!rm /etc/localtime\n",
        "!ln -s /usr/share/zoneinfo/Japan /etc/localtime"
      ],
      "execution_count": null,
      "outputs": []
    },
    {
      "cell_type": "markdown",
      "metadata": {
        "id": "ZS5LzDizmKgE"
      },
      "source": [
        "## 2. Working directory on your google drive."
      ]
    },
    {
      "cell_type": "markdown",
      "source": [
        "The command mkdir (line 6) below might be meaningless as you have already made it at the web interface of the google drive above. (mkdir \"-p\" indicates it will skip when the target folder has already existed.)"
      ],
      "metadata": {
        "id": "YcisIAibt000"
      }
    },
    {
      "cell_type": "code",
      "metadata": {
        "id": "TG8Cu0UxXcQ0"
      },
      "source": [
        "!echo \"Start mounting your Google Drive.\"\n",
        "from google.colab import drive\n",
        "drive.mount('/content/drive')\n",
        "%cd /content/drive/My\\ Drive/\n",
        "!echo \"Make a working folder and move to there.\"\n",
        "%mkdir -p IMIS_Tool-A/Work400/deep-learning-from-scratch-master\n",
        "%cd       IMIS_Tool-A/Work400/deep-learning-from-scratch-master\n",
        "!ls -l"
      ],
      "execution_count": null,
      "outputs": []
    },
    {
      "cell_type": "markdown",
      "metadata": {
        "id": "AQo5gKFXahsy"
      },
      "source": [
        "---\n",
        "# How to run python codes\n",
        "\n",
        "**Here is the general way of running python codes. As for this course, I prepare both for the most of the cases.**\n",
        "\n",
        "[A] The one is to use the code cell as if it is a terminal window."
      ]
    },
    {
      "cell_type": "code",
      "metadata": {
        "id": "h7Ekm2iTZu5H"
      },
      "source": [
        "%cd /content/drive/My\\ Drive/IMIS_Tool-A/Work400/deep-learning-from-scratch-master/ch01\n",
        "!python man.py"
      ],
      "execution_count": null,
      "outputs": []
    },
    {
      "cell_type": "markdown",
      "metadata": {
        "id": "VkR90a5Raz-I"
      },
      "source": [
        "[B] The other is to see the the code by cat command and copy/paste the code body to the next codecell.\n"
      ]
    },
    {
      "cell_type": "code",
      "metadata": {
        "id": "8MEUnu8-a7ut"
      },
      "source": [
        "%cd /content/drive/My\\ Drive/IMIS_Tool-A/Work400/deep-learning-from-scratch-master/ch01\n",
        "!cat man.py"
      ],
      "execution_count": null,
      "outputs": []
    },
    {
      "cell_type": "markdown",
      "source": [
        "[B'] Or you can see the man.py at the web interface (just click the man.py and you should browse the file if the brower is able to display the man.py)."
      ],
      "metadata": {
        "id": "P-KzBw3Fu3kY"
      }
    },
    {
      "cell_type": "markdown",
      "source": [
        "![access man.py by google drive web](data:image/png;base64,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)"
      ],
      "metadata": {
        "id": "YFSWDbQavXix"
      }
    },
    {
      "cell_type": "markdown",
      "metadata": {
        "id": "MJ-g3LxVbV-_"
      },
      "source": [
        "**Remember to put the 1st line** as the code may access of the current folder."
      ]
    },
    {
      "cell_type": "code",
      "metadata": {
        "id": "X8GeiDXIbAXI"
      },
      "source": [
        "%cd /content/drive/My\\ Drive/IMIS_Tool-A/Work400/deep-learning-from-scratch-master/ch01\n",
        "# coding: utf-8\n",
        "class Man:\n",
        "    \"\"\"サンプルクラス\"\"\"\n",
        "\n",
        "    def __init__(self, name):\n",
        "        self.name = name\n",
        "        print(\"Initilized!\")\n",
        "\n",
        "    def hello(self):\n",
        "        print(\"Hello \" + self.name + \"!\")\n",
        "\n",
        "    def goodbye(self):\n",
        "        print(\"Good-bye \" + self.name + \"!\")\n",
        "\n",
        "m = Man(\"David\")\n",
        "m.hello()\n",
        "m.goodbye()"
      ],
      "execution_count": null,
      "outputs": []
    },
    {
      "cell_type": "markdown",
      "metadata": {
        "id": "Mmae-_D2NOFC"
      },
      "source": [
        "# Tips\n",
        "\n",
        "On changing the folders **inside the pyhton**, set the code like:"
      ]
    },
    {
      "cell_type": "code",
      "metadata": {
        "id": "Yk1qKwZUYN_r"
      },
      "source": [
        "import os\n",
        "os.chdir(\"/content/drive/My Drive/IMIS_Tool-A/Work400/deep-learning-from-scratch-master\")\n",
        "os.makedirs(\"ch00/test01\", exist_ok=True)\n",
        "files = os.listdir(\".\")\n",
        "print(files)\n",
        "os.chdir(\"ch00\")\n",
        "print(os.listdir(\".\"))"
      ],
      "execution_count": null,
      "outputs": []
    },
    {
      "cell_type": "markdown",
      "metadata": {
        "id": "9ijPyK5WSgVA"
      },
      "source": [
        "---\n",
        "Tools and Practices for Intelligent Interaction Systems A  \n",
        "Master's and Docotal programs in intelligent and mechanical interaction systems, University of Tsukuba, Japan.  \n",
        "KAMEDA Yoshinari, SHIBUYA Takeshi  \n",
        "\n",
        "知能システムツール演習a  \n",
        "知能機能システム学位プログラム (筑波大学大学院)  \n",
        "担当：亀田能成，澁谷長史  \n",
        "\n",
        "2025/07/28.  \n",
        "2024/08/05.  \n",
        "2021/08/02. revised  \n",
        "2021/07/26.  \n",
        "2020/06/29.\n",
        "\n"
      ]
    }
  ]
}