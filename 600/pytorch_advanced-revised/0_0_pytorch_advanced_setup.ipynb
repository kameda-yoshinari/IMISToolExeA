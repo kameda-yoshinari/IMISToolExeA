{
  "nbformat": 4,
  "nbformat_minor": 0,
  "metadata": {
    "kernelspec": {
      "display_name": "Python 3",
      "language": "python",
      "name": "python3"
    },
    "language_info": {
      "codemirror_mode": {
        "name": "ipython",
        "version": 3
      },
      "file_extension": ".py",
      "mimetype": "text/x-python",
      "name": "python",
      "nbconvert_exporter": "python",
      "pygments_lexer": "ipython3",
      "version": "3.6.5"
    },
    "colab": {
      "name": "0-0_pytorch-advanced_setup.ipynb",
      "provenance": [],
      "collapsed_sections": [],
      "include_colab_link": true
    }
  },
  "cells": [
    {
      "cell_type": "markdown",
      "metadata": {
        "id": "view-in-github",
        "colab_type": "text"
      },
      "source": [
        "<a href=\"https://colab.research.google.com/github/kameda-yoshinari/IMISToolExeA2021/blob/main/600/pytorch_advanced-revised/0_0_pytorch_advanced_setup.ipynb\" target=\"_parent\"><img src=\"https://colab.research.google.com/assets/colab-badge.svg\" alt=\"Open In Colab\"/></a>"
      ]
    },
    {
      "cell_type": "markdown",
      "metadata": {
        "id": "BBGEws_BNH2P"
      },
      "source": [
        "# 0.0 PyTorchによる発展ディープラーニングのGC準備\n",
        "\n",
        "- Here we organize the google drive that is used on google colaboratory on learning 「PyTorchによる発展ディープラーニング]."
      ]
    },
    {
      "cell_type": "markdown",
      "metadata": {
        "id": "nG4o2ueryyi3"
      },
      "source": [
        "---\n",
        "\n",
        "# Google Colab"
      ]
    },
    {
      "cell_type": "code",
      "metadata": {
        "id": "YWa96dW8yyi_"
      },
      "source": [
        "!echo \"Change to the JST notation.\"\n",
        "!rm /etc/localtime\n",
        "!ln -s /usr/share/zoneinfo/Japan /etc/localtime"
      ],
      "execution_count": null,
      "outputs": []
    },
    {
      "cell_type": "code",
      "metadata": {
        "id": "FUtgaSlfyyjA"
      },
      "source": [
        "!echo \"Start mounting your Google Drive.\"\n",
        "from google.colab import drive \n",
        "drive.mount('/content/drive')\n",
        "%cd /content/drive/My\\ Drive/\n",
        "!echo \"Move to the working directory.\"\n",
        "%cd 202107_Tool-A/Work600/\n",
        "!ls -l"
      ],
      "execution_count": null,
      "outputs": []
    },
    {
      "cell_type": "markdown",
      "metadata": {
        "id": "6nsa8fL1yyjA"
      },
      "source": [
        "---\n",
        "# 共通準備 / git clone\n",
        "\n",
        "We use your Google Drive's 202107_Tool-A/Work600/pytorch_advanced directory as the working directory.  \n",
        "\"pytorch_advanced\" folder is cooked by git clone command."
      ]
    },
    {
      "cell_type": "code",
      "metadata": {
        "id": "XwkayPU68Uo3"
      },
      "source": [
        "# If you want to clean up everything, do the \"rm -rf\" command.\n",
        "\n",
        "#!rm -rf pytorch_advanced"
      ],
      "execution_count": null,
      "outputs": []
    },
    {
      "cell_type": "code",
      "metadata": {
        "id": "wFiA1xJ0yyjA"
      },
      "source": [
        "# If you run git when pytorch_advanced already exists, git tells the error and clone won't be made.\n",
        "\n",
        "!git clone https://github.com/YutaroOgawa/pytorch_advanced.git\n"
      ],
      "execution_count": null,
      "outputs": []
    },
    {
      "cell_type": "code",
      "metadata": {
        "id": "QK1piLdryyjB"
      },
      "source": [
        "!ls -ld pytorch_advanced"
      ],
      "execution_count": null,
      "outputs": []
    },
    {
      "cell_type": "code",
      "metadata": {
        "id": "VYmin35HyyjB"
      },
      "source": [
        "%cd \"pytorch_advanced\""
      ],
      "execution_count": null,
      "outputs": []
    },
    {
      "cell_type": "code",
      "metadata": {
        "id": "tDclndJayyjB"
      },
      "source": [
        "!ls"
      ],
      "execution_count": null,
      "outputs": []
    },
    {
      "cell_type": "markdown",
      "metadata": {
        "id": "73UO5fBNsN3j"
      },
      "source": [
        "---\n",
        "# Tips (You may skip reading)\n",
        "\n",
        "Instead of running git command, you can do the same in the previous section by following steps.\n",
        "\n",
        "1. Visit https://github.com/YutaroOgawa/pytorch_advanced\n",
        "2. \"Code\" → Download ZIP\n",
        "3. You will obtain pytorch_advanced-master.zip in your local folder.\n",
        "4. Unzip pytorch_advanced-master.zip .\n",
        "5. You will have \"pytorch_advanced-master/\" folder.\n",
        "6. Open your google drive page on your browser with your google account.\n",
        "7. Make \"My Drive / 202107_Tool-A / Work600\" folder.\n",
        "8. Drop the \"pytorch_advanced-master/\" folder to the \"Work600\" follder on the google drive.\n",
        "\n",
        "To verify the procedure, make sure you can find \"README.md\" at \"My Drive / 202107_Tool-A / Work600 / pytorch_advanced-master /\".\n",
        "\n",
        "You may rename \"pytorch_advanced-master\" to \"pytorch_advanced\" to make sure the following sections can be applied in the same way."
      ]
    },
    {
      "cell_type": "markdown",
      "metadata": {
        "id": "EmLuLmgV83fG"
      },
      "source": [
        "---\n",
        "Revised by KAMEDA, Yoshinari at University of Tsukuba for lecture purpose.  \n",
        "Original: https://github.com/YutaroOgawa/pytorch_advanced\n",
        "\n",
        "2021/08/02. "
      ]
    }
  ]
}