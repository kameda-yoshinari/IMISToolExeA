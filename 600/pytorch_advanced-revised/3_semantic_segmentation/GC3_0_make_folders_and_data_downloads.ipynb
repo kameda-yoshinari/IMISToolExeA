{
  "nbformat": 4,
  "nbformat_minor": 0,
  "metadata": {
    "kernelspec": {
      "display_name": "Python 3",
      "language": "python",
      "name": "python3"
    },
    "language_info": {
      "codemirror_mode": {
        "name": "ipython",
        "version": 3
      },
      "file_extension": ".py",
      "mimetype": "text/x-python",
      "name": "python",
      "nbconvert_exporter": "python",
      "pygments_lexer": "ipython3",
      "version": "3.6.5"
    },
    "colab": {
      "name": "GC3-0_make_folders_and_data_downloads.ipynb",
      "provenance": [],
      "collapsed_sections": [],
      "include_colab_link": true
    }
  },
  "cells": [
    {
      "cell_type": "markdown",
      "metadata": {
        "id": "view-in-github",
        "colab_type": "text"
      },
      "source": [
        "<a href=\"https://colab.research.google.com/github/kameda-yoshinari/IMISToolExeA2021/blob/main/600/pytorch_advanced-revised/3_semantic_segmentation/GC3_0_make_folders_and_data_downloads.ipynb\" target=\"_parent\"><img src=\"https://colab.research.google.com/assets/colab-badge.svg\" alt=\"Open In Colab\"/></a>"
      ]
    },
    {
      "cell_type": "markdown",
      "metadata": {
        "id": "DH5UZMi6KGxF"
      },
      "source": [
        "# 「第3章 セマンティックセグメンテーション」の準備ファイル\n",
        "\n",
        "- 本ファイルでは、第3章で使用するフォルダの作成とファイルのダウンロードを行います。"
      ]
    },
    {
      "cell_type": "markdown",
      "metadata": {
        "id": "_Z2iYK_ox7s-"
      },
      "source": [
        "---\n",
        "\n",
        "# Google Colab"
      ]
    },
    {
      "cell_type": "code",
      "metadata": {
        "id": "p12QTDHEx7tH"
      },
      "source": [
        "!echo \"Change to the JST notation.\"\n",
        "!rm /etc/localtime\n",
        "!ln -s /usr/share/zoneinfo/Japan /etc/localtime"
      ],
      "execution_count": null,
      "outputs": []
    },
    {
      "cell_type": "code",
      "metadata": {
        "id": "usdzzcLbx7tI"
      },
      "source": [
        "!echo \"Start mounting your Google Drive.\"\n",
        "from google.colab import drive \n",
        "drive.mount('/content/drive')\n",
        "%cd /content/drive/My\\ Drive/\n",
        "!echo \"Move to the working directory.\"\n",
        "%cd 202107_Tool-A/Work600/\n",
        "!ls -l"
      ],
      "execution_count": null,
      "outputs": []
    },
    {
      "cell_type": "markdown",
      "metadata": {
        "id": "fDc3dnE_x7tJ"
      },
      "source": [
        "---\n",
        "# 共通準備\n",
        "\n",
        "\"pytorch_advanced\" folder should be ready before you come here."
      ]
    },
    {
      "cell_type": "code",
      "metadata": {
        "id": "cED0rxM7x7tJ"
      },
      "source": [
        "# Skip this if you have already issued git in advance. \n",
        "# If you come here by way of 600-PyTorchADL.ipynb, \n",
        "# you should skip the git command (as you have already issued in 600).  \n",
        "# If you run git when pytorch_advanced already exists, git tells the error and clone won't be made.\n",
        "\n",
        "#!git clone https://github.com/YutaroOgawa/pytorch_advanced.git\n",
        "\n",
        "import os\n",
        "if os.path.exists(\"/content/drive/My Drive/202107_Tool-A/Work600/pytorch_advanced\"):\n",
        "    print(\"OK. Alreadly git cloned. You can go.\")\n",
        "else:\n",
        "    print(\"You'd better go back to the first 600-PyTorchADL.ipynb\")"
      ],
      "execution_count": null,
      "outputs": []
    },
    {
      "cell_type": "code",
      "metadata": {
        "id": "lRia6DwFx7tJ"
      },
      "source": [
        "!ls"
      ],
      "execution_count": null,
      "outputs": []
    },
    {
      "cell_type": "code",
      "metadata": {
        "id": "BGd5BWZZx7tJ"
      },
      "source": [
        "%cd \"pytorch_advanced\""
      ],
      "execution_count": null,
      "outputs": []
    },
    {
      "cell_type": "code",
      "metadata": {
        "id": "EgWF4QMix7tK"
      },
      "source": [
        "!ls"
      ],
      "execution_count": null,
      "outputs": []
    },
    {
      "cell_type": "code",
      "metadata": {
        "id": "1YelRffxx7tK"
      },
      "source": [
        "%cd \"3_semantic_segmentation\""
      ],
      "execution_count": null,
      "outputs": []
    },
    {
      "cell_type": "code",
      "metadata": {
        "id": "dRZz7hVLx7tK"
      },
      "source": [
        "!ls"
      ],
      "execution_count": null,
      "outputs": []
    },
    {
      "cell_type": "markdown",
      "metadata": {
        "id": "55ZLdscILF_b"
      },
      "source": [
        "---\n",
        "# VOC2012の導入と展開"
      ]
    },
    {
      "cell_type": "code",
      "metadata": {
        "id": "0bQXyRHhKGxG"
      },
      "source": [
        "import os\n",
        "import urllib.request\n",
        "import zipfile\n",
        "import tarfile"
      ],
      "execution_count": null,
      "outputs": []
    },
    {
      "cell_type": "code",
      "metadata": {
        "id": "QDQ4uMGzKGxH"
      },
      "source": [
        "# フォルダ「data」が存在しない場合は作成する\n",
        "data_dir = \"./data/\"\n",
        "if not os.path.exists(data_dir):\n",
        "    os.mkdir(data_dir)"
      ],
      "execution_count": null,
      "outputs": []
    },
    {
      "cell_type": "code",
      "metadata": {
        "id": "C3Dmm8b7KGxH"
      },
      "source": [
        "# フォルダ「weights」が存在しない場合は作成する\n",
        "weights_dir = \"./weights/\"\n",
        "if not os.path.exists(weights_dir):\n",
        "    os.mkdir(weights_dir)"
      ],
      "execution_count": null,
      "outputs": []
    },
    {
      "cell_type": "markdown",
      "metadata": {
        "id": "wfs0gqi_L2ur"
      },
      "source": [
        "VOC2012関連は [GC2-2-0_make_folders_and_data_downloads.ipynb](https://github.com/kameda-yoshinari/IMISToolExeA2021/blob/main/600/pytorch_advanced-revised/2_objectdetection/GC2_2_0_make_folders_and_data_downloads.ipynb)で展開準備できているはずです。"
      ]
    },
    {
      "cell_type": "code",
      "metadata": {
        "id": "dW4bOmo3LkES"
      },
      "source": [
        "!ls -l ../2_objectdetection/data"
      ],
      "execution_count": null,
      "outputs": []
    },
    {
      "cell_type": "markdown",
      "metadata": {
        "id": "TY6jUO46M8WV"
      },
      "source": [
        "---\n",
        "# Weights"
      ]
    },
    {
      "cell_type": "code",
      "metadata": {
        "id": "NAE5fB_BXz35"
      },
      "source": [
        "# 初期チェック\n",
        "!ls -l weights"
      ],
      "execution_count": null,
      "outputs": []
    },
    {
      "cell_type": "markdown",
      "metadata": {
        "id": "Sz4tzGlrW6H4"
      },
      "source": [
        "フォルダ「weights」にネットワークの初期値として使用する「pspnet50_ADE20K.pth」を\n",
        "筆者のGoogle Driveからダウンロードする\n",
        "    \n",
        "https://drive.google.com/open?id=12eN6SpnawYuQmD1k9VgVW3QSgPR6hICc\n",
        "    "
      ]
    },
    {
      "cell_type": "code",
      "metadata": {
        "id": "ErMDfFv7VRWh"
      },
      "source": [
        "# google drive downloader (for a large file)\n",
        "# https://medium.com/@acpanjan/download-google-drive-files-using-wget-3c2c025a8b99\n",
        "# You should change target directory and the first two lines (FILEID and OUTFILENAME) only\n",
        "\n",
        "# moving to the target directory\n",
        "%cd weights\n",
        "\n",
        "! FILEID=12eN6SpnawYuQmD1k9VgVW3QSgPR6hICc; \\\n",
        "OUTFILENAME=pspnet50_ADE20K.pth; \\\n",
        "\\\n",
        "URLS=\"https://docs.google.com/uc?export=download&id=$FILEID\"; \\\n",
        "echo $FILEID $OUTFILENAME $URLS; \\\n",
        "URLC=`wget --quiet --save-cookies /root/cookies.txt --keep-session-cookies --no-check-certificate $URLS -O- | sed -rn 's/.*confirm=([0-9A-Za-z_]+).*/\\1\\n/p'`; \\\n",
        "echo $URLC; \\\n",
        "wget --load-cookies /root/cookies.txt \"https://docs.google.com/uc?export=download&confirm=\"$URLC\"&id=\"$FILEID -O $OUTFILENAME ; \\\n",
        "rm -f /root/cookies.txt \n",
        "\n",
        "# just check\n",
        "!ls -l\n",
        "\n",
        "# coming back to the original directory\n",
        "%cd -"
      ],
      "execution_count": null,
      "outputs": []
    },
    {
      "cell_type": "markdown",
      "metadata": {
        "id": "9mJX2ypgKwIM"
      },
      "source": [
        "本章の内容で筆者が作成した学習済みのPSPNetモデル「pspnet50_30.pth」を 筆者のGoogle Driveから手動でダウンロードする\n",
        "\n",
        "https://drive.google.com/open?id=192JenT9UTHjFb6fhwSdRgOWr8_RmDl4I"
      ]
    },
    {
      "cell_type": "code",
      "metadata": {
        "id": "0147vVtWKGxI"
      },
      "source": [
        "# google drive downloader (for a large file)\n",
        "# https://medium.com/@acpanjan/download-google-drive-files-using-wget-3c2c025a8b99\n",
        "# You should change the first two lines (FILEID and OUTFILENAME) only\n",
        "\n",
        "# moving to the target directory\n",
        "%cd weights\n",
        "\n",
        "! FILEID=192JenT9UTHjFb6fhwSdRgOWr8_RmDl4I; \\\n",
        "OUTFILENAME=pspnet50_30.pth; \\\n",
        "\\\n",
        "URLS=\"https://docs.google.com/uc?export=download&id=$FILEID\"; \\\n",
        "echo $FILEID $OUTFILENAME $URLS; \\\n",
        "URLC=`wget --quiet --save-cookies /root/cookies.txt --keep-session-cookies --no-check-certificate $URLS -O- | sed -rn 's/.*confirm=([0-9A-Za-z_]+).*/\\1\\n/p'`; \\\n",
        "echo $URLC; \\\n",
        "wget --load-cookies /root/cookies.txt \"https://docs.google.com/uc?export=download&confirm=\"$URLC\"&id=\"$FILEID -O $OUTFILENAME ; \\\n",
        "rm -f /root/cookies.txt \n",
        "\n",
        "# just check\n",
        "!ls -l\n",
        "\n",
        "# coming back to the original directory\n",
        "%cd -"
      ],
      "execution_count": null,
      "outputs": []
    },
    {
      "cell_type": "markdown",
      "metadata": {
        "id": "7gzsTbIvd_R7"
      },
      "source": [
        "---\n",
        "# 乗馬の画像を手動でダウンロード (予め実施済)\n",
        "\n",
        "https://pixabay.com/ja/photos/%E3%82%AB%E3%82%A6%E3%83%9C%E3%83%BC%E3%82%A4-%E9%A6%AC-%E4%B9%97%E9%A6%AC-%E6%B0%B4-%E6%B5%B7-757575/\n",
        "の640×426サイズの画像\n",
        "（画像権利情報：商用利用無料、帰属表示は必要ありません）\n",
        "\n",
        "は、フォルダ「data」の直下に置いてあります。\n",
        "\n",
        "(You should find the cowboy-757575_640.jpg in the \"My Drive/202107_Tool-A/Work600/pytorch_advanced/2_objectdetection/data\" )"
      ]
    },
    {
      "cell_type": "code",
      "metadata": {
        "id": "YBhr9HbedrOW"
      },
      "source": [
        "# 最終チェック\n",
        "!ls -l data weights"
      ],
      "execution_count": null,
      "outputs": []
    },
    {
      "cell_type": "markdown",
      "metadata": {
        "id": "Rnw2OOVIKGxJ"
      },
      "source": [
        "以上"
      ]
    },
    {
      "cell_type": "markdown",
      "metadata": {
        "id": "5WL3KfTxZNVH"
      },
      "source": [
        "---\n",
        "Revised by KAMEDA, Yoshinari at University of Tsukuba for lecture purpose.  \n",
        "Original: https://github.com/YutaroOgawa/pytorch_advanced\n",
        "\n",
        "2021/08/02. "
      ]
    }
  ]
}