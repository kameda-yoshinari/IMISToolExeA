{
  "nbformat": 4,
  "nbformat_minor": 0,
  "metadata": {
    "kernelspec": {
      "display_name": "Python 3",
      "language": "python",
      "name": "python3"
    },
    "language_info": {
      "codemirror_mode": {
        "name": "ipython",
        "version": 3
      },
      "file_extension": ".py",
      "mimetype": "text/x-python",
      "name": "python",
      "nbconvert_exporter": "python",
      "pygments_lexer": "ipython3",
      "version": "3.6.5"
    },
    "colab": {
      "name": "GC3-3-6_NetworkModel.ipynb",
      "provenance": [],
      "collapsed_sections": [],
      "include_colab_link": true
    }
  },
  "cells": [
    {
      "cell_type": "markdown",
      "metadata": {
        "id": "view-in-github",
        "colab_type": "text"
      },
      "source": [
        "<a href=\"https://colab.research.google.com/github/kameda-yoshinari/IMISToolExeA2021/blob/main/600/pytorch_advanced-revised/3_semantic_segmentation/GC3_3_6_NetworkModel.ipynb\" target=\"_parent\"><img src=\"https://colab.research.google.com/assets/colab-badge.svg\" alt=\"Open In Colab\"/></a>"
      ]
    },
    {
      "cell_type": "markdown",
      "metadata": {
        "id": "8oIM6wrHGrEC"
      },
      "source": [
        "# 3.3～3.6 ネットワークモデルの作成\n",
        "\n",
        "- 本ファイルでは、PSPNetのネットワークモデルと順伝搬forward関数を作成します。\n"
      ]
    },
    {
      "cell_type": "markdown",
      "metadata": {
        "id": "Fz1HuGecGrEE"
      },
      "source": [
        "# 3.3 学習目標\n",
        "\n",
        "1.\tPSPNetのネットワーク構造をモジュール単位で理解する\n",
        "2.\tPSPNetを構成する各モジュールの役割を理解する\n",
        "3.\tPSPNetのネットワーククラスの実装を理解する\n"
      ]
    },
    {
      "cell_type": "markdown",
      "metadata": {
        "id": "Yi8N9dSJGrEE"
      },
      "source": [
        "# 3.4 学習目標\n",
        "\n",
        "1.\tFeatureモジュールのサブネットワーク構成を理解する\n",
        "2.\tサブネットワークFeatureMap_convolution を実装できるようになる\n",
        "3.\tResidual Blockを理解する\n",
        "4.\tDilated Convolutionを理解する\n",
        "5.\tサブネットワークbottleNeckPSPとbottleNeckIdentifyPSPを実装できるようになる\n",
        "6.\tFeatureモジュールを実装できるようになる\n"
      ]
    },
    {
      "cell_type": "markdown",
      "metadata": {
        "id": "957fIkHlGrEF"
      },
      "source": [
        "# 3.5 学習目標\n",
        "\n",
        "1.\tPyramid Poolingモジュールのサブネットワーク構成を理解する\n",
        "2.\tPyramid Poolingモジュールのマルチスケール処理の実現方法を理解する\n",
        "3.\tPyramid Poolingモジュールを実装できるようになる\n"
      ]
    },
    {
      "cell_type": "markdown",
      "metadata": {
        "id": "cs_LqaA7GrEF"
      },
      "source": [
        "# 3.6 学習目標\n",
        "\n",
        "1.\tDecoderモジュールのサブネットワーク構成を理解する\n",
        "2.\tDecoder モジュールを実装できるようになる\n",
        "3.\tAuxLossモジュールのサブネットワーク構成を理解する\n",
        "4.\tAuxLossモジュールを実装できるようになる\n"
      ]
    },
    {
      "cell_type": "markdown",
      "metadata": {
        "id": "dMBhwhjWGrEF"
      },
      "source": [
        "# 事前準備\n",
        "\n",
        "\n",
        "とくになし"
      ]
    },
    {
      "cell_type": "code",
      "metadata": {
        "id": "NT1Gc0EnGrEG"
      },
      "source": [
        "# パッケージのimport\n",
        "import torch\n",
        "import torch.nn as nn\n",
        "import torch.nn.functional as F"
      ],
      "execution_count": null,
      "outputs": []
    },
    {
      "cell_type": "markdown",
      "metadata": {
        "id": "UNvA09OPGrEG"
      },
      "source": [
        "# 3.3 PSPNetのネットワーク構造"
      ]
    },
    {
      "cell_type": "code",
      "metadata": {
        "id": "2GK7luQnGrEH"
      },
      "source": [
        "class PSPNet(nn.Module):\n",
        "    def __init__(self, n_classes):\n",
        "        super(PSPNet, self).__init__()\n",
        "\n",
        "        # パラメータ設定\n",
        "        block_config = [3, 4, 6, 3]  # resnet50\n",
        "        img_size = 475\n",
        "        img_size_8 = 60  # img_sizeの1/8に\n",
        "\n",
        "        # 4つのモジュールを構成するサブネットワークの用意\n",
        "        self.feature_conv = FeatureMap_convolution()\n",
        "        self.feature_res_1 = ResidualBlockPSP(\n",
        "            n_blocks=block_config[0], in_channels=128, mid_channels=64, out_channels=256, stride=1, dilation=1)\n",
        "        self.feature_res_2 = ResidualBlockPSP(\n",
        "            n_blocks=block_config[1], in_channels=256, mid_channels=128, out_channels=512, stride=2, dilation=1)\n",
        "        self.feature_dilated_res_1 = ResidualBlockPSP(\n",
        "            n_blocks=block_config[2], in_channels=512, mid_channels=256, out_channels=1024, stride=1, dilation=2)\n",
        "        self.feature_dilated_res_2 = ResidualBlockPSP(\n",
        "            n_blocks=block_config[3], in_channels=1024, mid_channels=512, out_channels=2048, stride=1, dilation=4)\n",
        "\n",
        "        self.pyramid_pooling = PyramidPooling(in_channels=2048, pool_sizes=[\n",
        "            6, 3, 2, 1], height=img_size_8, width=img_size_8)\n",
        "\n",
        "        self.decode_feature = DecodePSPFeature(\n",
        "            height=img_size, width=img_size, n_classes=n_classes)\n",
        "\n",
        "        self.aux = AuxiliaryPSPlayers(\n",
        "            in_channels=1024, height=img_size, width=img_size, n_classes=n_classes)\n",
        "\n",
        "    def forward(self, x):\n",
        "        x = self.feature_conv(x)\n",
        "        x = self.feature_res_1(x)\n",
        "        x = self.feature_res_2(x)\n",
        "        x = self.feature_dilated_res_1(x)\n",
        "\n",
        "        output_aux = self.aux(x)  # Featureモジュールの途中をAuxモジュールへ\n",
        "\n",
        "        x = self.feature_dilated_res_2(x)\n",
        "\n",
        "        x = self.pyramid_pooling(x)\n",
        "        output = self.decode_feature(x)\n",
        "\n",
        "        return (output, output_aux)\n"
      ],
      "execution_count": null,
      "outputs": []
    },
    {
      "cell_type": "markdown",
      "metadata": {
        "id": "4Y3BZltEGrEH"
      },
      "source": [
        "# 3.4 Featureモジュール"
      ]
    },
    {
      "cell_type": "code",
      "metadata": {
        "id": "ESnEw2mBGrEH"
      },
      "source": [
        "class conv2DBatchNormRelu(nn.Module):\n",
        "    def __init__(self, in_channels, out_channels, kernel_size, stride, padding, dilation, bias):\n",
        "        super(conv2DBatchNormRelu, self).__init__()\n",
        "        self.conv = nn.Conv2d(in_channels, out_channels,\n",
        "                              kernel_size, stride, padding, dilation, bias=bias)\n",
        "        self.batchnorm = nn.BatchNorm2d(out_channels)\n",
        "        self.relu = nn.ReLU(inplace=True)\n",
        "        # inplase設定で入力を保存せずに出力を計算し、メモリ削減する\n",
        "\n",
        "    def forward(self, x):\n",
        "        x = self.conv(x)\n",
        "        x = self.batchnorm(x)\n",
        "        outputs = self.relu(x)\n",
        "\n",
        "        return outputs\n"
      ],
      "execution_count": null,
      "outputs": []
    },
    {
      "cell_type": "code",
      "metadata": {
        "id": "7bG9_aPbGrEI"
      },
      "source": [
        "class FeatureMap_convolution(nn.Module):\n",
        "    def __init__(self):\n",
        "        '''構成するネットワークを用意'''\n",
        "        super(FeatureMap_convolution, self).__init__()\n",
        "\n",
        "        # 畳み込み層1\n",
        "        in_channels, out_channels, kernel_size, stride, padding, dilation, bias = 3, 64, 3, 2, 1, 1, False\n",
        "        self.cbnr_1 = conv2DBatchNormRelu(\n",
        "            in_channels, out_channels, kernel_size, stride, padding, dilation, bias)\n",
        "\n",
        "        # 畳み込み層2\n",
        "        in_channels, out_channels, kernel_size, stride, padding, dilation, bias = 64, 64, 3, 1, 1, 1, False\n",
        "        self.cbnr_2 = conv2DBatchNormRelu(\n",
        "            in_channels, out_channels, kernel_size, stride, padding, dilation, bias)\n",
        "\n",
        "        # 畳み込み層3\n",
        "        in_channels, out_channels, kernel_size, stride, padding, dilation, bias = 64, 128, 3, 1, 1, 1, False\n",
        "        self.cbnr_3 = conv2DBatchNormRelu(\n",
        "            in_channels, out_channels, kernel_size, stride, padding, dilation, bias)\n",
        "\n",
        "        # MaxPooling層\n",
        "        self.maxpool = nn.MaxPool2d(kernel_size=3, stride=2, padding=1)\n",
        "\n",
        "    def forward(self, x):\n",
        "        x = self.cbnr_1(x)\n",
        "        x = self.cbnr_2(x)\n",
        "        x = self.cbnr_3(x)\n",
        "        outputs = self.maxpool(x)\n",
        "        return outputs\n"
      ],
      "execution_count": null,
      "outputs": []
    },
    {
      "cell_type": "code",
      "metadata": {
        "id": "a440nXHHGrEI"
      },
      "source": [
        "class ResidualBlockPSP(nn.Sequential):\n",
        "    def __init__(self, n_blocks, in_channels, mid_channels, out_channels, stride, dilation):\n",
        "        super(ResidualBlockPSP, self).__init__()\n",
        "\n",
        "        # bottleNeckPSPの用意\n",
        "        self.add_module(\n",
        "            \"block1\",\n",
        "            bottleNeckPSP(in_channels, mid_channels,\n",
        "                          out_channels, stride, dilation)\n",
        "        )\n",
        "\n",
        "        # bottleNeckIdentifyPSPの繰り返しの用意\n",
        "        for i in range(n_blocks - 1):\n",
        "            self.add_module(\n",
        "                \"block\" + str(i+2),\n",
        "                bottleNeckIdentifyPSP(\n",
        "                    out_channels, mid_channels, stride, dilation)\n",
        "            )\n"
      ],
      "execution_count": null,
      "outputs": []
    },
    {
      "cell_type": "code",
      "metadata": {
        "id": "aEcNlkwTGrEJ"
      },
      "source": [
        "class conv2DBatchNorm(nn.Module):\n",
        "    def __init__(self, in_channels, out_channels, kernel_size, stride, padding, dilation, bias):\n",
        "        super(conv2DBatchNorm, self).__init__()\n",
        "        self.conv = nn.Conv2d(in_channels, out_channels,\n",
        "                              kernel_size, stride, padding, dilation, bias=bias)\n",
        "        self.batchnorm = nn.BatchNorm2d(out_channels)\n",
        "\n",
        "    def forward(self, x):\n",
        "        x = self.conv(x)\n",
        "        outputs = self.batchnorm(x)\n",
        "\n",
        "        return outputs\n"
      ],
      "execution_count": null,
      "outputs": []
    },
    {
      "cell_type": "code",
      "metadata": {
        "id": "tez_-xC_GrEJ"
      },
      "source": [
        "class bottleNeckPSP(nn.Module):\n",
        "    def __init__(self, in_channels, mid_channels, out_channels, stride, dilation):\n",
        "        super(bottleNeckPSP, self).__init__()\n",
        "\n",
        "        self.cbr_1 = conv2DBatchNormRelu(\n",
        "            in_channels, mid_channels, kernel_size=1, stride=1, padding=0, dilation=1, bias=False)\n",
        "        self.cbr_2 = conv2DBatchNormRelu(\n",
        "            mid_channels, mid_channels, kernel_size=3, stride=stride, padding=dilation, dilation=dilation, bias=False)\n",
        "        self.cb_3 = conv2DBatchNorm(\n",
        "            mid_channels, out_channels, kernel_size=1, stride=1, padding=0, dilation=1, bias=False)\n",
        "\n",
        "        # スキップ結合\n",
        "        self.cb_residual = conv2DBatchNorm(\n",
        "            in_channels, out_channels, kernel_size=1, stride=stride, padding=0, dilation=1, bias=False)\n",
        "\n",
        "        self.relu = nn.ReLU(inplace=True)\n",
        "\n",
        "    def forward(self, x):\n",
        "        conv = self.cb_3(self.cbr_2(self.cbr_1(x)))\n",
        "        residual = self.cb_residual(x)\n",
        "        return self.relu(conv + residual)\n"
      ],
      "execution_count": null,
      "outputs": []
    },
    {
      "cell_type": "code",
      "metadata": {
        "id": "x0BCwWuVGrEK"
      },
      "source": [
        "class bottleNeckIdentifyPSP(nn.Module):\n",
        "    def __init__(self, in_channels, mid_channels, stride, dilation):\n",
        "        super(bottleNeckIdentifyPSP, self).__init__()\n",
        "\n",
        "        self.cbr_1 = conv2DBatchNormRelu(\n",
        "            in_channels, mid_channels, kernel_size=1, stride=1, padding=0, dilation=1, bias=False)\n",
        "        self.cbr_2 = conv2DBatchNormRelu(\n",
        "            mid_channels, mid_channels, kernel_size=3, stride=1, padding=dilation, dilation=dilation, bias=False)\n",
        "        self.cb_3 = conv2DBatchNorm(\n",
        "            mid_channels, in_channels, kernel_size=1, stride=1, padding=0, dilation=1, bias=False)\n",
        "        self.relu = nn.ReLU(inplace=True)\n",
        "\n",
        "    def forward(self, x):\n",
        "        conv = self.cb_3(self.cbr_2(self.cbr_1(x)))\n",
        "        residual = x\n",
        "        return self.relu(conv + residual)\n"
      ],
      "execution_count": null,
      "outputs": []
    },
    {
      "cell_type": "markdown",
      "metadata": {
        "id": "sJdKxf_OGrEK"
      },
      "source": [
        "# 3.5 Pyramid Poolingモジュール"
      ]
    },
    {
      "cell_type": "code",
      "metadata": {
        "id": "y0TfWsa0GrEK"
      },
      "source": [
        "class PyramidPooling(nn.Module):\n",
        "    def __init__(self, in_channels, pool_sizes, height, width):\n",
        "        super(PyramidPooling, self).__init__()\n",
        "\n",
        "        # forwardで使用する画像サイズ\n",
        "        self.height = height\n",
        "        self.width = width\n",
        "\n",
        "        # 各畳み込み層の出力チャネル数\n",
        "        out_channels = int(in_channels / len(pool_sizes))\n",
        "\n",
        "        # 各畳み込み層を作成\n",
        "        # この実装方法は愚直すぎてfor文で書きたいところですが、分かりやすさを優先しています\n",
        "        # pool_sizes: [6, 3, 2, 1]\n",
        "        self.avpool_1 = nn.AdaptiveAvgPool2d(output_size=pool_sizes[0])\n",
        "        self.cbr_1 = conv2DBatchNormRelu(\n",
        "            in_channels, out_channels, kernel_size=1, stride=1, padding=0, dilation=1, bias=False)\n",
        "\n",
        "        self.avpool_2 = nn.AdaptiveAvgPool2d(output_size=pool_sizes[1])\n",
        "        self.cbr_2 = conv2DBatchNormRelu(\n",
        "            in_channels, out_channels, kernel_size=1, stride=1, padding=0, dilation=1, bias=False)\n",
        "\n",
        "        self.avpool_3 = nn.AdaptiveAvgPool2d(output_size=pool_sizes[2])\n",
        "        self.cbr_3 = conv2DBatchNormRelu(\n",
        "            in_channels, out_channels, kernel_size=1, stride=1, padding=0, dilation=1, bias=False)\n",
        "\n",
        "        self.avpool_4 = nn.AdaptiveAvgPool2d(output_size=pool_sizes[3])\n",
        "        self.cbr_4 = conv2DBatchNormRelu(\n",
        "            in_channels, out_channels, kernel_size=1, stride=1, padding=0, dilation=1, bias=False)\n",
        "\n",
        "    def forward(self, x):\n",
        "\n",
        "        out1 = self.cbr_1(self.avpool_1(x))\n",
        "        out1 = F.interpolate(out1, size=(\n",
        "            self.height, self.width), mode=\"bilinear\", align_corners=True)\n",
        "\n",
        "        out2 = self.cbr_2(self.avpool_2(x))\n",
        "        out2 = F.interpolate(out2, size=(\n",
        "            self.height, self.width), mode=\"bilinear\", align_corners=True)\n",
        "\n",
        "        out3 = self.cbr_3(self.avpool_3(x))\n",
        "        out3 = F.interpolate(out3, size=(\n",
        "            self.height, self.width), mode=\"bilinear\", align_corners=True)\n",
        "\n",
        "        out4 = self.cbr_4(self.avpool_4(x))\n",
        "        out4 = F.interpolate(out4, size=(\n",
        "            self.height, self.width), mode=\"bilinear\", align_corners=True)\n",
        "\n",
        "        # 最終的に結合させる、dim=1でチャネル数の次元で結合\n",
        "        output = torch.cat([x, out1, out2, out3, out4], dim=1)\n",
        "\n",
        "        return output\n"
      ],
      "execution_count": null,
      "outputs": []
    },
    {
      "cell_type": "markdown",
      "metadata": {
        "id": "iKWpXeowGrEL"
      },
      "source": [
        "# 3.6 Decoder、AuxLossモジュール"
      ]
    },
    {
      "cell_type": "code",
      "metadata": {
        "id": "bQqA2N9HGrEL"
      },
      "source": [
        "class DecodePSPFeature(nn.Module):\n",
        "    def __init__(self, height, width, n_classes):\n",
        "        super(DecodePSPFeature, self).__init__()\n",
        "\n",
        "        # forwardで使用する画像サイズ\n",
        "        self.height = height\n",
        "        self.width = width\n",
        "\n",
        "        self.cbr = conv2DBatchNormRelu(\n",
        "            in_channels=4096, out_channels=512, kernel_size=3, stride=1, padding=1, dilation=1, bias=False)\n",
        "        self.dropout = nn.Dropout2d(p=0.1)\n",
        "        self.classification = nn.Conv2d(\n",
        "            in_channels=512, out_channels=n_classes, kernel_size=1, stride=1, padding=0)\n",
        "\n",
        "    def forward(self, x):\n",
        "        x = self.cbr(x)\n",
        "        x = self.dropout(x)\n",
        "        x = self.classification(x)\n",
        "        output = F.interpolate(\n",
        "            x, size=(self.height, self.width), mode=\"bilinear\", align_corners=True)\n",
        "\n",
        "        return output\n"
      ],
      "execution_count": null,
      "outputs": []
    },
    {
      "cell_type": "code",
      "metadata": {
        "id": "I2YZRK8nGrEL"
      },
      "source": [
        "class AuxiliaryPSPlayers(nn.Module):\n",
        "    def __init__(self, in_channels, height, width, n_classes):\n",
        "        super(AuxiliaryPSPlayers, self).__init__()\n",
        "\n",
        "        # forwardで使用する画像サイズ\n",
        "        self.height = height\n",
        "        self.width = width\n",
        "\n",
        "        self.cbr = conv2DBatchNormRelu(\n",
        "            in_channels=in_channels, out_channels=256, kernel_size=3, stride=1, padding=1, dilation=1, bias=False)\n",
        "        self.dropout = nn.Dropout2d(p=0.1)\n",
        "        self.classification = nn.Conv2d(\n",
        "            in_channels=256, out_channels=n_classes, kernel_size=1, stride=1, padding=0)\n",
        "\n",
        "    def forward(self, x):\n",
        "        x = self.cbr(x)\n",
        "        x = self.dropout(x)\n",
        "        x = self.classification(x)\n",
        "        output = F.interpolate(\n",
        "            x, size=(self.height, self.width), mode=\"bilinear\", align_corners=True)\n",
        "\n",
        "        return output\n"
      ],
      "execution_count": null,
      "outputs": []
    },
    {
      "cell_type": "markdown",
      "metadata": {
        "id": "89Q8qTMtGrEL"
      },
      "source": [
        "# 動作確認"
      ]
    },
    {
      "cell_type": "code",
      "metadata": {
        "id": "pUYZCoEgGrEL"
      },
      "source": [
        "# モデルの定義\n",
        "net = PSPNet(n_classes=21)\n",
        "net"
      ],
      "execution_count": null,
      "outputs": []
    },
    {
      "cell_type": "code",
      "metadata": {
        "id": "QfYHZTYfGrEM"
      },
      "source": [
        "# ダミーデータの作成\n",
        "batch_size = 2\n",
        "dummy_img = torch.rand(batch_size, 3, 475, 475)\n",
        "\n",
        "# 計算\n",
        "outputs = net(dummy_img)\n",
        "print(outputs)\n"
      ],
      "execution_count": null,
      "outputs": []
    },
    {
      "cell_type": "markdown",
      "metadata": {
        "id": "SQd5k4abGrEN"
      },
      "source": [
        "以上"
      ]
    },
    {
      "cell_type": "markdown",
      "metadata": {
        "id": "niHU-lUGJCWZ"
      },
      "source": [
        "---\n",
        "Revised by KAMEDA, Yoshinari at University of Tsukuba for lecture purpose.  \n",
        "Original: https://github.com/YutaroOgawa/pytorch_advanced\n",
        "\n",
        "2021/08/02. "
      ]
    }
  ]
}