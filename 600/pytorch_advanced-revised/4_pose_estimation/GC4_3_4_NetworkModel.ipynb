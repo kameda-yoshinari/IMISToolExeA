{
  "nbformat": 4,
  "nbformat_minor": 0,
  "metadata": {
    "kernelspec": {
      "display_name": "Python 3",
      "language": "python",
      "name": "python3"
    },
    "language_info": {
      "codemirror_mode": {
        "name": "ipython",
        "version": 3
      },
      "file_extension": ".py",
      "mimetype": "text/x-python",
      "name": "python",
      "nbconvert_exporter": "python",
      "pygments_lexer": "ipython3",
      "version": "3.6.5"
    },
    "colab": {
      "name": "GC4-3-4_NetworkModel.ipynb",
      "provenance": [],
      "collapsed_sections": [],
      "include_colab_link": true
    }
  },
  "cells": [
    {
      "cell_type": "markdown",
      "metadata": {
        "id": "view-in-github",
        "colab_type": "text"
      },
      "source": [
        "<a href=\"https://colab.research.google.com/github/kameda-yoshinari/IMISToolExeA2021/blob/main/600/pytorch_advanced-revised/4_pose_estimation/GC4_3_4_NetworkModel.ipynb\" target=\"_parent\"><img src=\"https://colab.research.google.com/assets/colab-badge.svg\" alt=\"Open In Colab\"/></a>"
      ]
    },
    {
      "cell_type": "markdown",
      "metadata": {
        "id": "oF2fWef2Orx8"
      },
      "source": [
        "# 4-3-4 ネットワークモデルの作成\n",
        "\n",
        "- 本ファイルでは、OpenPoseのネットワークモデルと順伝搬forward関数を作成します。\n"
      ]
    },
    {
      "cell_type": "markdown",
      "metadata": {
        "id": "1oEV-b91Orx-"
      },
      "source": [
        "# 4.3 学習目標\n",
        "\n",
        "1.\tOpenPoseのネットワーク構造をモジュール単位で理解する\n",
        "2.\tOpenPoseを構成する各モジュールのサブネットワーク構成を理解する\n",
        "3.\tOpenPoseのネットワーククラスを実装できるようになる\n",
        "\n"
      ]
    },
    {
      "cell_type": "markdown",
      "metadata": {
        "id": "BmSaYOz2Orx_"
      },
      "source": [
        "# 4.4 学習目標\n",
        "\n",
        "1.\tFeatureモジュールのサブネットワーク構成を理解する\n",
        "2.\tFeatureモジュールを実装できるようになる\n",
        "3.\tStageモジュールのblockを構成するサブネットワークを理解する\n",
        "4.\tStageモジュールを実装できるようになる\n"
      ]
    },
    {
      "cell_type": "markdown",
      "metadata": {
        "id": "AOFSuhyiOrx_"
      },
      "source": [
        "---\n",
        "# 事前準備\n",
        "\n",
        "\n",
        "とくになし"
      ]
    },
    {
      "cell_type": "code",
      "metadata": {
        "id": "TLkNOKxYOrx_"
      },
      "source": [
        "# 必要なパッケージのimport\n",
        "import torch\n",
        "import torch.nn as nn\n",
        "from torch.nn import init\n",
        "import torchvision"
      ],
      "execution_count": null,
      "outputs": []
    },
    {
      "cell_type": "code",
      "metadata": {
        "id": "ctWTCpwyOryA"
      },
      "source": [
        "class OpenPoseNet(nn.Module):\n",
        "    def __init__(self):\n",
        "        super(OpenPoseNet, self).__init__()\n",
        "\n",
        "        # Featureモジュール\n",
        "        self.model0 = OpenPose_Feature()\n",
        "\n",
        "        # Stageモジュール\n",
        "        # PAFs（Part Affinity Fields）側\n",
        "        self.model1_1 = make_OpenPose_block('block1_1')\n",
        "        self.model2_1 = make_OpenPose_block('block2_1')\n",
        "        self.model3_1 = make_OpenPose_block('block3_1')\n",
        "        self.model4_1 = make_OpenPose_block('block4_1')\n",
        "        self.model5_1 = make_OpenPose_block('block5_1')\n",
        "        self.model6_1 = make_OpenPose_block('block6_1')\n",
        "\n",
        "        # confidence heatmap側\n",
        "        self.model1_2 = make_OpenPose_block('block1_2')\n",
        "        self.model2_2 = make_OpenPose_block('block2_2')\n",
        "        self.model3_2 = make_OpenPose_block('block3_2')\n",
        "        self.model4_2 = make_OpenPose_block('block4_2')\n",
        "        self.model5_2 = make_OpenPose_block('block5_2')\n",
        "        self.model6_2 = make_OpenPose_block('block6_2')\n",
        "\n",
        "    def forward(self, x):\n",
        "        \"\"\"順伝搬の定義\"\"\"\n",
        "\n",
        "        # Featureモジュール\n",
        "        out1 = self.model0(x)\n",
        "\n",
        "        # Stage1\n",
        "        out1_1 = self.model1_1(out1)  # PAFs側\n",
        "        out1_2 = self.model1_2(out1)  # confidence heatmap側\n",
        "\n",
        "        # CStage2\n",
        "        out2 = torch.cat([out1_1, out1_2, out1], 1)  # 次元1のチャネルで結合\n",
        "        out2_1 = self.model2_1(out2)\n",
        "        out2_2 = self.model2_2(out2)\n",
        "\n",
        "        # Stage3\n",
        "        out3 = torch.cat([out2_1, out2_2, out1], 1)\n",
        "        out3_1 = self.model3_1(out3)\n",
        "        out3_2 = self.model3_2(out3)\n",
        "\n",
        "        # Stage4\n",
        "        out4 = torch.cat([out3_1, out3_2, out1], 1)\n",
        "        out4_1 = self.model4_1(out4)\n",
        "        out4_2 = self.model4_2(out4)\n",
        "\n",
        "        # Stage5\n",
        "        out5 = torch.cat([out4_1, out4_2, out1], 1)\n",
        "        out5_1 = self.model5_1(out5)\n",
        "        out5_2 = self.model5_2(out5)\n",
        "\n",
        "        # Stage6\n",
        "        out6 = torch.cat([out5_1, out5_2, out1], 1)\n",
        "        out6_1 = self.model6_1(out6)\n",
        "        out6_2 = self.model6_2(out6)\n",
        "\n",
        "        # 損失の計算用に各Stageの結果を格納\n",
        "        saved_for_loss = []\n",
        "        saved_for_loss.append(out1_1)  # PAFs側\n",
        "        saved_for_loss.append(out1_2)  # confidence heatmap側\n",
        "        saved_for_loss.append(out2_1)\n",
        "        saved_for_loss.append(out2_2)\n",
        "        saved_for_loss.append(out3_1)\n",
        "        saved_for_loss.append(out3_2)\n",
        "        saved_for_loss.append(out4_1)\n",
        "        saved_for_loss.append(out4_2)\n",
        "        saved_for_loss.append(out5_1)\n",
        "        saved_for_loss.append(out5_2)\n",
        "        saved_for_loss.append(out6_1)\n",
        "        saved_for_loss.append(out6_2)\n",
        "\n",
        "        # 最終的なPAFsのout6_1とconfidence heatmapのout6_2、そして\n",
        "        # 損失計算用に各ステージでのPAFsとheatmapを格納したsaved_for_lossを出力\n",
        "        # out6_1：torch.Size([minibatch, 38, 46, 46])\n",
        "        # out6_2：torch.Size([minibatch, 19, 46, 46])\n",
        "        # saved_for_loss:[out1_1, out_1_2, ・・・, out6_2]\n",
        "\n",
        "        return (out6_1, out6_2), saved_for_loss\n"
      ],
      "execution_count": null,
      "outputs": []
    },
    {
      "cell_type": "markdown",
      "metadata": {
        "id": "OxOQqzKkOryB"
      },
      "source": [
        "# Featureモジュール"
      ]
    },
    {
      "cell_type": "code",
      "metadata": {
        "id": "X98oVmQCOryB"
      },
      "source": [
        "class OpenPose_Feature(nn.Module):\n",
        "    def __init__(self):\n",
        "        super(OpenPose_Feature, self).__init__()\n",
        "\n",
        "        # VGG-19の最初10個の畳み込みを使用\n",
        "        # 初めて実行する際は、モデルの重みパラメータをダウンロードするため、実行に時間がかかる\n",
        "        vgg19 = torchvision.models.vgg19(pretrained=True)\n",
        "        model = {}\n",
        "        model['block0'] = vgg19.features[0:23]  # VGG19の最初の10個の畳み込み層まで\n",
        "\n",
        "        # 残りは新たな畳み込み層を2つ用意\n",
        "        model['block0'].add_module(\"23\", torch.nn.Conv2d(\n",
        "            512, 256, kernel_size=3, stride=1, padding=1))\n",
        "        model['block0'].add_module(\"24\", torch.nn.ReLU(inplace=True))\n",
        "        model['block0'].add_module(\"25\", torch.nn.Conv2d(\n",
        "            256, 128, kernel_size=3, stride=1, padding=1))\n",
        "        model['block0'].add_module(\"26\", torch.nn.ReLU(inplace=True))\n",
        "\n",
        "        self.model = model['block0']\n",
        "\n",
        "    def forward(self, x):\n",
        "        outputs = self.model(x)\n",
        "        return outputs\n"
      ],
      "execution_count": null,
      "outputs": []
    },
    {
      "cell_type": "markdown",
      "metadata": {
        "id": "YRTlkfYtOryB"
      },
      "source": [
        "# Stageモジュール"
      ]
    },
    {
      "cell_type": "code",
      "metadata": {
        "id": "ymTBB_poOryC"
      },
      "source": [
        "def make_OpenPose_block(block_name):\n",
        "    \"\"\"\n",
        "    コンフィグレーション変数からOpenPoseのStageモジュールのblcokを作成\n",
        "    nn.Moduleではなく、nn.Sequentialにする\n",
        "    \"\"\"\n",
        "\n",
        "    # 1. コンフィグレーションの辞書変数blocksを作成し、ネットワークを生成させる\n",
        "    # 最初に全パターンの辞書を用意し、引数block_nameのみを生成する\n",
        "    blocks = {}\n",
        "    # Stage 1\n",
        "    blocks['block1_1'] = [{'conv5_1_CPM_L1': [128, 128, 3, 1, 1]},\n",
        "                          {'conv5_2_CPM_L1': [128, 128, 3, 1, 1]},\n",
        "                          {'conv5_3_CPM_L1': [128, 128, 3, 1, 1]},\n",
        "                          {'conv5_4_CPM_L1': [128, 512, 1, 1, 0]},\n",
        "                          {'conv5_5_CPM_L1': [512, 38, 1, 1, 0]}]\n",
        "\n",
        "    blocks['block1_2'] = [{'conv5_1_CPM_L2': [128, 128, 3, 1, 1]},\n",
        "                          {'conv5_2_CPM_L2': [128, 128, 3, 1, 1]},\n",
        "                          {'conv5_3_CPM_L2': [128, 128, 3, 1, 1]},\n",
        "                          {'conv5_4_CPM_L2': [128, 512, 1, 1, 0]},\n",
        "                          {'conv5_5_CPM_L2': [512, 19, 1, 1, 0]}]\n",
        "\n",
        "    # Stages 2 - 6\n",
        "    for i in range(2, 7):\n",
        "        blocks['block%d_1' % i] = [\n",
        "            {'Mconv1_stage%d_L1' % i: [185, 128, 7, 1, 3]},\n",
        "            {'Mconv2_stage%d_L1' % i: [128, 128, 7, 1, 3]},\n",
        "            {'Mconv3_stage%d_L1' % i: [128, 128, 7, 1, 3]},\n",
        "            {'Mconv4_stage%d_L1' % i: [128, 128, 7, 1, 3]},\n",
        "            {'Mconv5_stage%d_L1' % i: [128, 128, 7, 1, 3]},\n",
        "            {'Mconv6_stage%d_L1' % i: [128, 128, 1, 1, 0]},\n",
        "            {'Mconv7_stage%d_L1' % i: [128, 38, 1, 1, 0]}\n",
        "        ]\n",
        "\n",
        "        blocks['block%d_2' % i] = [\n",
        "            {'Mconv1_stage%d_L2' % i: [185, 128, 7, 1, 3]},\n",
        "            {'Mconv2_stage%d_L2' % i: [128, 128, 7, 1, 3]},\n",
        "            {'Mconv3_stage%d_L2' % i: [128, 128, 7, 1, 3]},\n",
        "            {'Mconv4_stage%d_L2' % i: [128, 128, 7, 1, 3]},\n",
        "            {'Mconv5_stage%d_L2' % i: [128, 128, 7, 1, 3]},\n",
        "            {'Mconv6_stage%d_L2' % i: [128, 128, 1, 1, 0]},\n",
        "            {'Mconv7_stage%d_L2' % i: [128, 19, 1, 1, 0]}\n",
        "        ]\n",
        "\n",
        "    # 引数block_nameのコンフィグレーション辞書を取り出す\n",
        "    cfg_dict = blocks[block_name]\n",
        "\n",
        "    # 2. コンフィグレーション内容をリスト変数layersに格納\n",
        "    layers = []\n",
        "\n",
        "    # 0番目から最後の層までを作成\n",
        "    for i in range(len(cfg_dict)):\n",
        "        for k, v in cfg_dict[i].items():\n",
        "            if 'pool' in k:\n",
        "                layers += [nn.MaxPool2d(kernel_size=v[0], stride=v[1],\n",
        "                                        padding=v[2])]\n",
        "            else:\n",
        "                conv2d = nn.Conv2d(in_channels=v[0], out_channels=v[1],\n",
        "                                   kernel_size=v[2], stride=v[3],\n",
        "                                   padding=v[4])\n",
        "                layers += [conv2d, nn.ReLU(inplace=True)]\n",
        "\n",
        "    # 3. layersをSequentialにする\n",
        "    # ただし、最後にReLUはいらないのでその手前までを使用する\n",
        "    net = nn.Sequential(*layers[:-1])\n",
        "\n",
        "    # 4. 初期化関数の設定し、畳み込み層を初期化する\n",
        "\n",
        "    def _initialize_weights_norm(self):\n",
        "        for m in self.modules():\n",
        "            if isinstance(m, nn.Conv2d):\n",
        "                init.normal_(m.weight, std=0.01)\n",
        "                if m.bias is not None:\n",
        "                    init.constant_(m.bias, 0.0)\n",
        "\n",
        "    net.apply(_initialize_weights_norm)\n",
        "\n",
        "    return net\n"
      ],
      "execution_count": null,
      "outputs": []
    },
    {
      "cell_type": "markdown",
      "metadata": {
        "id": "JgI9otDVOryD"
      },
      "source": [
        "# 動作確認"
      ]
    },
    {
      "cell_type": "code",
      "metadata": {
        "id": "m9f_ngDWOryD"
      },
      "source": [
        "# Just to surpress UserWarning\n",
        "import warnings\n",
        "warnings.simplefilter('ignore')\n",
        "\n",
        "# モデルの定義\n",
        "net = OpenPoseNet()\n",
        "net.train()\n",
        "\n",
        "# ダミーデータの作成\n",
        "batch_size = 2\n",
        "dummy_img = torch.rand(batch_size, 3, 368, 368)\n",
        "\n",
        "# 計算\n",
        "outputs = net(dummy_img)\n",
        "print(outputs)\n"
      ],
      "execution_count": null,
      "outputs": []
    },
    {
      "cell_type": "markdown",
      "metadata": {
        "id": "MKyS8rmoOryE"
      },
      "source": [
        "以上"
      ]
    },
    {
      "cell_type": "markdown",
      "metadata": {
        "id": "aunUjNO0PQcb"
      },
      "source": [
        "---\n",
        "Revised by KAMEDA, Yoshinari at University of Tsukuba for lecture purpose.  \n",
        "Original: https://github.com/YutaroOgawa/pytorch_advanced\n",
        "\n",
        "2021/08/02. "
      ]
    }
  ]
}