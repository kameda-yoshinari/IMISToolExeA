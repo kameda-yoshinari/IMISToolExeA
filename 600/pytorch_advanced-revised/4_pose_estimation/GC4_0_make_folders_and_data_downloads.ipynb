{
  "nbformat": 4,
  "nbformat_minor": 0,
  "metadata": {
    "kernelspec": {
      "display_name": "Python 3",
      "language": "python",
      "name": "python3"
    },
    "language_info": {
      "codemirror_mode": {
        "name": "ipython",
        "version": 3
      },
      "file_extension": ".py",
      "mimetype": "text/x-python",
      "name": "python",
      "nbconvert_exporter": "python",
      "pygments_lexer": "ipython3",
      "version": "3.6.5"
    },
    "colab": {
      "name": "GC4-0_make_folders_and_data_downloads.ipynb",
      "provenance": [],
      "collapsed_sections": [],
      "include_colab_link": true
    }
  },
  "cells": [
    {
      "cell_type": "markdown",
      "metadata": {
        "id": "view-in-github",
        "colab_type": "text"
      },
      "source": [
        "<a href=\"https://colab.research.google.com/github/kameda-yoshinari/IMISToolExeA2021/blob/main/600/pytorch_advanced-revised/4_pose_estimation/GC4_0_make_folders_and_data_downloads.ipynb\" target=\"_parent\"><img src=\"https://colab.research.google.com/assets/colab-badge.svg\" alt=\"Open In Colab\"/></a>"
      ]
    },
    {
      "cell_type": "markdown",
      "metadata": {
        "id": "tjmswuH3m1iM"
      },
      "source": [
        "##  第4章 姿勢推定の準備ファイル\n",
        "\n",
        "- 本ファイルでは、第4章で使用するフォルダの作成とファイルのダウンロードを行います。"
      ]
    },
    {
      "cell_type": "markdown",
      "metadata": {
        "id": "_Z2iYK_ox7s-"
      },
      "source": [
        "---\n",
        "\n",
        "# Google Colab"
      ]
    },
    {
      "cell_type": "code",
      "metadata": {
        "id": "p12QTDHEx7tH"
      },
      "source": [
        "!echo \"Change to the JST notation.\"\n",
        "!rm /etc/localtime\n",
        "!ln -s /usr/share/zoneinfo/Japan /etc/localtime"
      ],
      "execution_count": null,
      "outputs": []
    },
    {
      "cell_type": "code",
      "metadata": {
        "id": "usdzzcLbx7tI"
      },
      "source": [
        "!echo \"Start mounting your Google Drive.\"\n",
        "from google.colab import drive \n",
        "drive.mount('/content/drive')\n",
        "%cd /content/drive/My\\ Drive/\n",
        "!echo \"Move to the working directory.\"\n",
        "%cd 202107_Tool-A/Work600/\n",
        "!ls -l"
      ],
      "execution_count": null,
      "outputs": []
    },
    {
      "cell_type": "markdown",
      "metadata": {
        "id": "fDc3dnE_x7tJ"
      },
      "source": [
        "---\n",
        "# 共通準備\n",
        "\n",
        "\"pytorch_advanced\" folder should be ready before you come here."
      ]
    },
    {
      "cell_type": "code",
      "metadata": {
        "id": "cED0rxM7x7tJ"
      },
      "source": [
        "# Skip this if you have already issued git in advance. \n",
        "# If you come here by way of 600-PyTorchADL.ipynb, \n",
        "# you should skip the git command (as you have already issued in 600).  \n",
        "# If you run git when pytorch_advanced already exists, git tells the error and clone won't be made.\n",
        "\n",
        "#!git clone https://github.com/YutaroOgawa/pytorch_advanced.git\n",
        "\n",
        "import os\n",
        "if os.path.exists(\"/content/drive/My Drive/202107_Tool-A/Work600/pytorch_advanced\"):\n",
        "    print(\"OK. Alreadly git cloned. You can go.\")\n",
        "else:\n",
        "    print(\"You'd better go back to the first 600-PyTorchADL.ipynb\")"
      ],
      "execution_count": null,
      "outputs": []
    },
    {
      "cell_type": "code",
      "metadata": {
        "id": "lRia6DwFx7tJ"
      },
      "source": [
        "!ls"
      ],
      "execution_count": null,
      "outputs": []
    },
    {
      "cell_type": "code",
      "metadata": {
        "id": "BGd5BWZZx7tJ"
      },
      "source": [
        "%cd \"pytorch_advanced\""
      ],
      "execution_count": null,
      "outputs": []
    },
    {
      "cell_type": "code",
      "metadata": {
        "id": "EgWF4QMix7tK"
      },
      "source": [
        "!ls"
      ],
      "execution_count": null,
      "outputs": []
    },
    {
      "cell_type": "code",
      "metadata": {
        "id": "1YelRffxx7tK"
      },
      "source": [
        "%cd \"4_pose_estimation\""
      ],
      "execution_count": null,
      "outputs": []
    },
    {
      "cell_type": "code",
      "metadata": {
        "id": "dRZz7hVLx7tK"
      },
      "source": [
        "!ls"
      ],
      "execution_count": null,
      "outputs": []
    },
    {
      "cell_type": "markdown",
      "metadata": {
        "id": "bckITJhjobOc"
      },
      "source": [
        "---\n",
        "# Utils, Data, and Weights\n",
        "\n",
        "[U-Tsukuba] Extra remarks:\n",
        "\n",
        "Working directories on the run are:\n",
        "\n",
        "* /root/utils (*.py) \n",
        "* /root/data (val2014.zip, COCO.json, mask.tar.gz, hit-1407826_640.jpg) \n",
        "* /root/weights  (pose_model_scratch.pth)\n",
        "\n",
        "val2014.zip and mask.tar.gz will be expanded there when needed.\n",
        "\n",
        "By then, files are stored at /content/drive/My Drive/202107_Tool-A/Work600/pytorch_advanced/4_pose_estimation."
      ]
    },
    {
      "cell_type": "markdown",
      "metadata": {
        "id": "Di8ANqAEnliN"
      },
      "source": [
        "---\n",
        "# Directories\n",
        "\n",
        "At /content/drive/My Drive/202107_Tool-A/Work600/pytorch_advanced/4_pose_estimation :"
      ]
    },
    {
      "cell_type": "code",
      "metadata": {
        "id": "yT0Ju1E78uhU"
      },
      "source": [
        "%cd '/content/drive/My Drive/202107_Tool-A/Work600/pytorch_advanced/4_pose_estimation'"
      ],
      "execution_count": null,
      "outputs": []
    },
    {
      "cell_type": "code",
      "metadata": {
        "id": "vINO3s2Um1iO"
      },
      "source": [
        "import os\n",
        "import urllib.request\n",
        "import zipfile\n",
        "import tarfile"
      ],
      "execution_count": null,
      "outputs": []
    },
    {
      "cell_type": "code",
      "metadata": {
        "id": "PkzsZv7Wm1iP"
      },
      "source": [
        "# フォルダ「data」が存在しない場合は作成する\n",
        "data_dir = \"./data/\"\n",
        "if not os.path.exists(data_dir):\n",
        "    os.mkdir(data_dir)"
      ],
      "execution_count": null,
      "outputs": []
    },
    {
      "cell_type": "code",
      "metadata": {
        "id": "AOT9g-0Nm1iP"
      },
      "source": [
        "# フォルダ「weights」が存在しない場合は作成する\n",
        "weights_dir = \"./weights/\"\n",
        "if not os.path.exists(weights_dir):\n",
        "    os.mkdir(weights_dir)"
      ],
      "execution_count": null,
      "outputs": []
    },
    {
      "cell_type": "code",
      "metadata": {
        "id": "hI8F2KoGoDBj"
      },
      "source": [
        "!ls -l data weights"
      ],
      "execution_count": null,
      "outputs": []
    },
    {
      "cell_type": "markdown",
      "metadata": {
        "id": "_421lDL882Ix"
      },
      "source": [
        "---\n",
        "# val2014.zip (MS COCO)"
      ]
    },
    {
      "cell_type": "code",
      "metadata": {
        "id": "Q72jauMsm1iP"
      },
      "source": [
        "# MSCOCOの2014 Val images [41K/6GB]をダウンロード\n",
        "# 6GBのダウンロードなので時間がかかります（3分弱）\n",
        "# ２回目以降は再ダウンロードしません\n",
        "\n",
        "url =  \"http://images.cocodataset.org/zips/val2014.zip\"\n",
        "target_path = os.path.join(data_dir, \"val2014.zip\") \n",
        "\n",
        "if not os.path.exists(target_path):\n",
        "    urllib.request.urlretrieve(url, target_path)    \n"
      ],
      "execution_count": null,
      "outputs": []
    },
    {
      "cell_type": "code",
      "metadata": {
        "id": "hjce1XktoWj7"
      },
      "source": [
        "!ls -l data"
      ],
      "execution_count": null,
      "outputs": []
    },
    {
      "cell_type": "markdown",
      "metadata": {
        "id": "k4XlC5zum1iQ"
      },
      "source": [
        "---\n",
        "# tensorboyさんのGitHubから必要なデータを入手\n",
        "\n",
        "## 1. COCO.json\n",
        "\n",
        "COCODatasetから使用しやすいようにtensorboyさんが加工したデータを使用します\n",
        "\n",
        "https://github.com/tensorboy/pytorch_Realtime_Multi-Person_Pose_Estimation\n",
        "\n",
        "Released under the MIT license  \n",
        "\n",
        "https://www.dropbox.com/s/0sj2q24hipiiq5t/COCO.json?dl=0  "
      ]
    },
    {
      "cell_type": "markdown",
      "metadata": {
        "id": "f7wsqeDhvK6W"
      },
      "source": [
        "[U-Tsukuba] I make a local copy for automated procedure.  \n",
        "Local mirror of COCO.json (407.5MB)  \n",
        "https://drive.google.com/file/d/1rTf1dZpee31BKmMw7DAX9UZiQOQDuCwt"
      ]
    },
    {
      "cell_type": "code",
      "metadata": {
        "id": "EjAZ6cSRm1iQ"
      },
      "source": [
        "# google drive downloader (for a large file)\n",
        "# https://medium.com/@acpanjan/download-google-drive-files-using-wget-3c2c025a8b99\n",
        "# You should change target directory and the first two lines (FILEID and OUTFILENAME) only\n",
        "\n",
        "# moving to the target directory\n",
        "%cd data\n",
        "\n",
        "! FILEID=1rTf1dZpee31BKmMw7DAX9UZiQOQDuCwt; \\\n",
        "OUTFILENAME=COCO.json; \\\n",
        "\\\n",
        "URLS=\"https://docs.google.com/uc?export=download&id=$FILEID\"; \\\n",
        "echo $FILEID $OUTFILENAME $URLS; \\\n",
        "URLC=`wget --quiet --save-cookies /root/cookies.txt --keep-session-cookies --no-check-certificate $URLS -O- | sed -rn 's/.*confirm=([0-9A-Za-z_]+).*/\\1\\n/p'`; \\\n",
        "echo $URLC; \\\n",
        "wget --load-cookies /root/cookies.txt \"https://docs.google.com/uc?export=download&confirm=\"$URLC\"&id=\"$FILEID -O $OUTFILENAME ; \\\n",
        "rm -f /root/cookies.txt \n",
        "\n",
        "# just check\n",
        "!ls -l\n",
        "\n",
        "# coming back to the original directory\n",
        "%cd -"
      ],
      "execution_count": null,
      "outputs": []
    },
    {
      "cell_type": "markdown",
      "metadata": {
        "id": "q5P0GRkpyNbq"
      },
      "source": [
        "## 2. mask.tar.tz\n",
        "\n",
        "画像中でアノテーション（人の関節位置の情報）がない人の部分をマスクするデータを用意します。\n",
        "\n",
        "フォルダ「data」に以下のデータ「mask.tar.gz」を配置\n",
        "マスクデータ「mask.tar.gz」\n",
        "\n",
        "https://www.dropbox.com/s/bd9ty7b4fqd5ebf/mask.tar.gz?dl=0\n",
        "\n",
        "[U-Tsukuba] I make a local copy for automated procedure.  \n",
        "Local mirror of mask.tar.gz (29.2MB)  \n",
        "\n",
        "https://drive.google.com/file/d/1b50ikKydibLEHKKn5EHKm76y-2RC7OqL"
      ]
    },
    {
      "cell_type": "code",
      "metadata": {
        "id": "WUr26lk6m1iQ"
      },
      "source": [
        "# google drive downloader (for a large file)\n",
        "# https://medium.com/@acpanjan/download-google-drive-files-using-wget-3c2c025a8b99\n",
        "# You should change target directory and the first two lines (FILEID and OUTFILENAME) only\n",
        "\n",
        "# moving to the target directory\n",
        "%cd data\n",
        "\n",
        "! FILEID=1b50ikKydibLEHKKn5EHKm76y-2RC7OqL; \\\n",
        "OUTFILENAME=mask.tar.gz; \\\n",
        "\\\n",
        "URLS=\"https://docs.google.com/uc?export=download&id=$FILEID\"; \\\n",
        "echo $FILEID $OUTFILENAME $URLS; \\\n",
        "URLC=`wget --quiet --save-cookies /root/cookies.txt --keep-session-cookies --no-check-certificate $URLS -O- | sed -rn 's/.*confirm=([0-9A-Za-z_]+).*/\\1\\n/p'`; \\\n",
        "echo $URLC; \\\n",
        "wget --load-cookies /root/cookies.txt \"https://docs.google.com/uc?export=download&confirm=\"$URLC\"&id=\"$FILEID -O $OUTFILENAME ; \\\n",
        "rm -f /root/cookies.txt \n",
        "\n",
        "# just check\n",
        "!ls -l\n",
        "\n",
        "# coming back to the original directory\n",
        "%cd -"
      ],
      "execution_count": null,
      "outputs": []
    },
    {
      "cell_type": "markdown",
      "metadata": {
        "id": "mTHy0xirm1iR"
      },
      "source": [
        "---\n",
        "# 学習済みモデルのダウンロード (weights)"
      ]
    },
    {
      "cell_type": "markdown",
      "metadata": {
        "id": "NGpXHympzDdY"
      },
      "source": [
        "tensorboyさんによる、学習済みのOpenPoseモデル「pose_model_scratch.pth」を用意します。\n",
        "\n",
        "フォルダ「weights」に以下の「pose_model_scratch.pth」を配置\n",
        "学習済みモデル「pose_model_scratch.pth」\n",
        "\n",
        "https://www.dropbox.com/s/5v654d2u65fuvyr/pose_model_scratch.pth?dl=0\n",
        "\n",
        "[U-Tsukuba] I make a local copy for automated procedure.  \n",
        "Local mirror of pose_model_scratch.pth (199.6MB)  \n",
        "\n",
        "https://drive.google.com/file/d/11N7ZfbsGxjC8LBWyhlFrWKdw_N1xbufp"
      ]
    },
    {
      "cell_type": "code",
      "metadata": {
        "id": "5kStTQO6m1iS"
      },
      "source": [
        "# google drive downloader (for a large file)\n",
        "# https://medium.com/@acpanjan/download-google-drive-files-using-wget-3c2c025a8b99\n",
        "# You should change the first two lines (FILEID and OUTFILENAME) only\n",
        "\n",
        "# moving to the target directory\n",
        "%cd weights\n",
        "\n",
        "! FILEID=11N7ZfbsGxjC8LBWyhlFrWKdw_N1xbufp; \\\n",
        "OUTFILENAME=pose_model_scratch.pth; \\\n",
        "\\\n",
        "URLS=\"https://docs.google.com/uc?export=download&id=$FILEID\"; \\\n",
        "echo $FILEID $OUTFILENAME $URLS; \\\n",
        "URLC=`wget --quiet --save-cookies /root/cookies.txt --keep-session-cookies --no-check-certificate $URLS -O- | sed -rn 's/.*confirm=([0-9A-Za-z_]+).*/\\1\\n/p'`; \\\n",
        "echo $URLC; \\\n",
        "wget --load-cookies /root/cookies.txt \"https://docs.google.com/uc?export=download&confirm=\"$URLC\"&id=\"$FILEID -O $OUTFILENAME ; \\\n",
        "rm -f /root/cookies.txt \n",
        "\n",
        "# just check\n",
        "!ls -l\n",
        "\n",
        "# coming back to the original directory\n",
        "%cd -"
      ],
      "execution_count": null,
      "outputs": []
    },
    {
      "cell_type": "markdown",
      "metadata": {
        "id": "E0gDYrfI0Q20"
      },
      "source": [
        "---\n",
        "# 草野球の画像を手動でダウンロード（予め実施済）\n",
        "\n",
        "\n",
        "https://pixabay.com/ja/photos/%E3%83%92%E3%83%83%E3%83%88-%E3%82%AD%E3%83%A3%E3%83%83%E3%83%81%E3%83%A3%E3%83%BC-%E9%87%8E%E7%90%83-1407826/\n",
        "\n",
        "の640×426サイズの画像\n",
        "（画像権利情報：商用利用無料、帰属表示は必要ありません）\n",
        "\n",
        "は、フォルダ「data」の直下に置いてあります。\n",
        "\n"
      ]
    },
    {
      "cell_type": "markdown",
      "metadata": {
        "id": "j6nTsO2p9jkd"
      },
      "source": [
        "---\n",
        "# Final check\n"
      ]
    },
    {
      "cell_type": "code",
      "metadata": {
        "id": "WcJAKLud0lER"
      },
      "source": [
        "%cd '/content/drive/My Drive/202107_Tool-A/Work600/pytorch_advanced/4_pose_estimation'\n",
        "!ls -l utils data weights"
      ],
      "execution_count": null,
      "outputs": []
    },
    {
      "cell_type": "markdown",
      "metadata": {
        "id": "FAA_E12E6bqW"
      },
      "source": [
        "---\n",
        "# Example code of data extraction\n",
        "\n",
        "Suppose the working directory is /content/drive/My Drive/202107_Tool-A/Work600/pytorch_advanced/4_pose_estimation ."
      ]
    },
    {
      "cell_type": "code",
      "metadata": {
        "id": "4RrZ0kBf6m2b"
      },
      "source": [
        "# it takes 6 minutes or so.\n",
        "\n",
        "!mkdir -p /root/data\n",
        "%cd       /root/data\n",
        "!tar xfz '/content/drive/My Drive/202107_Tool-A/Work600/pytorch_advanced/4_pose_estimation/data/mask.tar.gz'\n",
        "# 40504 image files, 6GB or over in total\n",
        "!unzip -q -u '/content/drive/My Drive/202107_Tool-A/Work600/pytorch_advanced/4_pose_estimation/data/val2014.zip'\n",
        "\n",
        "%cd '/content/drive/My Drive/202107_Tool-A/Work600/pytorch_advanced/4_pose_estimation/'\n",
        "!rm -f data/val2014 data/mask\n",
        "!ln -s /root/data/val2014 data/val2014\n",
        "!ln -s /root/data/mask data/mask\n",
        "\n",
        "!ls -ld data/val2014/ data/mask/\n"
      ],
      "execution_count": null,
      "outputs": []
    },
    {
      "cell_type": "markdown",
      "metadata": {
        "id": "1PDoZCrTm1iS"
      },
      "source": [
        "以上"
      ]
    },
    {
      "cell_type": "markdown",
      "metadata": {
        "id": "yDd3fzhL2Qla"
      },
      "source": [
        "---\n",
        "Revised by KAMEDA, Yoshinari at University of Tsukuba for lecture purpose.  \n",
        "Original: https://github.com/YutaroOgawa/pytorch_advanced\n",
        "\n",
        "2021/08/03. Use of symbolic link on google drive.  \n",
        "2021/08/02.  "
      ]
    }
  ]
}