{
  "nbformat": 4,
  "nbformat_minor": 0,
  "metadata": {
    "kernelspec": {
      "display_name": "Python 3",
      "language": "python",
      "name": "python3"
    },
    "language_info": {
      "codemirror_mode": {
        "name": "ipython",
        "version": 3
      },
      "file_extension": ".py",
      "mimetype": "text/x-python",
      "name": "python",
      "nbconvert_exporter": "python",
      "pygments_lexer": "ipython3",
      "version": "3.6.5"
    },
    "colab": {
      "name": "GC4-0_make_folders_and_data_downloads.ipynb",
      "provenance": [],
      "collapsed_sections": [],
      "include_colab_link": true
    }
  },
  "cells": [
    {
      "cell_type": "markdown",
      "metadata": {
        "id": "view-in-github",
        "colab_type": "text"
      },
      "source": [
        "<a href=\"https://colab.research.google.com/github/kameda-yoshinari/IMISToolExeA2021/blob/main/600/pytorch_advanced-revised/4_pose_estimation/GC4_0_make_folders_and_data_downloads.ipynb\" target=\"_parent\"><img src=\"https://colab.research.google.com/assets/colab-badge.svg\" alt=\"Open In Colab\"/></a>"
      ]
    },
    {
      "cell_type": "markdown",
      "metadata": {
        "id": "tjmswuH3m1iM"
      },
      "source": [
        "##  第4章 姿勢推定の準備ファイル\n",
        "\n",
        "- 本ファイルでは、第4章で使用するフォルダの作成とファイルのダウンロードを行います。"
      ]
    },
    {
      "cell_type": "markdown",
      "metadata": {
        "id": "_Z2iYK_ox7s-"
      },
      "source": [
        "---\n",
        "\n",
        "# Google Colab"
      ]
    },
    {
      "cell_type": "code",
      "metadata": {
        "id": "p12QTDHEx7tH",
        "colab": {
          "base_uri": "https://localhost:8080/"
        },
        "outputId": "c016bc78-2058-4c77-a1a2-03bd74c4f323"
      },
      "source": [
        "!echo \"Change to the JST notation.\"\n",
        "!rm /etc/localtime\n",
        "!ln -s /usr/share/zoneinfo/Japan /etc/localtime"
      ],
      "execution_count": null,
      "outputs": [
        {
          "output_type": "stream",
          "text": [
            "Change to the JST notation.\n"
          ],
          "name": "stdout"
        }
      ]
    },
    {
      "cell_type": "code",
      "metadata": {
        "id": "usdzzcLbx7tI",
        "colab": {
          "base_uri": "https://localhost:8080/"
        },
        "outputId": "52ccf3c4-1d1f-4426-b0dd-4606c39b1e47"
      },
      "source": [
        "!echo \"Start mounting your Google Drive.\"\n",
        "from google.colab import drive \n",
        "drive.mount('/content/drive')\n",
        "%cd /content/drive/My\\ Drive/\n",
        "!echo \"Move to the working directory.\"\n",
        "%cd 202107_Tool-A/Work600/\n",
        "!ls -l"
      ],
      "execution_count": null,
      "outputs": [
        {
          "output_type": "stream",
          "text": [
            "Start mounting your Google Drive.\n",
            "Mounted at /content/drive\n",
            "/content/drive/My Drive\n",
            "Move to the working directory.\n",
            "/content/drive/My Drive/202107_Tool-A/Work600\n",
            "total 4\n",
            "drwx------ 2 root root 4096 Jul 31 09:41 pytorch_advanced\n"
          ],
          "name": "stdout"
        }
      ]
    },
    {
      "cell_type": "markdown",
      "metadata": {
        "id": "fDc3dnE_x7tJ"
      },
      "source": [
        "---\n",
        "# 共通準備\n",
        "\n",
        "\"pytorch_advanced\" folder should be ready before you come here."
      ]
    },
    {
      "cell_type": "code",
      "metadata": {
        "id": "cED0rxM7x7tJ",
        "colab": {
          "base_uri": "https://localhost:8080/"
        },
        "outputId": "2738409b-469b-48b3-d91a-0cc5c0de604e"
      },
      "source": [
        "# Skip this if you have already issued git in advance. \n",
        "# If you come here by way of 600-PyTorchADL.ipynb, \n",
        "# you should skip the git command (as you have already issued in 600).  \n",
        "# If you run git when pytorch_advanced already exists, git tells the error and clone won't be made.\n",
        "\n",
        "#!git clone https://github.com/YutaroOgawa/pytorch_advanced.git\n",
        "\n",
        "import os\n",
        "if os.path.exists(\"/content/drive/My Drive/202107_Tool-A/Work600/pytorch_advanced\"):\n",
        "    print(\"OK. Alreadly git cloned. You can go.\")\n",
        "else:\n",
        "    print(\"You'd better go back to the first 600-PyTorchADL.ipynb\")"
      ],
      "execution_count": null,
      "outputs": [
        {
          "output_type": "stream",
          "text": [
            "OK. Alreadly git cloned. You can go.\n"
          ],
          "name": "stdout"
        }
      ]
    },
    {
      "cell_type": "code",
      "metadata": {
        "id": "lRia6DwFx7tJ",
        "colab": {
          "base_uri": "https://localhost:8080/"
        },
        "outputId": "6913f0fd-754c-4e44-f88f-aaf008ce5376"
      },
      "source": [
        "!ls"
      ],
      "execution_count": null,
      "outputs": [
        {
          "output_type": "stream",
          "text": [
            "pytorch_advanced\n"
          ],
          "name": "stdout"
        }
      ]
    },
    {
      "cell_type": "code",
      "metadata": {
        "id": "BGd5BWZZx7tJ",
        "colab": {
          "base_uri": "https://localhost:8080/"
        },
        "outputId": "60792542-db7f-46cb-a570-72550429fffc"
      },
      "source": [
        "%cd \"pytorch_advanced\""
      ],
      "execution_count": null,
      "outputs": [
        {
          "output_type": "stream",
          "text": [
            "/content/drive/My Drive/202107_Tool-A/Work600/pytorch_advanced\n"
          ],
          "name": "stdout"
        }
      ]
    },
    {
      "cell_type": "code",
      "metadata": {
        "id": "EgWF4QMix7tK",
        "colab": {
          "base_uri": "https://localhost:8080/"
        },
        "outputId": "c9ddb47a-5164-4247-b648-d06125f540f4"
      },
      "source": [
        "!ls"
      ],
      "execution_count": null,
      "outputs": [
        {
          "output_type": "stream",
          "text": [
            "1_image_classification\t 7_nlp_sentiment_transformer\n",
            "2_objectdetection\t 8_nlp_sentiment_bert\n",
            "3_semantic_segmentation  9_video_classification_eco\n",
            "4_pose_estimation\t etc\n",
            "5_gan_generation\t LICENSE\n",
            "6_gan_anomaly_detection  README.md\n"
          ],
          "name": "stdout"
        }
      ]
    },
    {
      "cell_type": "code",
      "metadata": {
        "id": "1YelRffxx7tK",
        "colab": {
          "base_uri": "https://localhost:8080/"
        },
        "outputId": "8bfc5ed2-36ea-4b79-8908-067aa10a2429"
      },
      "source": [
        "%cd \"4_pose_estimation\""
      ],
      "execution_count": null,
      "outputs": [
        {
          "output_type": "stream",
          "text": [
            "/content/drive/My Drive/202107_Tool-A/Work600/pytorch_advanced/4_pose_estimation\n"
          ],
          "name": "stdout"
        }
      ]
    },
    {
      "cell_type": "code",
      "metadata": {
        "id": "dRZz7hVLx7tK",
        "colab": {
          "base_uri": "https://localhost:8080/"
        },
        "outputId": "e80ab76e-e902-48cd-e43b-9fcf007cc1b3"
      },
      "source": [
        "!ls"
      ],
      "execution_count": null,
      "outputs": [
        {
          "output_type": "stream",
          "text": [
            "4-2_DataLoader.ipynb\t     4-7_OpenPose_inference.ipynb\t    utils\n",
            "4-3-4_NetworkModel.ipynb     data\t\t\t\t    weights\n",
            "4-5_TensorBoardX.ipynb\t     make_folders_and_data_downloads.ipynb\n",
            "4-6_OpenPose_training.ipynb  tbX\n"
          ],
          "name": "stdout"
        }
      ]
    },
    {
      "cell_type": "markdown",
      "metadata": {
        "id": "bckITJhjobOc"
      },
      "source": [
        "---\n",
        "# Utils, Data, and Weights\n",
        "\n",
        "[U-Tsukuba] Extra remarks:\n",
        "\n",
        "Working directories on the run are:\n",
        "\n",
        "* /root/utils (*.py) \n",
        "* /root/data (val2014.zip, COCO.json, mask.tar.gz, hit-1407826_640.jpg) \n",
        "* /root/weights  (pose_model_scratch.pth)\n",
        "\n",
        "val2014.zip and mask.tar.gz will be expanded there when needed.\n",
        "\n",
        "By then, files are stored at /content/drive/My Drive/202107_Tool-A/Work600/pytorch_advanced/4_pose_estimation."
      ]
    },
    {
      "cell_type": "markdown",
      "metadata": {
        "id": "Di8ANqAEnliN"
      },
      "source": [
        "---\n",
        "# Directories\n",
        "\n",
        "At /content/drive/My Drive/202107_Tool-A/Work600/pytorch_advanced/4_pose_estimation :"
      ]
    },
    {
      "cell_type": "code",
      "metadata": {
        "id": "yT0Ju1E78uhU"
      },
      "source": [
        "%cd '/content/drive/My Drive/202107_Tool-A/Work600/pytorch_advanced/4_pose_estimation'"
      ],
      "execution_count": null,
      "outputs": []
    },
    {
      "cell_type": "code",
      "metadata": {
        "id": "vINO3s2Um1iO"
      },
      "source": [
        "import os\n",
        "import urllib.request\n",
        "import zipfile\n",
        "import tarfile"
      ],
      "execution_count": null,
      "outputs": []
    },
    {
      "cell_type": "code",
      "metadata": {
        "id": "PkzsZv7Wm1iP"
      },
      "source": [
        "# フォルダ「data」が存在しない場合は作成する\n",
        "data_dir = \"./data/\"\n",
        "if not os.path.exists(data_dir):\n",
        "    os.mkdir(data_dir)"
      ],
      "execution_count": null,
      "outputs": []
    },
    {
      "cell_type": "code",
      "metadata": {
        "id": "AOT9g-0Nm1iP"
      },
      "source": [
        "# フォルダ「weights」が存在しない場合は作成する\n",
        "weights_dir = \"./weights/\"\n",
        "if not os.path.exists(weights_dir):\n",
        "    os.mkdir(weights_dir)"
      ],
      "execution_count": null,
      "outputs": []
    },
    {
      "cell_type": "code",
      "metadata": {
        "colab": {
          "base_uri": "https://localhost:8080/"
        },
        "id": "hI8F2KoGoDBj",
        "outputId": "fd554b1b-46bf-40b1-e5ff-b096b8b04eb8"
      },
      "source": [
        "!ls -l data weights"
      ],
      "execution_count": null,
      "outputs": [
        {
          "output_type": "stream",
          "text": [
            "data:\n",
            "total 6936527\n",
            "-rw------- 1 root root  427299390 Aug  1 14:23 COCO.json\n",
            "-rw------- 1 root root      98237 Jul 31 09:42 hit-1407826_640.jpg\n",
            "-rw------- 1 root root   30591896 Aug  1 12:52 mask.tar.gz\n",
            "-rw------- 1 root root 6645013297 Aug  1 12:49 val2014.zip\n",
            "\n",
            "weights:\n",
            "total 204378\n",
            "-rw------- 1 root root 209282651 Aug  1 12:52 pose_model_scratch.pth\n"
          ],
          "name": "stdout"
        }
      ]
    },
    {
      "cell_type": "markdown",
      "metadata": {
        "id": "_421lDL882Ix"
      },
      "source": [
        "---\n",
        "# val2014.zip (MS COCO)"
      ]
    },
    {
      "cell_type": "code",
      "metadata": {
        "id": "Q72jauMsm1iP"
      },
      "source": [
        "# MSCOCOの2014 Val images [41K/6GB]をダウンロード\n",
        "# 6GBのダウンロードなので時間がかかります（3分弱）\n",
        "# ２回目以降は再ダウンロードしません\n",
        "\n",
        "url =  \"http://images.cocodataset.org/zips/val2014.zip\"\n",
        "target_path = os.path.join(data_dir, \"val2014.zip\") \n",
        "\n",
        "if not os.path.exists(target_path):\n",
        "    urllib.request.urlretrieve(url, target_path)    \n"
      ],
      "execution_count": null,
      "outputs": []
    },
    {
      "cell_type": "code",
      "metadata": {
        "colab": {
          "base_uri": "https://localhost:8080/"
        },
        "id": "hjce1XktoWj7",
        "outputId": "4d501ab3-0658-4b23-feba-50fa12a0323b"
      },
      "source": [
        "!ls -l data"
      ],
      "execution_count": null,
      "outputs": [
        {
          "output_type": "stream",
          "text": [
            "total 6936527\n",
            "-rw------- 1 root root  427299390 Aug  1 14:23 COCO.json\n",
            "-rw------- 1 root root      98237 Jul 31 09:42 hit-1407826_640.jpg\n",
            "-rw------- 1 root root   30591896 Aug  1 12:52 mask.tar.gz\n",
            "-rw------- 1 root root 6645013297 Aug  1 12:49 val2014.zip\n"
          ],
          "name": "stdout"
        }
      ]
    },
    {
      "cell_type": "markdown",
      "metadata": {
        "id": "k4XlC5zum1iQ"
      },
      "source": [
        "---\n",
        "# tensorboyさんのGitHubから必要なデータを入手\n",
        "\n",
        "## 1. COCO.json\n",
        "\n",
        "COCODatasetから使用しやすいようにtensorboyさんが加工したデータを使用します\n",
        "\n",
        "https://github.com/tensorboy/pytorch_Realtime_Multi-Person_Pose_Estimation\n",
        "\n",
        "Released under the MIT license  \n",
        "\n",
        "https://www.dropbox.com/s/0sj2q24hipiiq5t/COCO.json?dl=0  "
      ]
    },
    {
      "cell_type": "markdown",
      "metadata": {
        "id": "f7wsqeDhvK6W"
      },
      "source": [
        "[U-Tsukuba] I make a local copy for automated procedure.  \n",
        "Local mirror of COCO.json (407.5MB)  \n",
        "https://drive.google.com/file/d/1rTf1dZpee31BKmMw7DAX9UZiQOQDuCwt"
      ]
    },
    {
      "cell_type": "code",
      "metadata": {
        "colab": {
          "base_uri": "https://localhost:8080/"
        },
        "id": "EjAZ6cSRm1iQ",
        "outputId": "49f76d97-3e85-4a93-96d9-4e716d4d4dff"
      },
      "source": [
        "# google drive downloader (for a large file)\n",
        "# https://medium.com/@acpanjan/download-google-drive-files-using-wget-3c2c025a8b99\n",
        "# You should change target directory and the first two lines (FILEID and OUTFILENAME) only\n",
        "\n",
        "# moving to the target directory\n",
        "%cd data\n",
        "\n",
        "! FILEID=1rTf1dZpee31BKmMw7DAX9UZiQOQDuCwt; \\\n",
        "OUTFILENAME=COCO.json; \\\n",
        "\\\n",
        "URLS=\"https://docs.google.com/uc?export=download&id=$FILEID\"; \\\n",
        "echo $FILEID $OUTFILENAME $URLS; \\\n",
        "URLC=`wget --quiet --save-cookies /root/cookies.txt --keep-session-cookies --no-check-certificate $URLS -O- | sed -rn 's/.*confirm=([0-9A-Za-z_]+).*/\\1\\n/p'`; \\\n",
        "echo $URLC; \\\n",
        "wget --load-cookies /root/cookies.txt \"https://docs.google.com/uc?export=download&confirm=\"$URLC\"&id=\"$FILEID -O $OUTFILENAME ; \\\n",
        "rm -f /root/cookies.txt \n",
        "\n",
        "# just check\n",
        "!ls -l\n",
        "\n",
        "# coming back to the original directory\n",
        "%cd -"
      ],
      "execution_count": null,
      "outputs": [
        {
          "output_type": "stream",
          "text": [
            "/content/drive/My Drive/202107_Tool-A/Work600/pytorch_advanced/4_pose_estimation/data\n",
            "1rTf1dZpee31BKmMw7DAX9UZiQOQDuCwt COCO.json https://docs.google.com/uc?export=download&id=1rTf1dZpee31BKmMw7DAX9UZiQOQDuCwt\n",
            "FUDB\n",
            "--2021-08-01 14:22:39--  https://docs.google.com/uc?export=download&confirm=FUDB&id=1rTf1dZpee31BKmMw7DAX9UZiQOQDuCwt\n",
            "Resolving docs.google.com (docs.google.com)... 108.177.97.139, 108.177.97.102, 108.177.97.138, ...\n",
            "Connecting to docs.google.com (docs.google.com)|108.177.97.139|:443... connected.\n",
            "HTTP request sent, awaiting response... 302 Moved Temporarily\n",
            "Location: https://doc-0c-5k-docs.googleusercontent.com/docs/securesc/ojgkq1mngvv4s58sn775mn6u04qf6emi/9an24dfe2savthra0dnatnnaim8nfugv/1627795350000/13943300437040148116/06255471083340725048Z/1rTf1dZpee31BKmMw7DAX9UZiQOQDuCwt?e=download [following]\n",
            "--2021-08-01 14:22:39--  https://doc-0c-5k-docs.googleusercontent.com/docs/securesc/ojgkq1mngvv4s58sn775mn6u04qf6emi/9an24dfe2savthra0dnatnnaim8nfugv/1627795350000/13943300437040148116/06255471083340725048Z/1rTf1dZpee31BKmMw7DAX9UZiQOQDuCwt?e=download\n",
            "Resolving doc-0c-5k-docs.googleusercontent.com (doc-0c-5k-docs.googleusercontent.com)... 142.250.157.132, 2404:6800:4008:c13::84\n",
            "Connecting to doc-0c-5k-docs.googleusercontent.com (doc-0c-5k-docs.googleusercontent.com)|142.250.157.132|:443... connected.\n",
            "HTTP request sent, awaiting response... 302 Found\n",
            "Location: https://docs.google.com/nonceSigner?nonce=3pf13c1kqdvjc&continue=https://doc-0c-5k-docs.googleusercontent.com/docs/securesc/ojgkq1mngvv4s58sn775mn6u04qf6emi/9an24dfe2savthra0dnatnnaim8nfugv/1627795350000/13943300437040148116/06255471083340725048Z/1rTf1dZpee31BKmMw7DAX9UZiQOQDuCwt?e%3Ddownload&hash=ub7p45vo1b675ctj9hdvok4bogf8a4bk [following]\n",
            "--2021-08-01 14:22:39--  https://docs.google.com/nonceSigner?nonce=3pf13c1kqdvjc&continue=https://doc-0c-5k-docs.googleusercontent.com/docs/securesc/ojgkq1mngvv4s58sn775mn6u04qf6emi/9an24dfe2savthra0dnatnnaim8nfugv/1627795350000/13943300437040148116/06255471083340725048Z/1rTf1dZpee31BKmMw7DAX9UZiQOQDuCwt?e%3Ddownload&hash=ub7p45vo1b675ctj9hdvok4bogf8a4bk\n",
            "Connecting to docs.google.com (docs.google.com)|108.177.97.139|:443... connected.\n",
            "HTTP request sent, awaiting response... 302 Found\n",
            "Location: https://doc-0c-5k-docs.googleusercontent.com/docs/securesc/ojgkq1mngvv4s58sn775mn6u04qf6emi/9an24dfe2savthra0dnatnnaim8nfugv/1627795350000/13943300437040148116/06255471083340725048Z/1rTf1dZpee31BKmMw7DAX9UZiQOQDuCwt?e=download&nonce=3pf13c1kqdvjc&user=06255471083340725048Z&hash=i5ftve31qat1o3k3sbomgdqvq34i8292 [following]\n",
            "--2021-08-01 14:22:40--  https://doc-0c-5k-docs.googleusercontent.com/docs/securesc/ojgkq1mngvv4s58sn775mn6u04qf6emi/9an24dfe2savthra0dnatnnaim8nfugv/1627795350000/13943300437040148116/06255471083340725048Z/1rTf1dZpee31BKmMw7DAX9UZiQOQDuCwt?e=download&nonce=3pf13c1kqdvjc&user=06255471083340725048Z&hash=i5ftve31qat1o3k3sbomgdqvq34i8292\n",
            "Connecting to doc-0c-5k-docs.googleusercontent.com (doc-0c-5k-docs.googleusercontent.com)|142.250.157.132|:443... connected.\n",
            "HTTP request sent, awaiting response... 200 OK\n",
            "Length: unspecified [application/json]\n",
            "Saving to: ‘COCO.json’\n",
            "\n",
            "COCO.json               [      <=>           ] 407.50M  50.8MB/s    in 8.0s    \n",
            "\n",
            "2021-08-01 14:22:48 (51.1 MB/s) - ‘COCO.json’ saved [427299390]\n",
            "\n",
            "total 6936527\n",
            "-rw------- 1 root root  427299390 Aug  1 14:22 COCO.json\n",
            "-rw------- 1 root root      98237 Jul 31 09:42 hit-1407826_640.jpg\n",
            "-rw------- 1 root root   30591896 Aug  1 12:52 mask.tar.gz\n",
            "-rw------- 1 root root 6645013297 Aug  1 12:49 val2014.zip\n",
            "/content/drive/My Drive/202107_Tool-A/Work600/pytorch_advanced/4_pose_estimation\n"
          ],
          "name": "stdout"
        }
      ]
    },
    {
      "cell_type": "markdown",
      "metadata": {
        "id": "q5P0GRkpyNbq"
      },
      "source": [
        "## 2. mask.tar.tz\n",
        "\n",
        "画像中でアノテーション（人の関節位置の情報）がない人の部分をマスクするデータを用意します。\n",
        "\n",
        "フォルダ「data」に以下のデータ「mask.tar.gz」を配置\n",
        "マスクデータ「mask.tar.gz」\n",
        "\n",
        "https://www.dropbox.com/s/bd9ty7b4fqd5ebf/mask.tar.gz?dl=0\n",
        "\n",
        "[U-Tsukuba] I make a local copy for automated procedure.  \n",
        "Local mirror of mask.tar.gz (29.2MB)  \n",
        "\n",
        "https://drive.google.com/file/d/1b50ikKydibLEHKKn5EHKm76y-2RC7OqL"
      ]
    },
    {
      "cell_type": "code",
      "metadata": {
        "id": "WUr26lk6m1iQ"
      },
      "source": [
        "# google drive downloader (for a large file)\n",
        "# https://medium.com/@acpanjan/download-google-drive-files-using-wget-3c2c025a8b99\n",
        "# You should change target directory and the first two lines (FILEID and OUTFILENAME) only\n",
        "\n",
        "# moving to the target directory\n",
        "%cd data\n",
        "\n",
        "! FILEID=1b50ikKydibLEHKKn5EHKm76y-2RC7OqL; \\\n",
        "OUTFILENAME=mask.tar.gz; \\\n",
        "\\\n",
        "URLS=\"https://docs.google.com/uc?export=download&id=$FILEID\"; \\\n",
        "echo $FILEID $OUTFILENAME $URLS; \\\n",
        "URLC=`wget --quiet --save-cookies /root/cookies.txt --keep-session-cookies --no-check-certificate $URLS -O- | sed -rn 's/.*confirm=([0-9A-Za-z_]+).*/\\1\\n/p'`; \\\n",
        "echo $URLC; \\\n",
        "wget --load-cookies /root/cookies.txt \"https://docs.google.com/uc?export=download&confirm=\"$URLC\"&id=\"$FILEID -O $OUTFILENAME ; \\\n",
        "rm -f /root/cookies.txt \n",
        "\n",
        "# just check\n",
        "!ls -l\n",
        "\n",
        "# coming back to the original directory\n",
        "%cd -"
      ],
      "execution_count": null,
      "outputs": []
    },
    {
      "cell_type": "markdown",
      "metadata": {
        "id": "mTHy0xirm1iR"
      },
      "source": [
        "---\n",
        "# 学習済みモデルのダウンロード (weights)"
      ]
    },
    {
      "cell_type": "markdown",
      "metadata": {
        "id": "NGpXHympzDdY"
      },
      "source": [
        "tensorboyさんによる、学習済みのOpenPoseモデル「pose_model_scratch.pth」を用意します。\n",
        "\n",
        "フォルダ「weights」に以下の「pose_model_scratch.pth」を配置\n",
        "学習済みモデル「pose_model_scratch.pth」\n",
        "\n",
        "https://www.dropbox.com/s/5v654d2u65fuvyr/pose_model_scratch.pth?dl=0\n",
        "\n",
        "[U-Tsukuba] I make a local copy for automated procedure.  \n",
        "Local mirror of pose_model_scratch.pth (199.6MB)  \n",
        "\n",
        "https://drive.google.com/file/d/11N7ZfbsGxjC8LBWyhlFrWKdw_N1xbufp"
      ]
    },
    {
      "cell_type": "code",
      "metadata": {
        "id": "5kStTQO6m1iS"
      },
      "source": [
        "# google drive downloader (for a large file)\n",
        "# https://medium.com/@acpanjan/download-google-drive-files-using-wget-3c2c025a8b99\n",
        "# You should change the first two lines (FILEID and OUTFILENAME) only\n",
        "\n",
        "# moving to the target directory\n",
        "%cd weights\n",
        "\n",
        "! FILEID=11N7ZfbsGxjC8LBWyhlFrWKdw_N1xbufp; \\\n",
        "OUTFILENAME=pose_model_scratch.pth; \\\n",
        "\\\n",
        "URLS=\"https://docs.google.com/uc?export=download&id=$FILEID\"; \\\n",
        "echo $FILEID $OUTFILENAME $URLS; \\\n",
        "URLC=`wget --quiet --save-cookies /root/cookies.txt --keep-session-cookies --no-check-certificate $URLS -O- | sed -rn 's/.*confirm=([0-9A-Za-z_]+).*/\\1\\n/p'`; \\\n",
        "echo $URLC; \\\n",
        "wget --load-cookies /root/cookies.txt \"https://docs.google.com/uc?export=download&confirm=\"$URLC\"&id=\"$FILEID -O $OUTFILENAME ; \\\n",
        "rm -f /root/cookies.txt \n",
        "\n",
        "# just check\n",
        "!ls -l\n",
        "\n",
        "# coming back to the original directory\n",
        "%cd -"
      ],
      "execution_count": null,
      "outputs": []
    },
    {
      "cell_type": "markdown",
      "metadata": {
        "id": "E0gDYrfI0Q20"
      },
      "source": [
        "---\n",
        "# 草野球の画像を手動でダウンロード（予め実施済）\n",
        "\n",
        "\n",
        "https://pixabay.com/ja/photos/%E3%83%92%E3%83%83%E3%83%88-%E3%82%AD%E3%83%A3%E3%83%83%E3%83%81%E3%83%A3%E3%83%BC-%E9%87%8E%E7%90%83-1407826/\n",
        "\n",
        "の640×426サイズの画像\n",
        "（画像権利情報：商用利用無料、帰属表示は必要ありません）\n",
        "\n",
        "は、フォルダ「data」の直下に置いてあります。\n",
        "\n"
      ]
    },
    {
      "cell_type": "markdown",
      "metadata": {
        "id": "j6nTsO2p9jkd"
      },
      "source": [
        "---\n",
        "# 最終チェック"
      ]
    },
    {
      "cell_type": "code",
      "metadata": {
        "colab": {
          "base_uri": "https://localhost:8080/"
        },
        "id": "WcJAKLud0lER",
        "outputId": "af913910-7791-4210-8165-cd3c462c2d1e"
      },
      "source": [
        "%cd '/content/drive/My Drive/202107_Tool-A/Work600/pytorch_advanced/4_pose_estimation'\n",
        "!ls -l utils data weights"
      ],
      "execution_count": null,
      "outputs": [
        {
          "output_type": "stream",
          "text": [
            "data:\n",
            "total 6936527\n",
            "-rw------- 1 root root  427299390 Aug  1 14:23 COCO.json\n",
            "-rw------- 1 root root      98237 Jul 31 09:42 hit-1407826_640.jpg\n",
            "-rw------- 1 root root   30591896 Aug  1 12:52 mask.tar.gz\n",
            "-rw------- 1 root root 6645013297 Aug  1 12:49 val2014.zip\n",
            "\n",
            "weights:\n",
            "total 204378\n",
            "-rw------- 1 root root 209282651 Aug  1 12:52 pose_model_scratch.pth\n"
          ],
          "name": "stdout"
        }
      ]
    },
    {
      "cell_type": "markdown",
      "metadata": {
        "id": "1PDoZCrTm1iS"
      },
      "source": [
        "以上"
      ]
    },
    {
      "cell_type": "markdown",
      "metadata": {
        "id": "yDd3fzhL2Qla"
      },
      "source": [
        "---\n",
        "Revised by KAMEDA, Yoshinari at University of Tsukuba for lecture purpose.  \n",
        "Original: https://github.com/YutaroOgawa/pytorch_advanced\n",
        "\n",
        "2021/08/02. "
      ]
    }
  ]
}