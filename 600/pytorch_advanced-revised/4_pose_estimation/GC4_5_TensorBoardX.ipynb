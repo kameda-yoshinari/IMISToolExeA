{
  "nbformat": 4,
  "nbformat_minor": 0,
  "metadata": {
    "kernelspec": {
      "display_name": "Python 3",
      "language": "python",
      "name": "python3"
    },
    "language_info": {
      "codemirror_mode": {
        "name": "ipython",
        "version": 3
      },
      "file_extension": ".py",
      "mimetype": "text/x-python",
      "name": "python",
      "nbconvert_exporter": "python",
      "pygments_lexer": "ipython3",
      "version": "3.6.5"
    },
    "colab": {
      "name": "GC4-5_TensorBoardX.ipynb",
      "provenance": [],
      "collapsed_sections": [],
      "include_colab_link": true
    }
  },
  "cells": [
    {
      "cell_type": "markdown",
      "metadata": {
        "id": "view-in-github",
        "colab_type": "text"
      },
      "source": [
        "<a href=\"https://colab.research.google.com/github/kameda-yoshinari/IMISToolExeA2021/blob/main/600/pytorch_advanced-revised/4_pose_estimation/GC4_5_TensorBoardX.ipynb\" target=\"_parent\"><img src=\"https://colab.research.google.com/assets/colab-badge.svg\" alt=\"Open In Colab\"/></a>"
      ]
    },
    {
      "cell_type": "markdown",
      "metadata": {
        "id": "wfcZmlj4PnTE"
      },
      "source": [
        "# 4.5 TensorBordXによるネットワークモデルの可視化\n",
        "\n",
        "- 本ファイルでは、OpenPoseのネットワークモデルをTensorBordで可視化します\n"
      ]
    },
    {
      "cell_type": "markdown",
      "metadata": {
        "id": "1zWc7JENPnTH"
      },
      "source": [
        "# 4.5 学習目標\n",
        "\n",
        "1.\ttensorbordXが動作する環境を構築できるようになる\n",
        "2.\tOpenPoseNetクラスを対象に、tensorbordXでネットワーク（graph）を可視化するファイルを出力できるようになる\n",
        "3.\ttensorbordXのgraphファイルをブラウザで描画し、テンソルサイズの確認などができるようになる\n",
        "\n"
      ]
    },
    {
      "cell_type": "markdown",
      "metadata": {
        "id": "_Z2iYK_ox7s-"
      },
      "source": [
        "---\n",
        "\n",
        "# Google Colab"
      ]
    },
    {
      "cell_type": "code",
      "metadata": {
        "id": "p12QTDHEx7tH"
      },
      "source": [
        "!echo \"Change to the JST notation.\"\n",
        "!rm /etc/localtime\n",
        "!ln -s /usr/share/zoneinfo/Japan /etc/localtime"
      ],
      "execution_count": null,
      "outputs": []
    },
    {
      "cell_type": "code",
      "metadata": {
        "id": "usdzzcLbx7tI"
      },
      "source": [
        "!echo \"Start mounting your Google Drive.\"\n",
        "from google.colab import drive \n",
        "drive.mount('/content/drive')\n",
        "%cd /content/drive/My\\ Drive/\n",
        "!echo \"Move to the working directory.\"\n",
        "%cd 202107_Tool-A/Work600/\n",
        "!ls -l"
      ],
      "execution_count": null,
      "outputs": []
    },
    {
      "cell_type": "markdown",
      "metadata": {
        "id": "fDc3dnE_x7tJ"
      },
      "source": [
        "---\n",
        "# 共通準備\n",
        "\n",
        "\"pytorch_advanced\" folder should be ready before you come here."
      ]
    },
    {
      "cell_type": "code",
      "metadata": {
        "id": "cED0rxM7x7tJ"
      },
      "source": [
        "# Skip this if you have already issued git in advance. \n",
        "# If you come here by way of 600-PyTorchADL.ipynb, \n",
        "# you should skip the git command (as you have already issued in 600).  \n",
        "# If you run git when pytorch_advanced already exists, git tells the error and clone won't be made.\n",
        "\n",
        "#!git clone https://github.com/YutaroOgawa/pytorch_advanced.git\n",
        "\n",
        "import os\n",
        "if os.path.exists(\"/content/drive/My Drive/202107_Tool-A/Work600/pytorch_advanced\"):\n",
        "    print(\"OK. Alreadly git cloned. You can go.\")\n",
        "else:\n",
        "    print(\"You'd better go back to the first 600-PyTorchADL.ipynb\")"
      ],
      "execution_count": null,
      "outputs": []
    },
    {
      "cell_type": "code",
      "metadata": {
        "id": "lRia6DwFx7tJ"
      },
      "source": [
        "!ls"
      ],
      "execution_count": null,
      "outputs": []
    },
    {
      "cell_type": "code",
      "metadata": {
        "id": "BGd5BWZZx7tJ"
      },
      "source": [
        "%cd \"pytorch_advanced\""
      ],
      "execution_count": null,
      "outputs": []
    },
    {
      "cell_type": "code",
      "metadata": {
        "id": "EgWF4QMix7tK"
      },
      "source": [
        "!ls"
      ],
      "execution_count": null,
      "outputs": []
    },
    {
      "cell_type": "code",
      "metadata": {
        "id": "1YelRffxx7tK"
      },
      "source": [
        "%cd \"4_pose_estimation\""
      ],
      "execution_count": null,
      "outputs": []
    },
    {
      "cell_type": "code",
      "metadata": {
        "id": "dRZz7hVLx7tK"
      },
      "source": [
        "!ls"
      ],
      "execution_count": null,
      "outputs": []
    },
    {
      "cell_type": "markdown",
      "metadata": {
        "id": "vEvazJnEPnTI"
      },
      "source": [
        "---\n",
        "# 事前準備\n",
        "\n",
        "tensorbordXを利用するためにTensorFlowとtensorbordXとが必要です。(TensorFlowはもともとインストール済)"
      ]
    },
    {
      "cell_type": "code",
      "metadata": {
        "id": "o8uct6ZiQOn2"
      },
      "source": [
        "# Already installed ...\n",
        "\n",
        "!pip install tensorflow"
      ],
      "execution_count": null,
      "outputs": []
    },
    {
      "cell_type": "code",
      "metadata": {
        "id": "8_rAPxSEPyQt"
      },
      "source": [
        "!pip install tensorboardx"
      ],
      "execution_count": null,
      "outputs": []
    },
    {
      "cell_type": "code",
      "metadata": {
        "id": "0o4i337FPnTI"
      },
      "source": [
        "# 必要なパッケージのimport\n",
        "import torch"
      ],
      "execution_count": null,
      "outputs": []
    },
    {
      "cell_type": "code",
      "metadata": {
        "id": "dG8owRA-PnTI"
      },
      "source": [
        "from utils.openpose_net import OpenPoseNet\n",
        "# モデルの用意\n",
        "net = OpenPoseNet()\n",
        "net.train()\n"
      ],
      "execution_count": null,
      "outputs": []
    },
    {
      "cell_type": "code",
      "metadata": {
        "id": "hsY0L2BaPnTJ"
      },
      "source": [
        "# It will take one minute or so.\n",
        "\n",
        "# Just to surpress UserWarning\n",
        "import warnings\n",
        "warnings.simplefilter('ignore')\n",
        "\n",
        "# 1. tensorboardXの保存クラスを呼び出します\n",
        "from tensorboardX import SummaryWriter\n",
        "\n",
        "# 2. フォルダ「tbX」に保存させるwriterを用意します\n",
        "# フォルダ「tbX」はなければ自動で作成されます\n",
        "writer = SummaryWriter(\"./tbX/\")\n",
        "\n",
        "\n",
        "# 3. ネットワークに流し込むダミーデータを作成します\n",
        "batch_size = 2\n",
        "dummy_img = torch.rand(batch_size, 3, 368, 368)\n",
        "\n",
        "# 4. OpenPoseのインスタンスnetに対して、ダミーデータである\n",
        "# dummy_imgを流したときのgraphをwriterに保存させます\n",
        "writer.add_graph(net, (dummy_img, ))\n",
        "writer.close()\n",
        "\n",
        "\n",
        "# 5. コマンドプロンプトを開き、フォルダ「tbX」がある\n",
        "# フォルダ「4_pose_estimation」まで移動して、\n",
        "# 以下のコマンドを実行します\n",
        "\n",
        "# tensorboard --logdir=\"./tbX/\"\n",
        "\n",
        "# その後、http://localhost:6006\n",
        "# にアクセスします\n"
      ],
      "execution_count": null,
      "outputs": []
    },
    {
      "cell_type": "markdown",
      "metadata": {
        "id": "DnboqelpPnTK"
      },
      "source": [
        "以上"
      ]
    },
    {
      "cell_type": "markdown",
      "metadata": {
        "id": "zTFTND-gRqL9"
      },
      "source": [
        "---\n",
        "Revised by KAMEDA, Yoshinari at University of Tsukuba for lecture purpose.  \n",
        "Original: https://github.com/YutaroOgawa/pytorch_advanced\n",
        "\n",
        "2021/08/03.  The working directory is at the google drive.  \n",
        "2021/08/02. "
      ]
    }
  ]
}