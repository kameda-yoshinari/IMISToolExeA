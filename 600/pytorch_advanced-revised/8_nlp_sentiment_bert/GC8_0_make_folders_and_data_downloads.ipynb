{
  "nbformat": 4,
  "nbformat_minor": 0,
  "metadata": {
    "kernelspec": {
      "display_name": "Python 3",
      "language": "python",
      "name": "python3"
    },
    "language_info": {
      "codemirror_mode": {
        "name": "ipython",
        "version": 3
      },
      "file_extension": ".py",
      "mimetype": "text/x-python",
      "name": "python",
      "nbconvert_exporter": "python",
      "pygments_lexer": "ipython3",
      "version": "3.6.5"
    },
    "colab": {
      "name": "GC8-0_make_folders_and_data_downloads.ipynb",
      "provenance": [],
      "collapsed_sections": [],
      "include_colab_link": true
    }
  },
  "cells": [
    {
      "cell_type": "markdown",
      "metadata": {
        "id": "view-in-github",
        "colab_type": "text"
      },
      "source": [
        "<a href=\"https://colab.research.google.com/github/kameda-yoshinari/IMISToolExeA2022/blob/main/600/pytorch_advanced-revised/8_nlp_sentiment_bert/GC8_0_make_folders_and_data_downloads.ipynb\" target=\"_parent\"><img src=\"https://colab.research.google.com/assets/colab-badge.svg\" alt=\"Open In Colab\"/></a>"
      ]
    },
    {
      "cell_type": "markdown",
      "metadata": {
        "id": "emPsiE_3IytS"
      },
      "source": [
        "##  第8章 自然言語処理による感情分析（BERT）\n",
        "\n",
        "- 本ファイルでは、第8章で使用するフォルダの作成とファイルのダウンロードを行います。"
      ]
    },
    {
      "cell_type": "markdown",
      "metadata": {
        "id": "_Z2iYK_ox7s-"
      },
      "source": [
        "---\n",
        "\n",
        "# Google Colab"
      ]
    },
    {
      "cell_type": "code",
      "metadata": {
        "id": "p12QTDHEx7tH",
        "colab": {
          "base_uri": "https://localhost:8080/"
        },
        "outputId": "e8124d94-c07e-4f20-c671-f22685e0e0c8"
      },
      "source": [
        "!echo \"Change to the JST notation.\"\n",
        "!rm /etc/localtime\n",
        "!ln -s /usr/share/zoneinfo/Japan /etc/localtime"
      ],
      "execution_count": null,
      "outputs": [
        {
          "output_type": "stream",
          "name": "stdout",
          "text": [
            "Change to the JST notation.\n"
          ]
        }
      ]
    },
    {
      "cell_type": "code",
      "metadata": {
        "id": "usdzzcLbx7tI",
        "colab": {
          "base_uri": "https://localhost:8080/"
        },
        "outputId": "3b87ce77-6d2a-4604-bc8f-56c15c43d639"
      },
      "source": [
        "!echo \"Start mounting your Google Drive.\"\n",
        "from google.colab import drive \n",
        "drive.mount('/content/drive')\n",
        "%cd /content/drive/My\\ Drive/\n",
        "!echo \"Move to the working directory.\"\n",
        "%cd IMIS_Tool-A/Work600/\n",
        "!ls -l"
      ],
      "execution_count": null,
      "outputs": [
        {
          "output_type": "stream",
          "name": "stdout",
          "text": [
            "Start mounting your Google Drive.\n",
            "Mounted at /content/drive\n",
            "/content/drive/My Drive\n",
            "Move to the working directory.\n",
            "/content/drive/My Drive/IMIS_Tool-A/Work600\n",
            "total 4\n",
            "drwx------ 2 root root 4096 Aug  7 22:01 pytorch_advanced\n"
          ]
        }
      ]
    },
    {
      "cell_type": "markdown",
      "metadata": {
        "id": "fDc3dnE_x7tJ"
      },
      "source": [
        "---\n",
        "# 共通準備\n",
        "\n",
        "\"pytorch_advanced\" folder should be ready before you come here."
      ]
    },
    {
      "cell_type": "code",
      "metadata": {
        "id": "cED0rxM7x7tJ",
        "colab": {
          "base_uri": "https://localhost:8080/"
        },
        "outputId": "5d6dd054-527e-41ab-93c3-a1c7cecb692e"
      },
      "source": [
        "# Skip this if you have already issued git in advance. \n",
        "# If you come here by way of 600-PyTorchADL.ipynb, \n",
        "# you should skip the git command (as you have already issued in 600).  \n",
        "# If you run git when pytorch_advanced already exists, git tells the error and clone won't be made.\n",
        "\n",
        "#!git clone https://github.com/YutaroOgawa/pytorch_advanced.git\n",
        "\n",
        "import os\n",
        "if os.path.exists(\"/content/drive/My Drive/IMIS_Tool-A/Work600/pytorch_advanced\"):\n",
        "    print(\"OK. Alreadly git cloned. You can go.\")\n",
        "else:\n",
        "    print(\"You'd better go back to the first 600-PyTorchADL.ipynb\")"
      ],
      "execution_count": null,
      "outputs": [
        {
          "output_type": "stream",
          "name": "stdout",
          "text": [
            "OK. Alreadly git cloned. You can go.\n"
          ]
        }
      ]
    },
    {
      "cell_type": "code",
      "metadata": {
        "id": "lRia6DwFx7tJ",
        "colab": {
          "base_uri": "https://localhost:8080/"
        },
        "outputId": "58a7af8a-496b-4cec-8362-8e6a35f61211"
      },
      "source": [
        "!ls"
      ],
      "execution_count": null,
      "outputs": [
        {
          "output_type": "stream",
          "name": "stdout",
          "text": [
            "pytorch_advanced\n"
          ]
        }
      ]
    },
    {
      "cell_type": "code",
      "metadata": {
        "id": "BGd5BWZZx7tJ",
        "colab": {
          "base_uri": "https://localhost:8080/"
        },
        "outputId": "5036f8f2-201e-481e-96c7-57ee2f31fd16"
      },
      "source": [
        "%cd \"pytorch_advanced\""
      ],
      "execution_count": null,
      "outputs": [
        {
          "output_type": "stream",
          "name": "stdout",
          "text": [
            "/content/drive/My Drive/IMIS_Tool-A/Work600/pytorch_advanced\n"
          ]
        }
      ]
    },
    {
      "cell_type": "code",
      "metadata": {
        "id": "EgWF4QMix7tK",
        "colab": {
          "base_uri": "https://localhost:8080/"
        },
        "outputId": "32c2f4f7-391f-4d51-8e2e-5d37b301b99e"
      },
      "source": [
        "!ls"
      ],
      "execution_count": null,
      "outputs": [
        {
          "output_type": "stream",
          "name": "stdout",
          "text": [
            "1_image_classification\t 7_nlp_sentiment_transformer\n",
            "2_objectdetection\t 8_nlp_sentiment_bert\n",
            "3_semantic_segmentation  9_video_classification_eco\n",
            "4_pose_estimation\t etc\n",
            "5_gan_generation\t LICENSE\n",
            "6_gan_anomaly_detection  README.md\n"
          ]
        }
      ]
    },
    {
      "cell_type": "code",
      "metadata": {
        "id": "1YelRffxx7tK",
        "colab": {
          "base_uri": "https://localhost:8080/"
        },
        "outputId": "f6d8158c-f5a0-4cc1-8d55-108c81354256"
      },
      "source": [
        "%cd \"8_nlp_sentiment_bert\""
      ],
      "execution_count": null,
      "outputs": [
        {
          "output_type": "stream",
          "name": "stdout",
          "text": [
            "/content/drive/My Drive/IMIS_Tool-A/Work600/pytorch_advanced/8_nlp_sentiment_bert\n"
          ]
        }
      ]
    },
    {
      "cell_type": "code",
      "metadata": {
        "id": "dRZz7hVLx7tK",
        "colab": {
          "base_uri": "https://localhost:8080/"
        },
        "outputId": "d35bb862-67e6-4059-9397-e69b7208f67c"
      },
      "source": [
        "!ls"
      ],
      "execution_count": null,
      "outputs": [
        {
          "output_type": "stream",
          "name": "stdout",
          "text": [
            "8-2-3_bert_base.ipynb  data\t\t\t\t      utils  weights\n",
            "8-4_bert_IMDb.ipynb    make_folders_and_data_downloads.ipynb  vocab\n"
          ]
        }
      ]
    },
    {
      "cell_type": "markdown",
      "metadata": {
        "id": "3DTDKt_qJOvz"
      },
      "source": [
        "---\n",
        "# Directories at the workplace"
      ]
    },
    {
      "cell_type": "code",
      "metadata": {
        "id": "Kg7JvEu3IytU"
      },
      "source": [
        "import os\n",
        "import urllib.request\n",
        "import zipfile\n",
        "import tarfile\n",
        "import glob\n",
        "import io"
      ],
      "execution_count": null,
      "outputs": []
    },
    {
      "cell_type": "code",
      "metadata": {
        "id": "9JkBs8PUIytV"
      },
      "source": [
        "# フォルダ「data」が存在しない場合は作成する\n",
        "data_dir = \"./data/\"\n",
        "if not os.path.exists(data_dir):\n",
        "    os.mkdir(data_dir)"
      ],
      "execution_count": null,
      "outputs": []
    },
    {
      "cell_type": "code",
      "metadata": {
        "id": "78KeDIXCIytV"
      },
      "source": [
        "# フォルダ「vocab」が存在しない場合は作成する\n",
        "vocab_dir = \"./vocab/\"\n",
        "if not os.path.exists(vocab_dir):\n",
        "    os.mkdir(vocab_dir)"
      ],
      "execution_count": null,
      "outputs": []
    },
    {
      "cell_type": "code",
      "metadata": {
        "id": "qlM0rKO1IytV"
      },
      "source": [
        "# フォルダ「weights」が存在しない場合は作成する\n",
        "weights_dir = \"./weights/\"\n",
        "if not os.path.exists(weights_dir):\n",
        "    os.mkdir(weights_dir)"
      ],
      "execution_count": null,
      "outputs": []
    },
    {
      "cell_type": "markdown",
      "metadata": {
        "id": "UHJZiRJFJbrh"
      },
      "source": [
        "---\n",
        "# Database files"
      ]
    },
    {
      "cell_type": "code",
      "metadata": {
        "id": "NFaTvC-BIytV",
        "colab": {
          "base_uri": "https://localhost:8080/"
        },
        "outputId": "1091f18f-4955-42a1-b6da-39283b0c6014"
      },
      "source": [
        "# 単語集：ボキャブラリーをダウンロード\n",
        "\n",
        "# 'bert-base-uncased': \n",
        "# https://s3.amazonaws.com/models.huggingface.co/bert/bert-base-uncased-vocab.txt\n",
        "\n",
        "save_path=\"./vocab/bert-base-uncased-vocab.txt\"\n",
        "url = \"https://s3.amazonaws.com/models.huggingface.co/bert/bert-base-uncased-vocab.txt\"\n",
        "urllib.request.urlretrieve(url, save_path)\n",
        "    "
      ],
      "execution_count": null,
      "outputs": [
        {
          "output_type": "execute_result",
          "data": {
            "text/plain": [
              "('./vocab/bert-base-uncased-vocab.txt',\n",
              " <http.client.HTTPMessage at 0x7f3cd3e05550>)"
            ]
          },
          "metadata": {},
          "execution_count": 13
        }
      ]
    },
    {
      "cell_type": "code",
      "metadata": {
        "id": "E0G3cvNtIytW"
      },
      "source": [
        "# BERTの学習済みモデル 'bert-base-uncased'\n",
        "# https://github.com/huggingface/pytorch-pretrained-BERT/\n",
        "# https://s3.amazonaws.com/models.huggingface.co/bert/bert-base-uncased.tar.gz\n",
        "\n",
        "# ダウンロード\n",
        "save_path = \"./weights/bert-base-uncased.tar.gz\"\n",
        "url = \"https://s3.amazonaws.com/models.huggingface.co/bert/bert-base-uncased.tar.gz\"\n",
        "urllib.request.urlretrieve(url, save_path)\n",
        "\n",
        "# 解凍\n",
        "archive_file = \"./weights/bert-base-uncased.tar.gz\"  # Uncasedは小文字化モードという意味です\n",
        "tar = tarfile.open(archive_file, 'r:gz')\n",
        "tar.extractall('./weights/')  # 解凍\n",
        "tar.close()  # ファイルをクローズ\n",
        "\n",
        "# フォルダ「weights」に「pytorch_model.bin」と「bert_config.json」ができます"
      ],
      "execution_count": null,
      "outputs": []
    },
    {
      "cell_type": "markdown",
      "metadata": {
        "id": "vR8SXlfPIytX"
      },
      "source": [
        "# IMDbデータセットをtsvファイルに整形\n",
        "\n",
        "http://ai.stanford.edu/~amaas/data/sentiment/aclImdb_v1.tar.gz\n",
        "\n",
        "\n"
      ]
    },
    {
      "cell_type": "markdown",
      "metadata": {
        "id": "e0X0LKJLK6kr"
      },
      "source": [
        "* ./data/IMDb_train.tsv\n",
        "* ./data/IMDb_test.tsv\n",
        "\n",
        "These tsv files are made in 「1. IMDbデータセットをtsv形式に変換」 section in [GC7-5_IMDb_Dataset_DataLoader.ipynb](https://github.com/kameda-yoshinari/IMISToolExeA2021/blob/main/600/pytorch_advanced-revised/7_nlp_sentiment_transformer/GC7_5_IMDb_Dataset_DataLoader.ipynb), so make sure you have already done GC7-5.\n"
      ]
    },
    {
      "cell_type": "code",
      "metadata": {
        "id": "UCHKT057PCyL",
        "colab": {
          "base_uri": "https://localhost:8080/"
        },
        "outputId": "ad8006ef-dbbf-45f2-ede1-a58ec072357d"
      },
      "source": [
        "# porting from 7_nlp_sentiment_transformer\n",
        "!ls -l ../7_nlp_sentiment_transformer/data/IMDb_train.tsv ../7_nlp_sentiment_transformer/data/IMDb_test.tsv\n",
        "!rm -rf   /root/data/\n",
        "!mkdir -p /root/data/\n",
        "!cp ../7_nlp_sentiment_transformer/data/IMDb_train.tsv ../7_nlp_sentiment_transformer/data/IMDb_test.tsv /root/data/\n",
        "!rm -f ./data/IMDb_train.tsv ./data/IMDb_test.tsv\n",
        "!ln -s /root/data/IMDb_train.tsv ./data/\n",
        "!ln -s /root/data/IMDb_test.tsv ./data/\n",
        "!ls -l ./data/"
      ],
      "execution_count": null,
      "outputs": [
        {
          "output_type": "stream",
          "name": "stdout",
          "text": [
            "-rw------- 1 root root 32450685 Aug  9 03:19 ../7_nlp_sentiment_transformer/data/IMDb_test.tsv\n",
            "-rw------- 1 root root 33232823 Aug  9 03:19 ../7_nlp_sentiment_transformer/data/IMDb_train.tsv\n",
            "total 1\n",
            "lrw------- 1 root root 24 Aug  9 03:42 IMDb_test.tsv -> /root/data/IMDb_test.tsv\n",
            "lrw------- 1 root root 25 Aug  9 03:42 IMDb_train.tsv -> /root/data/IMDb_train.tsv\n"
          ]
        }
      ]
    },
    {
      "cell_type": "markdown",
      "metadata": {
        "id": "PYRgn5VyY8S9"
      },
      "source": [
        ""
      ]
    },
    {
      "cell_type": "markdown",
      "metadata": {
        "id": "Y5Qpled7QMeO"
      },
      "source": [
        "---\n",
        "# Final check\n"
      ]
    },
    {
      "cell_type": "code",
      "metadata": {
        "id": "0n680Al2QPF5",
        "colab": {
          "base_uri": "https://localhost:8080/"
        },
        "outputId": "db945b5b-b86c-4661-93d0-57e7658550fa"
      },
      "source": [
        "!ls -l vocab/ weights/ data/"
      ],
      "execution_count": null,
      "outputs": [
        {
          "output_type": "stream",
          "name": "stdout",
          "text": [
            "data/:\n",
            "total 1\n",
            "lrw------- 1 root root 24 Aug  9 03:42 IMDb_test.tsv -> /root/data/IMDb_test.tsv\n",
            "lrw------- 1 root root 25 Aug  9 03:42 IMDb_train.tsv -> /root/data/IMDb_train.tsv\n",
            "\n",
            "vocab/:\n",
            "total 227\n",
            "-rw------- 1 root root 231508 Aug  9 03:42 bert-base-uncased-vocab.txt\n",
            "\n",
            "weights/:\n",
            "total 1256218\n",
            "-rw------- 1 root root 407873900 Aug  9 03:42 bert-base-uncased.tar.gz\n",
            "-rw------- 1 root root       313 Oct 18  2018 bert_config.json\n",
            "-rw------- 1 root root 438018450 Aug  8 08:28 bert_fine_tuning_IMDb.pth\n",
            "-rw------- 1 root root 440473133 Nov 15  2018 pytorch_model.bin\n"
          ]
        }
      ]
    },
    {
      "cell_type": "markdown",
      "metadata": {
        "id": "amGsD54nIytY"
      },
      "source": [
        "以上"
      ]
    },
    {
      "cell_type": "markdown",
      "metadata": {
        "id": "QKrLnjVZM-mB"
      },
      "source": [
        "---\n",
        "Revised by KAMEDA, Yoshinari at University of Tsukuba for lecture purpose.  \n",
        "Original: https://github.com/YutaroOgawa/pytorch_advanced\n",
        "\n",
        "2022/08/08.  \n",
        "2021/08/05. "
      ]
    }
  ]
}