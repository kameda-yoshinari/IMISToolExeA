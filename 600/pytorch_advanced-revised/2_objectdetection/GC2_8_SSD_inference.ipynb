{
  "nbformat": 4,
  "nbformat_minor": 0,
  "metadata": {
    "kernelspec": {
      "display_name": "Python 3",
      "language": "python",
      "name": "python3"
    },
    "language_info": {
      "codemirror_mode": {
        "name": "ipython",
        "version": 3
      },
      "file_extension": ".py",
      "mimetype": "text/x-python",
      "name": "python",
      "nbconvert_exporter": "python",
      "pygments_lexer": "ipython3",
      "version": "3.6.5"
    },
    "colab": {
      "name": "GC2-8_SSD_inference.ipynb",
      "provenance": [],
      "collapsed_sections": [],
      "include_colab_link": true
    },
    "accelerator": "GPU"
  },
  "cells": [
    {
      "cell_type": "markdown",
      "metadata": {
        "id": "view-in-github",
        "colab_type": "text"
      },
      "source": [
        "<a href=\"https://colab.research.google.com/github/kameda-yoshinari/IMISToolExeA2021/blob/main/600/pytorch_advanced-revised/2_objectdetection/GC2_8_SSD_inference.ipynb\" target=\"_parent\"><img src=\"https://colab.research.google.com/assets/colab-badge.svg\" alt=\"Open In Colab\"/></a>"
      ]
    },
    {
      "cell_type": "markdown",
      "metadata": {
        "id": "1I_sVDvD-Klg"
      },
      "source": [
        "# 2.8 推論の実施\n",
        "\n",
        "- 本ファイルでは、学習させたSSDで物体検出を行います。\n"
      ]
    },
    {
      "cell_type": "markdown",
      "metadata": {
        "id": "x57EuCox-Kli"
      },
      "source": [
        "# 学習目標\n",
        "\n",
        "1.\tSSDの推論を実装できるようになる"
      ]
    },
    {
      "cell_type": "markdown",
      "metadata": {
        "id": "kRUqU4tnxmZl"
      },
      "source": [
        "---\n",
        "\n",
        "# Google Colab"
      ]
    },
    {
      "cell_type": "code",
      "metadata": {
        "id": "fVasAdJYxmZp"
      },
      "source": [
        "!echo \"Change to the JST notation.\"\n",
        "!rm /etc/localtime\n",
        "!ln -s /usr/share/zoneinfo/Japan /etc/localtime"
      ],
      "execution_count": null,
      "outputs": []
    },
    {
      "cell_type": "code",
      "metadata": {
        "id": "YMAZ5ELyxmZp"
      },
      "source": [
        "!echo \"Start mounting your Google Drive.\"\n",
        "from google.colab import drive \n",
        "drive.mount('/content/drive')\n",
        "%cd /content/drive/My\\ Drive/\n",
        "!echo \"Move to the working directory.\"\n",
        "%cd 202107_Tool-A/Work600/\n",
        "!ls -l"
      ],
      "execution_count": null,
      "outputs": []
    },
    {
      "cell_type": "markdown",
      "metadata": {
        "id": "wvNuqvC4xmZq"
      },
      "source": [
        "---\n",
        "# 共通準備\n",
        "\n",
        "\"pytorch_advanced\" folder should be ready before you come here."
      ]
    },
    {
      "cell_type": "code",
      "metadata": {
        "id": "0b2qZLfoxmZq"
      },
      "source": [
        "# Skip this if you have already issued git in advance. \n",
        "# If you come here by way of 600-PyTorchADL.ipynb, \n",
        "# you should skip the git command (as you have already issued in 600).  \n",
        "# If you run git when pytorch_advanced already exists, git tells the error and clone won't be made.\n",
        "\n",
        "#!git clone https://github.com/YutaroOgawa/pytorch_advanced.git\n",
        "\n",
        "import os\n",
        "if os.path.exists(\"/content/drive/My Drive/202107_Tool-A/Work600/pytorch_advanced\"):\n",
        "    print(\"OK. Alreadly git cloned. You can go.\")\n",
        "else:\n",
        "    print(\"You'd better go back to the first 600-PyTorchADL.ipynb\")"
      ],
      "execution_count": null,
      "outputs": []
    },
    {
      "cell_type": "code",
      "metadata": {
        "id": "AGkLljtdxmZq"
      },
      "source": [
        "!ls"
      ],
      "execution_count": null,
      "outputs": []
    },
    {
      "cell_type": "code",
      "metadata": {
        "id": "zcgSKlMxxmZr"
      },
      "source": [
        "%cd \"pytorch_advanced\""
      ],
      "execution_count": null,
      "outputs": []
    },
    {
      "cell_type": "code",
      "metadata": {
        "id": "Um0EwrGSxmZr"
      },
      "source": [
        "!ls"
      ],
      "execution_count": null,
      "outputs": []
    },
    {
      "cell_type": "code",
      "metadata": {
        "id": "HqEb59O9xmZr"
      },
      "source": [
        "%cd \"2_objectdetection\""
      ],
      "execution_count": null,
      "outputs": []
    },
    {
      "cell_type": "code",
      "metadata": {
        "id": "MNqNiyHFxmZr"
      },
      "source": [
        "!ls"
      ],
      "execution_count": null,
      "outputs": []
    },
    {
      "cell_type": "markdown",
      "metadata": {
        "id": "8R8JHAkDaVpj"
      },
      "source": [
        "---\n",
        "# Note\n",
        "\n",
        "ssd_model.py (that will be used later) should be replaced to the revised version.\n",
        "\n",
        "https://github.com/kameda-yoshinari/IMISToolExeA2021/blob/main/600/pytorch_advanced-revised/2_objectdetection/utils/ssd_model.py\n",
        "\n",
        "https://github.com/YutaroOgawa/pytorch_advanced/issues/71"
      ]
    },
    {
      "cell_type": "code",
      "metadata": {
        "id": "1sGeIfbTg0lk"
      },
      "source": [
        "!rm -f ssd_model.py\n",
        "!wget https://raw.githubusercontent.com/kameda-yoshinari/IMISToolExeA2021/main/600/pytorch_advanced-revised/2_objectdetection/utils/ssd_model.py\n",
        "!mv ssd_model.py utils/ssd_model.py\n",
        "!ls -l utils/ssd_model.py"
      ],
      "execution_count": null,
      "outputs": []
    },
    {
      "cell_type": "code",
      "metadata": {
        "id": "tchmC7ZfDumM"
      },
      "source": [
        "!head -5 utils/ssd_model.py"
      ],
      "execution_count": null,
      "outputs": []
    },
    {
      "cell_type": "markdown",
      "metadata": {
        "id": "PpBlg4wD-Klj"
      },
      "source": [
        "---\n",
        "# 事前準備\n",
        "\n",
        "- 学習させた重みパラメータを用意\n",
        "- フォルダ「utils」のssd_predict_show.pyを使用します"
      ]
    },
    {
      "cell_type": "code",
      "metadata": {
        "id": "1P5m6mjH-Klj"
      },
      "source": [
        "import cv2  # OpenCVライブラリ\n",
        "import matplotlib.pyplot as plt \n",
        "import numpy as np\n",
        "import torch\n",
        "\n",
        "%matplotlib inline"
      ],
      "execution_count": null,
      "outputs": []
    },
    {
      "cell_type": "markdown",
      "metadata": {
        "id": "CgKs4lnf-Klk"
      },
      "source": [
        "# 推論を実行する"
      ]
    },
    {
      "cell_type": "code",
      "metadata": {
        "id": "zoBFbuG6-Klk"
      },
      "source": [
        "from utils.ssd_model import SSD\n",
        "\n",
        "voc_classes = ['aeroplane', 'bicycle', 'bird', 'boat',\n",
        "               'bottle', 'bus', 'car', 'cat', 'chair',\n",
        "               'cow', 'diningtable', 'dog', 'horse',\n",
        "               'motorbike', 'person', 'pottedplant',\n",
        "               'sheep', 'sofa', 'train', 'tvmonitor']\n",
        "\n",
        "# SSD300の設定\n",
        "ssd_cfg = {\n",
        "    'num_classes': 21,  # 背景クラスを含めた合計クラス数\n",
        "    'input_size': 300,  # 画像の入力サイズ\n",
        "    'bbox_aspect_num': [4, 6, 6, 6, 4, 4],  # 出力するDBoxのアスペクト比の種類\n",
        "    'feature_maps': [38, 19, 10, 5, 3, 1],  # 各sourceの画像サイズ\n",
        "    'steps': [8, 16, 32, 64, 100, 300],  # DBOXの大きさを決める\n",
        "    'min_sizes': [30, 60, 111, 162, 213, 264],  # DBOXの大きさを決める\n",
        "    'max_sizes': [60, 111, 162, 213, 264, 315],  # DBOXの大きさを決める\n",
        "    'aspect_ratios': [[2], [2, 3], [2, 3], [2, 3], [2], [2]],\n",
        "}\n",
        "\n",
        "# SSDネットワークモデル\n",
        "net = SSD(phase=\"inference\", cfg=ssd_cfg)\n",
        "\n",
        "# SSDの学習済みの重みを設定\n",
        "#net_weights = torch.load('./weights/ssd300_50.pth',\n",
        "#                         map_location={'cuda:0': 'cpu'})\n",
        "\n",
        "net_weights = torch.load('./weights/ssd300_mAP_77.43_v2.pth',\n",
        "                         map_location={'cuda:0': 'cpu'})\n",
        "\n",
        "net.load_state_dict(net_weights)\n",
        "\n",
        "print('ネットワーク設定完了：学習済みの重みをロードしました')\n"
      ],
      "execution_count": null,
      "outputs": []
    },
    {
      "cell_type": "code",
      "metadata": {
        "id": "WlY2DYOtZtKx"
      },
      "source": [
        "!ls -l weights/\n",
        "!date"
      ],
      "execution_count": null,
      "outputs": []
    },
    {
      "cell_type": "code",
      "metadata": {
        "id": "_jJlqsEH-Kll"
      },
      "source": [
        "from utils.ssd_model import DataTransform\n",
        "\n",
        "# 1. 画像読み込み\n",
        "image_file_path = \"./data/cowboy-757575_640.jpg\"\n",
        "img = cv2.imread(image_file_path)  # [高さ][幅][色BGR]\n",
        "height, width, channels = img.shape  # 画像のサイズを取得\n",
        "\n",
        "# 2. 元画像の表示\n",
        "plt.imshow(cv2.cvtColor(img, cv2.COLOR_BGR2RGB))\n",
        "plt.show()\n",
        "\n",
        "# 3. 前処理クラスの作成\n",
        "color_mean = (104, 117, 123)  # (BGR)の色の平均値\n",
        "input_size = 300  # 画像のinputサイズを300×300にする\n",
        "transform = DataTransform(input_size, color_mean)\n",
        "\n",
        "# 4. 前処理\n",
        "phase = \"val\"\n",
        "img_transformed, boxes, labels = transform(\n",
        "    img, phase, \"\", \"\")  # アノテーションはないので、\"\"にする\n",
        "img = torch.from_numpy(img_transformed[:, :, (2, 1, 0)]).permute(2, 0, 1)\n",
        "\n",
        "# 5. SSDで予測\n",
        "net.eval()  # ネットワークを推論モードへ\n",
        "x = img.unsqueeze(0)  # ミニバッチ化：torch.Size([1, 3, 300, 300])\n",
        "detections = net(x)\n",
        "\n",
        "print(detections.shape)\n",
        "print(detections)\n",
        "\n",
        "# output : torch.Size([batch_num, 21, 200, 5])\n",
        "#  =（batch_num、クラス、confのtop200、規格化されたBBoxの情報）\n",
        "#   規格化されたBBoxの情報（確信度、xmin, ymin, xmax, ymax）\n"
      ],
      "execution_count": null,
      "outputs": []
    },
    {
      "cell_type": "code",
      "metadata": {
        "id": "jUfDJ-lF-Kll"
      },
      "source": [
        "# 画像に対する予測\n",
        "from utils.ssd_predict_show import SSDPredictShow\n",
        "\n",
        "# ファイルパス\n",
        "image_file_path = \"./data/cowboy-757575_640.jpg\"\n",
        "\n",
        "# 予測と、予測結果を画像で描画する\n",
        "ssd = SSDPredictShow(eval_categories=voc_classes, net=net)\n",
        "ssd.show(image_file_path, data_confidence_level=0.6)\n",
        "\n"
      ],
      "execution_count": null,
      "outputs": []
    },
    {
      "cell_type": "markdown",
      "metadata": {
        "id": "uEejpbip-Klm"
      },
      "source": [
        "以上"
      ]
    },
    {
      "cell_type": "markdown",
      "metadata": {
        "id": "Mc7Jnmm3isuG"
      },
      "source": [
        "---\n",
        "Revised by KAMEDA, Yoshinari at University of Tsukuba for lecture purpose.  \n",
        "Original: https://github.com/YutaroOgawa/pytorch_advanced\n",
        "\n",
        "2021/08/02. \n"
      ]
    }
  ]
}