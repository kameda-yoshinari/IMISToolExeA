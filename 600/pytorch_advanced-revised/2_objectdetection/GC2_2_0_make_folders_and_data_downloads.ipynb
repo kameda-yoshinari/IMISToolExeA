{
  "nbformat": 4,
  "nbformat_minor": 0,
  "metadata": {
    "kernelspec": {
      "display_name": "Python 3",
      "language": "python",
      "name": "python3"
    },
    "language_info": {
      "codemirror_mode": {
        "name": "ipython",
        "version": 3
      },
      "file_extension": ".py",
      "mimetype": "text/x-python",
      "name": "python",
      "nbconvert_exporter": "python",
      "pygments_lexer": "ipython3",
      "version": "3.6.5"
    },
    "colab": {
      "name": "GC2-2-0_make_folders_and_data_downloads.ipynb",
      "provenance": [],
      "collapsed_sections": [],
      "include_colab_link": true
    }
  },
  "cells": [
    {
      "cell_type": "markdown",
      "metadata": {
        "id": "view-in-github",
        "colab_type": "text"
      },
      "source": [
        "<a href=\"https://colab.research.google.com/github/kameda-yoshinari/IMISToolExeA2021/blob/main/600/pytorch_advanced-revised/2_objectdetection/GC2_2_0_make_folders_and_data_downloads.ipynb\" target=\"_parent\"><img src=\"https://colab.research.google.com/assets/colab-badge.svg\" alt=\"Open In Colab\"/></a>"
      ]
    },
    {
      "cell_type": "markdown",
      "metadata": {
        "id": "cdYogarBWJxv"
      },
      "source": [
        "# 「第2章 物体検出」の準備\n",
        "\n",
        "- 本ipynbでは、第2章で使用するフォルダの作成とファイルのダウンロードを行います。"
      ]
    },
    {
      "cell_type": "markdown",
      "metadata": {
        "id": "_Z2iYK_ox7s-"
      },
      "source": [
        "---\n",
        "\n",
        "# Google Colab"
      ]
    },
    {
      "cell_type": "code",
      "metadata": {
        "id": "p12QTDHEx7tH"
      },
      "source": [
        "!echo \"Change to the JST notation.\"\n",
        "!rm /etc/localtime\n",
        "!ln -s /usr/share/zoneinfo/Japan /etc/localtime"
      ],
      "execution_count": null,
      "outputs": []
    },
    {
      "cell_type": "code",
      "metadata": {
        "id": "usdzzcLbx7tI"
      },
      "source": [
        "!echo \"Start mounting your Google Drive.\"\n",
        "from google.colab import drive \n",
        "drive.mount('/content/drive')\n",
        "%cd /content/drive/My\\ Drive/\n",
        "!echo \"Move to the working directory.\"\n",
        "%cd 202107_Tool-A/Work600/\n",
        "!ls -l"
      ],
      "execution_count": null,
      "outputs": []
    },
    {
      "cell_type": "markdown",
      "metadata": {
        "id": "fDc3dnE_x7tJ"
      },
      "source": [
        "---\n",
        "# 共通準備\n",
        "\n",
        "\"pytorch_advanced\" folder should be ready before you come here."
      ]
    },
    {
      "cell_type": "code",
      "metadata": {
        "id": "cED0rxM7x7tJ"
      },
      "source": [
        "# Skip this if you have already issued git in advance. \n",
        "# If you come here by way of 600-PyTorchADL.ipynb, \n",
        "# you should skip the git command (as you have already issued in 600).  \n",
        "# If you run git when pytorch_advanced already exists, git tells the error and clone won't be made.\n",
        "\n",
        "#!git clone https://github.com/YutaroOgawa/pytorch_advanced.git\n",
        "\n",
        "import os\n",
        "if os.path.exists(\"/content/drive/My Drive/202107_Tool-A/Work600/pytorch_advanced\"):\n",
        "    print(\"OK. Alreadly git cloned. You can go.\")\n",
        "else:\n",
        "    print(\"You'd better go back to the first 600-PyTorchADL.ipynb\")"
      ],
      "execution_count": null,
      "outputs": []
    },
    {
      "cell_type": "code",
      "metadata": {
        "id": "lRia6DwFx7tJ"
      },
      "source": [
        "!ls"
      ],
      "execution_count": null,
      "outputs": []
    },
    {
      "cell_type": "code",
      "metadata": {
        "id": "BGd5BWZZx7tJ"
      },
      "source": [
        "%cd \"pytorch_advanced\""
      ],
      "execution_count": null,
      "outputs": []
    },
    {
      "cell_type": "code",
      "metadata": {
        "id": "EgWF4QMix7tK"
      },
      "source": [
        "!ls"
      ],
      "execution_count": null,
      "outputs": []
    },
    {
      "cell_type": "code",
      "metadata": {
        "id": "1YelRffxx7tK"
      },
      "source": [
        "%cd \"2_objectdetection\""
      ],
      "execution_count": null,
      "outputs": []
    },
    {
      "cell_type": "code",
      "metadata": {
        "id": "dRZz7hVLx7tK"
      },
      "source": [
        "!ls"
      ],
      "execution_count": null,
      "outputs": []
    },
    {
      "cell_type": "markdown",
      "metadata": {
        "id": "T5YSH8krgRTu"
      },
      "source": [
        "---\n",
        "# VOC2012の導入と展開"
      ]
    },
    {
      "cell_type": "code",
      "metadata": {
        "id": "yBnMb4e7WJxx"
      },
      "source": [
        "import os\n",
        "import urllib.request\n",
        "import zipfile\n",
        "import tarfile"
      ],
      "execution_count": null,
      "outputs": []
    },
    {
      "cell_type": "code",
      "metadata": {
        "id": "WzvJ9oqNWJxy"
      },
      "source": [
        "# フォルダ「data」が存在しない場合は作成する\n",
        "data_dir = \"./data/\"\n",
        "if not os.path.exists(data_dir):\n",
        "    os.mkdir(data_dir)"
      ],
      "execution_count": null,
      "outputs": []
    },
    {
      "cell_type": "code",
      "metadata": {
        "id": "Ak-0uTCPWJxz"
      },
      "source": [
        "# フォルダ「weights」が存在しない場合は作成する\n",
        "weights_dir = \"./weights/\"\n",
        "if not os.path.exists(weights_dir):\n",
        "    os.mkdir(weights_dir)"
      ],
      "execution_count": null,
      "outputs": []
    },
    {
      "cell_type": "code",
      "metadata": {
        "id": "0k1Pr10Jjvv0"
      },
      "source": [
        "!ls -l data"
      ],
      "execution_count": null,
      "outputs": []
    },
    {
      "cell_type": "code",
      "metadata": {
        "id": "L73qo1QpWJxz"
      },
      "source": [
        "# VOC2012のデータセットをここからダウンロードします\n",
        "# 時間がかかります（数分）\n",
        "# ２回目以降は再ダウンロードしません\n",
        "\n",
        "url = \"http://host.robots.ox.ac.uk/pascal/VOC/voc2012/VOCtrainval_11-May-2012.tar\"\n",
        "target_path = os.path.join(data_dir, \"VOCtrainval_11-May-2012.tar\") \n",
        "\n",
        "if not os.path.exists(target_path):\n",
        "    urllib.request.urlretrieve(url, target_path)\n",
        "        "
      ],
      "execution_count": null,
      "outputs": []
    },
    {
      "cell_type": "code",
      "metadata": {
        "id": "yIPLFBP3kDhn"
      },
      "source": [
        "!ls -l ../2_objectdetection/data"
      ],
      "execution_count": null,
      "outputs": []
    },
    {
      "cell_type": "markdown",
      "metadata": {
        "id": "txQ77wvF3HHG"
      },
      "source": [
        "**[U-Tsukuba] Extra remarks**\n",
        "\n",
        "Unlike the procedure shown in the textbook, we won't extract files to the data folder since the data folder here is at google drive and it is not accessble well from the google colaboratory, especially when the number of files are over 40,000 and total size is around 2GB.\n",
        "\n",
        "Instead, /root/VOCdevkit (expansion of the VOCtrainval_11-May-2012.tar) will be extracted eveytime when it is needed on each runtime instance."
      ]
    },
    {
      "cell_type": "markdown",
      "metadata": {
        "id": "JQg5fssPMyJf"
      },
      "source": [
        "---\n",
        "# Weights"
      ]
    },
    {
      "cell_type": "code",
      "metadata": {
        "id": "nR7LAprQa3Z_"
      },
      "source": [
        "!ls -l \"/content/drive/My Drive/202107_Tool-A/Work600/pytorch_advanced/2_objectdetection/weights\""
      ],
      "execution_count": null,
      "outputs": []
    },
    {
      "cell_type": "code",
      "metadata": {
        "id": "2fdXNmmzWJxz"
      },
      "source": [
        "# 学習済みのSSD用のVGGのパラメータ「vgg16_reducedfc.pth」をフォルダ「weights」にダウンロード\n",
        "# MIT License\n",
        "# Copyright (c) 2017 Max deGroot, Ellis Brown\n",
        "# https://github.com/amdegroot/ssd.pytorch\n",
        "    \n",
        "url = \"https://s3.amazonaws.com/amdegroot-models/vgg16_reducedfc.pth\"\n",
        "target_path = os.path.join(weights_dir, \"vgg16_reducedfc.pth\") \n",
        "\n",
        "if not os.path.exists(target_path):\n",
        "    urllib.request.urlretrieve(url, target_path)"
      ],
      "execution_count": null,
      "outputs": []
    },
    {
      "cell_type": "code",
      "metadata": {
        "id": "d8IjgDnhWJx0"
      },
      "source": [
        "# 学習済みのSSD300モデル「ssd300_mAP_77.43_v2.pth」をフォルダ「weights」にダウンロード\n",
        "# MIT License\n",
        "# Copyright (c) 2017 Max deGroot, Ellis Brown\n",
        "# https://github.com/amdegroot/ssd.pytorch\n",
        "\n",
        "url = \"https://s3.amazonaws.com/amdegroot-models/ssd300_mAP_77.43_v2.pth\"\n",
        "target_path = os.path.join(weights_dir, \"ssd300_mAP_77.43_v2.pth\") \n",
        "\n",
        "if not os.path.exists(target_path):\n",
        "    urllib.request.urlretrieve(url, target_path)\n"
      ],
      "execution_count": null,
      "outputs": []
    },
    {
      "cell_type": "markdown",
      "metadata": {
        "id": "zjzgM23ucmBq"
      },
      "source": [
        "本章の内容で筆者が作成した学習済みのSSD300モデル「ssd300_50.pth」もあらかじめダウンロードしておきます。\n",
        "\n",
        "https://drive.google.com/open?id=1_zTTYQ2j0r-Qe3VBbHzvURD0c1P2ZSE9   \n",
        "    "
      ]
    },
    {
      "cell_type": "code",
      "metadata": {
        "id": "4PGLAK8GZ8Tx"
      },
      "source": [
        "# google drive downloader (for a large file)\n",
        "# https://medium.com/@acpanjan/download-google-drive-files-using-wget-3c2c025a8b99\n",
        "# You should change the first two lines (FILEID and OUTFILENAME) only\n",
        "\n",
        "# moving to the target directory\n",
        "%cd weights\n",
        "\n",
        "! FILEID=1_zTTYQ2j0r-Qe3VBbHzvURD0c1P2ZSE9; \\\n",
        "OUTFILENAME=ssd300_50.pth; \\\n",
        "\\\n",
        "URLS=\"https://docs.google.com/uc?export=download&id=$FILEID\"; \\\n",
        "echo $FILEID $OUTFILENAME $URLS; \\\n",
        "URLC=`wget --quiet --save-cookies /root/cookies.txt --keep-session-cookies --no-check-certificate $URLS -O- | sed -rn 's/.*confirm=([0-9A-Za-z_]+).*/\\1\\n/p'`; \\\n",
        "echo $URLC; \\\n",
        "wget --load-cookies /root/cookies.txt \"https://docs.google.com/uc?export=download&confirm=\"$URLC\"&id=\"$FILEID -O $OUTFILENAME ; \\\n",
        "rm -f /root/cookies.txt \n",
        "\n",
        "# just check\n",
        "!ls -l\n",
        "\n",
        "# coming back to the original directory\n",
        "%cd -"
      ],
      "execution_count": null,
      "outputs": []
    },
    {
      "cell_type": "code",
      "metadata": {
        "id": "c33zJZVvAnyV"
      },
      "source": [
        "!ls -l \"/content/drive/My Drive/202107_Tool-A/Work600/pytorch_advanced/2_objectdetection/weights\""
      ],
      "execution_count": null,
      "outputs": []
    },
    {
      "cell_type": "markdown",
      "metadata": {
        "id": "Hknhew7kceWu"
      },
      "source": [
        "---\n",
        "# 乗馬の画像を手動でダウンロード (予め実施済)\n",
        "\n",
        "https://pixabay.com/ja/photos/%E3%82%AB%E3%82%A6%E3%83%9C%E3%83%BC%E3%82%A4-%E9%A6%AC-%E4%B9%97%E9%A6%AC-%E6%B0%B4-%E6%B5%B7-757575/\n",
        "の640×426サイズの画像\n",
        "（画像権利情報：商用利用無料、帰属表示は必要ありません）\n",
        "\n",
        "は、フォルダ「data」の直下に置いてあります。\n",
        "\n",
        "(You should find the cowboy-757575_640.jpg in the \"My Drive/202107_Tool-A/Work600/pytorch_advanced/2_objectdetection/data\" )"
      ]
    },
    {
      "cell_type": "markdown",
      "metadata": {
        "id": "W1m7bpioWJx1"
      },
      "source": [
        "以上"
      ]
    },
    {
      "cell_type": "markdown",
      "metadata": {
        "id": "TMVp_hsdWX3T"
      },
      "source": [
        "---\n",
        "# Tips: Another way of downloading VOC2012\n",
        "\n",
        "Since the VOC2012 is very large (2GB in tar format),\n",
        "I prepare a local mirror for the lecture purpose to download VOCtrainval_11-May-2012.tar in case you need extraordinaly long time to download it.\n",
        "\n",
        "https://drive.google.com/file/d/1TINcf5-GfJjrim3A1-QvdjXGe0Wx0I8i/view?usp=sharing\n",
        "https://drive.google.com/file/d/1TINcf5-GfJjrim3A1-QvdjXGe0Wx0I8i\n",
        "\n",
        "Make sure it is put at your google drive's \"My Drive/202107_Tool-A/Work600/pytorch_advanced/2_objectdetection/VOCtrainval_11-May-2012.tar\" (please change the filename to fit).\n"
      ]
    },
    {
      "cell_type": "markdown",
      "metadata": {
        "id": "U0H8BM2g39hl"
      },
      "source": [
        "---\n",
        "Revised by KAMEDA, Yoshinari at University of Tsukuba for lecture purpose.  \n",
        "Original: https://github.com/YutaroOgawa/pytorch_advanced\n",
        "\n",
        "2021/08/02. "
      ]
    }
  ]
}