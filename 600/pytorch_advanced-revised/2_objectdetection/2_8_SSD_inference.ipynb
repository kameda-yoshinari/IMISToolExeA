{
  "nbformat": 4,
  "nbformat_minor": 0,
  "metadata": {
    "kernelspec": {
      "display_name": "Python 3",
      "language": "python",
      "name": "python3"
    },
    "language_info": {
      "codemirror_mode": {
        "name": "ipython",
        "version": 3
      },
      "file_extension": ".py",
      "mimetype": "text/x-python",
      "name": "python",
      "nbconvert_exporter": "python",
      "pygments_lexer": "ipython3",
      "version": "3.6.5"
    },
    "colab": {
      "name": "2-8_SSD_inference.ipynb",
      "provenance": [],
      "collapsed_sections": [],
      "include_colab_link": true
    }
  },
  "cells": [
    {
      "cell_type": "markdown",
      "metadata": {
        "id": "view-in-github",
        "colab_type": "text"
      },
      "source": [
        "<a href=\"https://colab.research.google.com/github/kameda-yoshinari/IMISToolExeA2021/blob/main/600/pytorch_advanced-revised/2_objectdetection/2_8_SSD_inference.ipynb\" target=\"_parent\"><img src=\"https://colab.research.google.com/assets/colab-badge.svg\" alt=\"Open In Colab\"/></a>"
      ]
    },
    {
      "cell_type": "markdown",
      "metadata": {
        "id": "a0lbTrMbVAU2"
      },
      "source": [
        "# 2.8 推論の実施\n",
        "\n",
        "- 本ファイルでは、学習させたSSDで物体検出を行います。\n"
      ]
    },
    {
      "cell_type": "markdown",
      "metadata": {
        "id": "RKo5dFndVAU4"
      },
      "source": [
        "# 学習目標\n",
        "\n",
        "1.\tSSDの推論を実装できるようになる"
      ]
    },
    {
      "cell_type": "markdown",
      "metadata": {
        "id": "Jb_gLRHhVAU5"
      },
      "source": [
        "# 事前準備\n",
        "\n",
        "- 学習させた重みパラメータを用意\n",
        "- フォルダ「utils」のssd_predict_show.pyを使用します"
      ]
    },
    {
      "cell_type": "code",
      "metadata": {
        "id": "kZULrWd6VAU5"
      },
      "source": [
        "import cv2  # OpenCVライブラリ\n",
        "import matplotlib.pyplot as plt \n",
        "import numpy as np\n",
        "import torch\n",
        "\n",
        "%matplotlib inline"
      ],
      "execution_count": null,
      "outputs": []
    },
    {
      "cell_type": "markdown",
      "metadata": {
        "id": "MwOMSDc2VAU5"
      },
      "source": [
        "# 推論を実行する"
      ]
    },
    {
      "cell_type": "code",
      "metadata": {
        "id": "fVWHBJWvVAU6"
      },
      "source": [
        "from utils.ssd_model import SSD\n",
        "\n",
        "voc_classes = ['aeroplane', 'bicycle', 'bird', 'boat',\n",
        "               'bottle', 'bus', 'car', 'cat', 'chair',\n",
        "               'cow', 'diningtable', 'dog', 'horse',\n",
        "               'motorbike', 'person', 'pottedplant',\n",
        "               'sheep', 'sofa', 'train', 'tvmonitor']\n",
        "\n",
        "# SSD300の設定\n",
        "ssd_cfg = {\n",
        "    'num_classes': 21,  # 背景クラスを含めた合計クラス数\n",
        "    'input_size': 300,  # 画像の入力サイズ\n",
        "    'bbox_aspect_num': [4, 6, 6, 6, 4, 4],  # 出力するDBoxのアスペクト比の種類\n",
        "    'feature_maps': [38, 19, 10, 5, 3, 1],  # 各sourceの画像サイズ\n",
        "    'steps': [8, 16, 32, 64, 100, 300],  # DBOXの大きさを決める\n",
        "    'min_sizes': [30, 60, 111, 162, 213, 264],  # DBOXの大きさを決める\n",
        "    'max_sizes': [60, 111, 162, 213, 264, 315],  # DBOXの大きさを決める\n",
        "    'aspect_ratios': [[2], [2, 3], [2, 3], [2, 3], [2], [2]],\n",
        "}\n",
        "\n",
        "# SSDネットワークモデル\n",
        "net = SSD(phase=\"inference\", cfg=ssd_cfg)\n",
        "\n",
        "# SSDの学習済みの重みを設定\n",
        "net_weights = torch.load('./weights/ssd300_50.pth',\n",
        "                         map_location={'cuda:0': 'cpu'})\n",
        "\n",
        "#net_weights = torch.load('./weights/ssd300_mAP_77.43_v2.pth',\n",
        "#                         map_location={'cuda:0': 'cpu'})\n",
        "\n",
        "net.load_state_dict(net_weights)\n",
        "\n",
        "print('ネットワーク設定完了：学習済みの重みをロードしました')\n"
      ],
      "execution_count": null,
      "outputs": []
    },
    {
      "cell_type": "code",
      "metadata": {
        "id": "uerq4e8ZVAU7"
      },
      "source": [
        "from utils.ssd_model import DataTransform\n",
        "\n",
        "# 1. 画像読み込み\n",
        "image_file_path = \"./data/cowboy-757575_640.jpg\"\n",
        "img = cv2.imread(image_file_path)  # [高さ][幅][色BGR]\n",
        "height, width, channels = img.shape  # 画像のサイズを取得\n",
        "\n",
        "# 2. 元画像の表示\n",
        "plt.imshow(cv2.cvtColor(img, cv2.COLOR_BGR2RGB))\n",
        "plt.show()\n",
        "\n",
        "# 3. 前処理クラスの作成\n",
        "color_mean = (104, 117, 123)  # (BGR)の色の平均値\n",
        "input_size = 300  # 画像のinputサイズを300×300にする\n",
        "transform = DataTransform(input_size, color_mean)\n",
        "\n",
        "# 4. 前処理\n",
        "phase = \"val\"\n",
        "img_transformed, boxes, labels = transform(\n",
        "    img, phase, \"\", \"\")  # アノテーションはないので、\"\"にする\n",
        "img = torch.from_numpy(img_transformed[:, :, (2, 1, 0)]).permute(2, 0, 1)\n",
        "\n",
        "# 5. SSDで予測\n",
        "net.eval()  # ネットワークを推論モードへ\n",
        "x = img.unsqueeze(0)  # ミニバッチ化：torch.Size([1, 3, 300, 300])\n",
        "detections = net(x)\n",
        "\n",
        "print(detections.shape)\n",
        "print(detections)\n",
        "\n",
        "# output : torch.Size([batch_num, 21, 200, 5])\n",
        "#  =（batch_num、クラス、confのtop200、規格化されたBBoxの情報）\n",
        "#   規格化されたBBoxの情報（確信度、xmin, ymin, xmax, ymax）\n"
      ],
      "execution_count": null,
      "outputs": []
    },
    {
      "cell_type": "code",
      "metadata": {
        "id": "pkfxzwwwVAU7"
      },
      "source": [
        "# 画像に対する予測\n",
        "from utils.ssd_predict_show import SSDPredictShow\n",
        "\n",
        "# ファイルパス\n",
        "image_file_path = \"./data/cowboy-757575_640.jpg\"\n",
        "\n",
        "# 予測と、予測結果を画像で描画する\n",
        "ssd = SSDPredictShow(eval_categories=voc_classes, net=net)\n",
        "ssd.show(image_file_path, data_confidence_level=0.6)\n",
        "\n"
      ],
      "execution_count": null,
      "outputs": []
    },
    {
      "cell_type": "markdown",
      "metadata": {
        "id": "OkCJri3BVAU8"
      },
      "source": [
        "以上"
      ]
    }
  ]
}