{
  "nbformat": 4,
  "nbformat_minor": 0,
  "metadata": {
    "kernelspec": {
      "display_name": "Python 3",
      "language": "python",
      "name": "python3"
    },
    "language_info": {
      "codemirror_mode": {
        "name": "ipython",
        "version": 3
      },
      "file_extension": ".py",
      "mimetype": "text/x-python",
      "name": "python",
      "nbconvert_exporter": "python",
      "pygments_lexer": "ipython3",
      "version": "3.6.5"
    },
    "colab": {
      "name": "GC7-0_make_folders_and_data_downloads.ipynb",
      "provenance": [],
      "collapsed_sections": [],
      "include_colab_link": true
    }
  },
  "cells": [
    {
      "cell_type": "markdown",
      "metadata": {
        "id": "view-in-github",
        "colab_type": "text"
      },
      "source": [
        "<a href=\"https://colab.research.google.com/github/kameda-yoshinari/IMISToolExeA2021/blob/main/600/pytorch_advanced-revised/7_nlp_sentiment_transformer/GC7_0_make_folders_and_data_downloads.ipynb\" target=\"_parent\"><img src=\"https://colab.research.google.com/assets/colab-badge.svg\" alt=\"Open In Colab\"/></a>"
      ]
    },
    {
      "cell_type": "markdown",
      "metadata": {
        "id": "i12zJJEOm2R9"
      },
      "source": [
        "# 第7章 自然言語処理による感情分析（Transformer）の準備ファイル\n",
        "\n",
        "- 本ファイルでは、第7章で使用するフォルダの作成とファイルのダウンロードを行います。"
      ]
    },
    {
      "cell_type": "markdown",
      "metadata": {
        "id": "_Z2iYK_ox7s-"
      },
      "source": [
        "---\n",
        "\n",
        "# Google Colab"
      ]
    },
    {
      "cell_type": "code",
      "metadata": {
        "id": "p12QTDHEx7tH"
      },
      "source": [
        "!echo \"Change to the JST notation.\"\n",
        "!rm /etc/localtime\n",
        "!ln -s /usr/share/zoneinfo/Japan /etc/localtime"
      ],
      "execution_count": null,
      "outputs": []
    },
    {
      "cell_type": "code",
      "metadata": {
        "id": "usdzzcLbx7tI"
      },
      "source": [
        "!echo \"Start mounting your Google Drive.\"\n",
        "from google.colab import drive \n",
        "drive.mount('/content/drive')\n",
        "%cd /content/drive/My\\ Drive/\n",
        "!echo \"Move to the working directory.\"\n",
        "%cd 202107_Tool-A/Work600/\n",
        "!ls -l"
      ],
      "execution_count": null,
      "outputs": []
    },
    {
      "cell_type": "markdown",
      "metadata": {
        "id": "fDc3dnE_x7tJ"
      },
      "source": [
        "---\n",
        "# 共通準備\n",
        "\n",
        "\"pytorch_advanced\" folder should be ready before you come here."
      ]
    },
    {
      "cell_type": "code",
      "metadata": {
        "id": "cED0rxM7x7tJ"
      },
      "source": [
        "# Skip this if you have already issued git in advance. \n",
        "# If you come here by way of 600-PyTorchADL.ipynb, \n",
        "# you should skip the git command (as you have already issued in 600).  \n",
        "# If you run git when pytorch_advanced already exists, git tells the error and clone won't be made.\n",
        "\n",
        "#!git clone https://github.com/YutaroOgawa/pytorch_advanced.git\n",
        "\n",
        "import os\n",
        "if os.path.exists(\"/content/drive/My Drive/202107_Tool-A/Work600/pytorch_advanced\"):\n",
        "    print(\"OK. Alreadly git cloned. You can go.\")\n",
        "else:\n",
        "    print(\"You'd better go back to the first 600-PyTorchADL.ipynb\")"
      ],
      "execution_count": null,
      "outputs": []
    },
    {
      "cell_type": "code",
      "metadata": {
        "id": "lRia6DwFx7tJ"
      },
      "source": [
        "!ls"
      ],
      "execution_count": null,
      "outputs": []
    },
    {
      "cell_type": "code",
      "metadata": {
        "id": "BGd5BWZZx7tJ"
      },
      "source": [
        "%cd \"pytorch_advanced\""
      ],
      "execution_count": null,
      "outputs": []
    },
    {
      "cell_type": "code",
      "metadata": {
        "id": "EgWF4QMix7tK"
      },
      "source": [
        "!ls"
      ],
      "execution_count": null,
      "outputs": []
    },
    {
      "cell_type": "code",
      "metadata": {
        "id": "1YelRffxx7tK"
      },
      "source": [
        "%cd \"7_nlp_sentiment_transformer\""
      ],
      "execution_count": null,
      "outputs": []
    },
    {
      "cell_type": "code",
      "metadata": {
        "id": "dRZz7hVLx7tK"
      },
      "source": [
        "!ls"
      ],
      "execution_count": null,
      "outputs": []
    },
    {
      "cell_type": "markdown",
      "metadata": {
        "id": "LTbvXpJBnL00"
      },
      "source": [
        "---\n",
        "# ./data on Google Drive"
      ]
    },
    {
      "cell_type": "code",
      "metadata": {
        "id": "lLdv42r6m2R_"
      },
      "source": [
        "import os\n",
        "import urllib.request\n",
        "import zipfile\n",
        "import tarfile"
      ],
      "execution_count": null,
      "outputs": []
    },
    {
      "cell_type": "code",
      "metadata": {
        "id": "62qo69odm2SA"
      },
      "source": [
        "# フォルダ「data」が存在しない場合は作成する\n",
        "data_dir = \"./data/\"\n",
        "if not os.path.exists(data_dir):\n",
        "    os.mkdir(data_dir)"
      ],
      "execution_count": null,
      "outputs": []
    },
    {
      "cell_type": "code",
      "metadata": {
        "id": "BDDboOYLoy9y"
      },
      "source": [
        "!ls -l ./data"
      ],
      "execution_count": null,
      "outputs": []
    },
    {
      "cell_type": "code",
      "metadata": {
        "id": "9tCc20rVylCv"
      },
      "source": [
        "!rm data/vector_neologd.zip"
      ],
      "execution_count": null,
      "outputs": []
    },
    {
      "cell_type": "markdown",
      "metadata": {
        "id": "byTzU1kqm2SA"
      },
      "source": [
        "---\n",
        "# word2vec学習済みモデルをダウンロード\n",
        "\n",
        "東北大学 乾・岡崎研究室で公開されているデータ\n",
        "\n",
        "http://www.cl.ecei.tohoku.ac.jp/~m-suzuki/jawiki_vector/\n",
        "\n",
        "にある\n",
        "\n",
        "http://www.cl.ecei.tohoku.ac.jp/~m-suzuki/jawiki_vector/data/20170201.tar.bz2\n",
        "    \n",
        "をダウンロードして使用します。\n",
        "\n",
        "1.3 GB as for tar.gz, and plus 2.6 GB upon extraction."
      ]
    },
    {
      "cell_type": "code",
      "metadata": {
        "id": "kJdbPgX3m2SB"
      },
      "source": [
        "# word2vecの日本語学習済みモデル（東北大学 乾・岡崎研究室）をダウンロード。1分ほどかかります。\n",
        "\n",
        "url = \"http://www.cl.ecei.tohoku.ac.jp/~m-suzuki/jawiki_vector/data/20170201.tar.bz2\"\n",
        "save_path = \"./data/20170201.tar.bz2\"\n",
        "if not os.path.exists(save_path):\n",
        "    urllib.request.urlretrieve(url, save_path)\n"
      ],
      "execution_count": null,
      "outputs": []
    },
    {
      "cell_type": "code",
      "metadata": {
        "id": "aGkR257Zm2SB"
      },
      "source": [
        "# './data/20170201.tar.bz2'の解凍。4分ほどかかります。\n",
        "\n",
        "# tarファイルを読み込み\n",
        "tar = tarfile.open('./data/20170201.tar.bz2', 'r|bz2')\n",
        "tar.extractall('./data/')  # 解凍\n",
        "tar.close()  # ファイルをクローズ\n",
        "\n",
        "# フォルダ「data」内にフォルダ「entity_vector」というものができ、その中に「entity_vector.model.bin」というファイルができています。\n",
        "!ls -l ./data/entity_vector/"
      ],
      "execution_count": null,
      "outputs": []
    },
    {
      "cell_type": "markdown",
      "metadata": {
        "id": "hoiZlqElm2SC"
      },
      "source": [
        "# fastTextの英語学習済みモデルをダウンロード"
      ]
    },
    {
      "cell_type": "code",
      "metadata": {
        "id": "BNKflh74m2SC"
      },
      "source": [
        "# fastTextの公式の英語学習済みモデル（650MB）をダウンロード。1分ほどかかります。\n",
        "\n",
        "url = \"https://dl.fbaipublicfiles.com/fasttext/vectors-english/wiki-news-300d-1M.vec.zip\"\n",
        "save_path = \"./data/wiki-news-300d-1M.vec.zip\"\n",
        "if not os.path.exists(save_path):\n",
        "    urllib.request.urlretrieve(url, save_path)\n",
        "    "
      ],
      "execution_count": null,
      "outputs": []
    },
    {
      "cell_type": "code",
      "metadata": {
        "id": "rgFpHzqom2SD"
      },
      "source": [
        "# フォルダ「data」内の「/wiki-news-300d-1M.vec.zip」を解凍する。1分ほどかかります。\n",
        "\n",
        "zip = zipfile.ZipFile(\"./data/wiki-news-300d-1M.vec.zip\")\n",
        "zip.extractall(\"./data/\")  # ZIPを解凍\n",
        "zip.close()  # ZIPファイルをクローズ\n",
        "\n",
        "# フォルダ「data」内にフォルダ「wiki-news-300d-1M.vec」というものができます。\n",
        "!ls -l ./data/"
      ],
      "execution_count": null,
      "outputs": []
    },
    {
      "cell_type": "markdown",
      "metadata": {
        "id": "Qz1jDFcam2SE"
      },
      "source": [
        "# IMDbデータセットをダウンロード\n",
        "\n",
        "http://ai.stanford.edu/~amaas/data/sentiment/aclImdb_v1.tar.gz\n",
        "    "
      ]
    },
    {
      "cell_type": "code",
      "metadata": {
        "id": "lt6ZqO8Im2SE"
      },
      "source": [
        "# IMDbデータセットをダウンロード。すぐダウンロードできます。\n",
        "\n",
        "url = \"http://ai.stanford.edu/~amaas/data/sentiment/aclImdb_v1.tar.gz\"\n",
        "save_path = \"./data/aclImdb_v1.tar.gz\"\n",
        "if not os.path.exists(save_path):\n",
        "    urllib.request.urlretrieve(url, save_path)"
      ],
      "execution_count": null,
      "outputs": []
    },
    {
      "cell_type": "code",
      "metadata": {
        "id": "oOZvoqxnr8j5"
      },
      "source": [
        "!tar tfz ./data/aclImdb_v1.tar.gz | wc -l"
      ],
      "execution_count": null,
      "outputs": []
    },
    {
      "cell_type": "markdown",
      "metadata": {
        "id": "QAkCm6KstCRO"
      },
      "source": [
        "Since the aclImdb_v1.tar.gz has 100,019 small files, it is not a good idea to extract them on google drive (rather on a virtual local drive on GC).\n",
        "\n",
        "Fortunately, we can use symbolic link on google drive, so will use it later."
      ]
    },
    {
      "cell_type": "code",
      "metadata": {
        "id": "gK35O_qAm2SF"
      },
      "source": [
        "# './data/aclImdb_v1.tar.gz'の解凍。1分ほどかかります\n",
        "\n",
        "# tarファイルを読み込み\n",
        "#tar = tarfile.open('./data/aclImdb_v1.tar.gz')\n",
        "#tar.extractall('./data/')  # 解凍\n",
        "#tar.close()  # ファイルをクローズ\n",
        "# フォルダ「data」内にフォルダ「aclImdb」というものができます。\n",
        "\n",
        "!ls -l ./data/"
      ],
      "execution_count": null,
      "outputs": []
    },
    {
      "cell_type": "markdown",
      "metadata": {
        "id": "DI34s7Vcm2SF"
      },
      "source": [
        "# fastTextの学習済みモデルをダウンロード\n",
        "\n",
        "fastTextの日本語学習済みモデルについては、手動で手元のPCでQiita記事「いますぐ使える単語埋め込みベクトルのリスト」\n",
        "\n",
        "https://qiita.com/Hironsan/items/8f7d35f0a36e0f99752c\n",
        "\n",
        "のfastTextの「URL2：Download Word Vectors(NEologd)」部分のリンク\n",
        "\n",
        "https://drive.google.com/open?id=0ByFQ96A4DgSPUm9wVWRLdm5qbmc\n",
        "\n",
        "\n",
        "から「vector_neologd.zip」をダウンロードします。\n",
        "\n",
        "\n",
        "\n"
      ]
    },
    {
      "cell_type": "code",
      "metadata": {
        "id": "2YxMlGlhoD0t"
      },
      "source": [
        "# google drive downloader (for a large file)\n",
        "# https://medium.com/@acpanjan/download-google-drive-files-using-wget-3c2c025a8b99\n",
        "# You should change the first two lines (FILEID and OUTFILENAME) only\n",
        "\n",
        "# moving to the target directory\n",
        "%cd data/\n",
        "\n",
        "! FILEID=0ByFQ96A4DgSPUm9wVWRLdm5qbmc; \\\n",
        "OUTFILENAME=vector_neologd.zip; \\\n",
        "\\\n",
        "URLS=\"https://docs.google.com/uc?export=download&id=$FILEID\"; \\\n",
        "echo $FILEID $OUTFILENAME $URLS; \\\n",
        "URLC=`wget --quiet --save-cookies /root/cookies.txt --keep-session-cookies --no-check-certificate $URLS -O- | sed -rn 's/.*confirm=([0-9A-Za-z_]+).*/\\1\\n/p'`; \\\n",
        "echo $URLC; \\\n",
        "wget --load-cookies /root/cookies.txt \"https://docs.google.com/uc?export=download&confirm=\"$URLC\"&id=\"$FILEID -O $OUTFILENAME ; \\\n",
        "rm -f /root/cookies.txt \n",
        "\n",
        "# just check\n",
        "!ls -l\n",
        "\n",
        "# coming back to the original directory\n",
        "%cd -"
      ],
      "execution_count": null,
      "outputs": []
    },
    {
      "cell_type": "code",
      "metadata": {
        "id": "bcnQN2VRm2SF"
      },
      "source": [
        "# フォルダ「data」内の「vector_neologd.zip」を解凍する\n",
        "\n",
        "zip = zipfile.ZipFile(\"./data/vector_neologd.zip\")\n",
        "zip.extractall(\"./data/vector_neologd/\")  # ZIPを解凍\n",
        "zip.close()  # ZIPファイルをクローズ\n"
      ],
      "execution_count": null,
      "outputs": []
    },
    {
      "cell_type": "markdown",
      "metadata": {
        "id": "aRPqiJyL2TJc"
      },
      "source": [
        "---\n",
        "# Final check\n",
        "\n",
        "A directory ./data/aclImdb won't be made in this ipynb."
      ]
    },
    {
      "cell_type": "code",
      "metadata": {
        "id": "rRidy45w1xqY"
      },
      "source": [
        "# check the status \n",
        "\n",
        "%cd .\n",
        "!ls -l data/ data/entity_vector/ data/vector_neologd/ \n",
        "!ls -l "
      ],
      "execution_count": null,
      "outputs": []
    },
    {
      "cell_type": "markdown",
      "metadata": {
        "id": "pxprtbsK4RJw"
      },
      "source": [
        "---\n",
        "# Extraction of aclImdb (GC7-0)\n",
        "\n",
        "The working directory is at /content/drive/My Drive/202107_Tool-A/Work600/pytorch_advanced/7_nlp_sentiment_transformer/ .\n",
        "\n",
        "aclImdb will be prepared at /root/data/aclImdb and it will be accessible through \n",
        "/content/drive/My Drive/202107_Tool-A/Work600/pytorch_advanced/7_nlp_sentiment_transformer/data/aclImdb ."
      ]
    },
    {
      "cell_type": "code",
      "metadata": {
        "id": "sDD4Tx9b2htz"
      },
      "source": [
        "# local drive on GC is very, very fast.\n",
        "!mkdir -p /root/data/\n",
        "%cd /root/data/\n",
        "!tar xfz '/content/drive/My Drive/202107_Tool-A/Work600/pytorch_advanced/7_nlp_sentiment_transformer/data/aclImdb_v1.tar.gz'\n",
        "\n",
        "# make a symbolic link at the working directory on google drive.\n",
        "%cd '/content/drive/My Drive/202107_Tool-A/Work600/pytorch_advanced/7_nlp_sentiment_transformer/'\n",
        "!rm -f data/aclImdb\n",
        "!ln -s /root/data/aclImdb data/aclImdb\n",
        "\n",
        "!ls -ld data/aclImdb/"
      ],
      "execution_count": null,
      "outputs": []
    },
    {
      "cell_type": "markdown",
      "metadata": {
        "id": "0lGDyg33m2SG"
      },
      "source": [
        "以上"
      ]
    },
    {
      "cell_type": "markdown",
      "metadata": {
        "id": "f_ZLAkFnoa9U"
      },
      "source": [
        "---\n",
        "Revised by KAMEDA, Yoshinari at University of Tsukuba for lecture purpose.  \n",
        "Original: https://github.com/YutaroOgawa/pytorch_advanced\n",
        "\n",
        "2021/08/03. "
      ]
    }
  ]
}