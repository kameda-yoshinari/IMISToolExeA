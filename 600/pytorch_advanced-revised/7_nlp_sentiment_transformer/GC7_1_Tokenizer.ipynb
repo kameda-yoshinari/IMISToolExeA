{
  "nbformat": 4,
  "nbformat_minor": 0,
  "metadata": {
    "kernelspec": {
      "display_name": "Python 3",
      "language": "python",
      "name": "python3"
    },
    "language_info": {
      "codemirror_mode": {
        "name": "ipython",
        "version": 3
      },
      "file_extension": ".py",
      "mimetype": "text/x-python",
      "name": "python",
      "nbconvert_exporter": "python",
      "pygments_lexer": "ipython3",
      "version": "3.6.5"
    },
    "colab": {
      "name": "GC7-1_Tokenizer.ipynb",
      "provenance": [],
      "collapsed_sections": [],
      "include_colab_link": true
    }
  },
  "cells": [
    {
      "cell_type": "markdown",
      "metadata": {
        "id": "view-in-github",
        "colab_type": "text"
      },
      "source": [
        "<a href=\"https://colab.research.google.com/github/kameda-yoshinari/IMISToolExeA2021/blob/main/600/pytorch_advanced-revised/7_nlp_sentiment_transformer/GC7_1_Tokenizer.ipynb\" target=\"_parent\"><img src=\"https://colab.research.google.com/assets/colab-badge.svg\" alt=\"Open In Colab\"/></a>"
      ]
    },
    {
      "cell_type": "markdown",
      "metadata": {
        "id": "G4epxJYuAk_9"
      },
      "source": [
        "# 7.1 単語分割（Janome、MeCab+NEologd）\n",
        "\n",
        "- 本ファイルでは、JanomeもしくはMeCab+NEologdを使用して分かち書きします\n"
      ]
    },
    {
      "cell_type": "markdown",
      "metadata": {
        "id": "LOdfDFXbAk__"
      },
      "source": [
        "※　本章のファイルはすべてUbuntuでの動作を前提としています。Windowsなど文字コードが違う環境での動作にはご注意下さい。"
      ]
    },
    {
      "cell_type": "markdown",
      "metadata": {
        "id": "1xwXe9bcAlAA"
      },
      "source": [
        "# 7.1 学習目標\n",
        "\n",
        "1.\t機械学習における自然言語処理の流れを理解する\n",
        "2.\tJanomeおよびMeCab+NEologdを用いた形態素解析を実装できるようになる\n"
      ]
    },
    {
      "cell_type": "markdown",
      "metadata": {
        "id": "vSxIfX9VAlAB"
      },
      "source": [
        "---\n",
        "# 事前準備\n",
        "\n",
        "- 書籍の指示に従い、本章で使用するデータを用意します\n",
        "\n"
      ]
    },
    {
      "cell_type": "markdown",
      "metadata": {
        "id": "OZWxb5kyAlAB"
      },
      "source": [
        "---\n",
        "# 1 . 単語へ分割：Tokenizer\n",
        "\n",
        "分かち書きをする部分を作成します\n"
      ]
    },
    {
      "cell_type": "markdown",
      "metadata": {
        "id": "JTYkF_5-AlAB"
      },
      "source": [
        "## 1.1 Janome\n",
        "\n",
        "公式サイト\n",
        "\n",
        "https://mocobeta.github.io/janome/\n"
      ]
    },
    {
      "cell_type": "markdown",
      "metadata": {
        "id": "B39HcRxCAlAC"
      },
      "source": [
        "### Janomeのインストール方法\n",
        "\n",
        "- check python version\n",
        "- check pytorch version\n",
        "- pip install janome"
      ]
    },
    {
      "cell_type": "code",
      "metadata": {
        "id": "9iqDo5sqGuAV"
      },
      "source": [
        "# See https://github.com/kameda-yoshinari/IMISToolExeA2021/blob/main/300_PyTorch.ipynb\n",
        "\n",
        "!python3 -VV\n",
        "\n",
        "import torch\n",
        "print(torch.__version__)\n",
        "print(torch.version.git_version)"
      ],
      "execution_count": null,
      "outputs": []
    },
    {
      "cell_type": "code",
      "metadata": {
        "id": "J5DJHOdiGXw5"
      },
      "source": [
        "!pip install janome"
      ],
      "execution_count": null,
      "outputs": []
    },
    {
      "cell_type": "code",
      "metadata": {
        "id": "jhwVvV5tAlAD"
      },
      "source": [
        "from janome.tokenizer import Tokenizer\n",
        "\n",
        "j_t = Tokenizer()\n",
        "\n",
        "text = '機械学習が好きです。'\n",
        "\n",
        "for token in j_t.tokenize(text):\n",
        "    print(token)\n"
      ],
      "execution_count": null,
      "outputs": []
    },
    {
      "cell_type": "code",
      "metadata": {
        "id": "dqO56kzeAlAE"
      },
      "source": [
        "# 単語分割する関数を定義\n",
        "\n",
        "\n",
        "def tokenizer_janome(text):\n",
        "    return [tok for tok in j_t.tokenize(text, wakati=True)]\n",
        "\n",
        "\n",
        "text = '機械学習が好きです。'\n",
        "print(tokenizer_janome(text))\n"
      ],
      "execution_count": null,
      "outputs": []
    },
    {
      "cell_type": "markdown",
      "metadata": {
        "id": "rvdWYDH3AlAF"
      },
      "source": [
        "## 1.2 MeCab\n",
        "\n",
        "公式サイト\n",
        "\n",
        "http://taku910.github.io/mecab/"
      ]
    },
    {
      "cell_type": "markdown",
      "metadata": {
        "id": "jTDNKHNlAlAG"
      },
      "source": [
        "### MeCab+NEologdのインストール方法\n",
        "\n",
        "1. MeCabのインストール\n",
        "\n",
        "\n"
      ]
    },
    {
      "cell_type": "code",
      "metadata": {
        "id": "zgWbtCPUeFIF"
      },
      "source": [
        "# https://qiita.com/jun40vn/items/78e33e29dce3d50c2df1\n",
        "\n",
        "!apt-get -q -y install sudo file mecab libmecab-dev mecab-ipadic-utf8 git curl python-mecab"
      ],
      "execution_count": null,
      "outputs": []
    },
    {
      "cell_type": "markdown",
      "metadata": {
        "id": "24VjO5yxH6Vj"
      },
      "source": [
        "2. NEologd のインストール\n",
        "\n",
        "A clone should be placed on local drive (otherwise installation will fail).\n"
      ]
    },
    {
      "cell_type": "code",
      "metadata": {
        "id": "60Zq6L8AIHwN"
      },
      "source": [
        "# https://qiita.com/jun40vn/items/78e33e29dce3d50c2df1\n",
        "\n",
        "%cd ~\n",
        "!test -d mecab-ipadic-neologd || git clone --depth 1 https://github.com/neologd/mecab-ipadic-neologd.git\n",
        "!echo yes | ./mecab-ipadic-neologd/bin/install-mecab-ipadic-neologd -n"
      ],
      "execution_count": null,
      "outputs": []
    },
    {
      "cell_type": "markdown",
      "metadata": {
        "id": "Y3aICay3H8WM"
      },
      "source": [
        "3. PythonからMeCabを使用できるようにする \n",
        "\n"
      ]
    },
    {
      "cell_type": "code",
      "metadata": {
        "id": "zNIBALwIJISN"
      },
      "source": [
        "# https://qiita.com/jun40vn/items/78e33e29dce3d50c2df1\n",
        "\n",
        "!pip install mecab-python3"
      ],
      "execution_count": null,
      "outputs": []
    },
    {
      "cell_type": "code",
      "metadata": {
        "id": "qvPwHE0lWLXu"
      },
      "source": [
        "# https://qiita.com/jun40vn/items/78e33e29dce3d50c2df1\n",
        "\n",
        "!test -f /usr/local/etc/mecabrc || ln -s /etc/mecabrc /usr/local/etc/mecabrc && echo \"Already linked.\""
      ],
      "execution_count": null,
      "outputs": []
    },
    {
      "cell_type": "code",
      "metadata": {
        "id": "3iZ2SN2SAlAG"
      },
      "source": [
        "import MeCab\n",
        "\n",
        "m_t = MeCab.Tagger('-Ochasen')\n",
        "\n",
        "text = '機械学習が好きです。'\n",
        "\n",
        "print(m_t.parse(text))\n"
      ],
      "execution_count": null,
      "outputs": []
    },
    {
      "cell_type": "code",
      "metadata": {
        "id": "WND7UG5De8E5"
      },
      "source": [
        "# https://qiita.com/jun40vn/items/78e33e29dce3d50c2df1\n",
        "\n",
        "!echo `mecab-config --dicdir`\"/mecab-ipadic-neologd\""
      ],
      "execution_count": null,
      "outputs": []
    },
    {
      "cell_type": "code",
      "metadata": {
        "id": "8Tn7SoOKAlAG"
      },
      "source": [
        "import MeCab\n",
        "\n",
        "# m_t = MeCab.Tagger('-Ochasen -d /usr/lib/mecab/dic/mecab-ipadic-neologd')\n",
        "m_t = MeCab.Tagger('-Ochasen -d /usr/lib/x86_64-linux-gnu/mecab/dic/mecab-ipadic-neologd')\n",
        "\n",
        "\n",
        "text = '機械学習が好きです。'\n",
        "\n",
        "print(m_t.parse(text))\n"
      ],
      "execution_count": null,
      "outputs": []
    },
    {
      "cell_type": "code",
      "metadata": {
        "id": "Y1pBwKsqAlAH"
      },
      "source": [
        "# 単語分割する関数を定義\n",
        "\n",
        "#m_t = MeCab.Tagger('-Owakati -d /usr/lib/mecab/dic/mecab-ipadic-neologd')\n",
        "m_t = MeCab.Tagger('-Owakati -d /usr/lib/x86_64-linux-gnu/mecab/dic/mecab-ipadic-neologd')\n",
        "\n",
        "\n",
        "def tokenizer_mecab(text):\n",
        "    text = m_t.parse(text)  # これでスペースで単語が区切られる\n",
        "    ret = text.strip().split()  # スペース部分で区切ったリストに変換\n",
        "    return ret\n",
        "\n",
        "\n",
        "text = '機械学習が好きです。'\n",
        "print(tokenizer_mecab(text))\n"
      ],
      "execution_count": null,
      "outputs": []
    },
    {
      "cell_type": "markdown",
      "metadata": {
        "id": "AFB564siAlAH"
      },
      "source": [
        "以上"
      ]
    },
    {
      "cell_type": "markdown",
      "metadata": {
        "id": "VIBhIU7cj1wb"
      },
      "source": [
        "---\n",
        "# Preparation for word separation (GC7-1)\n",
        "\n",
        "This is the whole procedure of preparation of word separation."
      ]
    },
    {
      "cell_type": "code",
      "metadata": {
        "id": "8e1nNRpmj5ZZ"
      },
      "source": [
        "# janome, mecab, ipadic-neologd, and mecab-pytorch\n",
        "\n",
        "!pip install janome > /dev/null\n",
        "\n",
        "# https://qiita.com/jun40vn/items/78e33e29dce3d50c2df1\n",
        "\n",
        "%cd ~\n",
        "!apt-get -q -y install sudo file mecab libmecab-dev mecab-ipadic-utf8 git curl python-mecab > /dev/null\n",
        "!test -d mecab-ipadic-neologd || !git clone --depth 1 https://github.com/neologd/mecab-ipadic-neologd.git > /dev/null 2>&1\n",
        "!echo yes | ./mecab-ipadic-neologd/bin/install-mecab-ipadic-neologd -n > /dev/null 2>&1\n",
        "!pip install mecab-python3 > /dev/null\n",
        "\n",
        "!test -f /usr/local/etc/mecabrc || ln -s /etc/mecabrc /usr/local/etc/mecabrc \n",
        "\n",
        "!echo \"Dictionary path is : \"\n",
        "!echo `mecab-config --dicdir`\"/mecab-ipadic-neologd\"\n",
        "\n",
        "%cd -"
      ],
      "execution_count": null,
      "outputs": []
    },
    {
      "cell_type": "markdown",
      "metadata": {
        "id": "w7QtM9O3fJvj"
      },
      "source": [
        "---\n",
        "Revised by KAMEDA, Yoshinari at University of Tsukuba for lecture purpose.  \n",
        "Original: https://github.com/YutaroOgawa/pytorch_advanced\n",
        "\n",
        "2021/08/03. "
      ]
    }
  ]
}