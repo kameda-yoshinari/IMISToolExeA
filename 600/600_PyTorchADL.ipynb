{
  "nbformat": 4,
  "nbformat_minor": 0,
  "metadata": {
    "colab": {
      "name": "600-PyTorchADL.ipynb",
      "provenance": [],
      "collapsed_sections": [],
      "authorship_tag": "ABX9TyO0F7eOx2wujUAKqA/j+ZDP",
      "include_colab_link": true
    },
    "kernelspec": {
      "name": "python3",
      "display_name": "Python 3"
    }
  },
  "cells": [
    {
      "cell_type": "markdown",
      "metadata": {
        "id": "view-in-github",
        "colab_type": "text"
      },
      "source": [
        "<a href=\"https://colab.research.google.com/github/kameda-yoshinari/IMISToolExeA2022/blob/main/600/600_PyTorchADL.ipynb\" target=\"_parent\"><img src=\"https://colab.research.google.com/assets/colab-badge.svg\" alt=\"Open In Colab\"/></a>"
      ]
    },
    {
      "cell_type": "markdown",
      "metadata": {
        "id": "CvYFa2bSBgrB"
      },
      "source": [
        "# 6. Advanced Deep Learning by PyTorch\n",
        "\n",
        "This section refers a japanese text book of 「つくりながら学ぶ！PyTorchによる発展ディープラーニング」 (Advanced Deep Learning by PyTorch).\n",
        "\n",
        "* [つくりながら学ぶ！PyTorchによる発展ディープラーニング](https://www.amazon.co.jp/%E3%81%A4%E3%81%8F%E3%82%8A%E3%81%AA%E3%81%8C%E3%82%89%E5%AD%A6%E3%81%B6-PyTorch%E3%81%AB%E3%82%88%E3%82%8B%E7%99%BA%E5%B1%95%E3%83%87%E3%82%A3%E3%83%BC%E3%83%97%E3%83%A9%E3%83%BC%E3%83%8B%E3%83%B3%E3%82%B0-%E5%B0%8F%E5%B7%9D%E9%9B%84%E5%A4%AA%E9%83%8E/dp/4839970254) (Japanese textbook at amazon)"
      ]
    },
    {
      "cell_type": "markdown",
      "metadata": {
        "id": "5X-PBWBVKB3f"
      },
      "source": [
        "---\n",
        "# Before you comes to Google Colab\n",
        "\n",
        "Official site: \n",
        "\n",
        "* Official site:  \n",
        "https://book.mynavi.jp/supportsite/detail/9784839970253.html\n",
        "\n",
        "* Codes in the book:  \n",
        "https://github.com/YutaroOgawa/pytorch_advanced\n",
        "\n",
        "They are not customized fully for Google Colaboratory. That is the reason I prepare local version here.\n"
      ]
    },
    {
      "cell_type": "markdown",
      "metadata": {
        "id": "7PP4YVTTLkiG"
      },
      "source": [
        "---\n",
        "\n",
        "# After you comes to Google Colab"
      ]
    },
    {
      "cell_type": "markdown",
      "metadata": {
        "id": "-WTkCZxAXzro"
      },
      "source": [
        "Timezone JST."
      ]
    },
    {
      "cell_type": "code",
      "metadata": {
        "id": "dSHwW7ulXvd9",
        "colab": {
          "base_uri": "https://localhost:8080/"
        },
        "outputId": "281525f7-83ed-4a54-b798-58df1e2f8670"
      },
      "source": [
        "!echo \"Change to the JST notation.\"\n",
        "!rm /etc/localtime\n",
        "!ln -s /usr/share/zoneinfo/Japan /etc/localtime"
      ],
      "execution_count": null,
      "outputs": [
        {
          "output_type": "stream",
          "name": "stdout",
          "text": [
            "Change to the JST notation.\n"
          ]
        }
      ]
    },
    {
      "cell_type": "markdown",
      "metadata": {
        "id": "eIaZwlb3e9Pi"
      },
      "source": [
        "Set the working directory on your google drive."
      ]
    },
    {
      "cell_type": "code",
      "metadata": {
        "id": "TG8Cu0UxXcQ0",
        "colab": {
          "base_uri": "https://localhost:8080/"
        },
        "outputId": "0f6a9ce5-906f-4493-d90f-38b57c20c92c"
      },
      "source": [
        "!echo \"Start mounting your Google Drive.\"\n",
        "from google.colab import drive \n",
        "drive.mount('/content/drive')\n",
        "%cd /content/drive/My\\ Drive/\n",
        "!echo \"Make a working folder and move to there.\"\n",
        "%mkdir -p IMIS_Tool-A/Work600/\n",
        "%cd       IMIS_Tool-A/Work600/\n",
        "!ls -l"
      ],
      "execution_count": null,
      "outputs": [
        {
          "output_type": "stream",
          "name": "stdout",
          "text": [
            "Start mounting your Google Drive.\n",
            "Mounted at /content/drive\n",
            "/content/drive/My Drive\n",
            "Make a working folder and move to there.\n",
            "/content/drive/My Drive/IMIS_Tool-A/Work600\n",
            "total 0\n"
          ]
        }
      ]
    },
    {
      "cell_type": "markdown",
      "metadata": {
        "id": "2dqDFK_1eATx"
      },
      "source": [
        "---\n",
        "# How to go further\n",
        "\n",
        "Visit the [github for Google Colaboratory](https://github.com/kameda-yoshinari/IMISToolExeA2021/tree/main/600/pytorch_advanced-revised). "
      ]
    },
    {
      "cell_type": "markdown",
      "metadata": {
        "id": "9ijPyK5WSgVA"
      },
      "source": [
        "---\n",
        "Revised by KAMEDA, Yoshinari at University of Tsukuba for lecture purpose.  \n",
        "Original: https://github.com/YutaroOgawa/pytorch_advanced\n",
        "\n",
        "2022/08/01.  \n",
        "2021/08/02. \n"
      ]
    }
  ]
}