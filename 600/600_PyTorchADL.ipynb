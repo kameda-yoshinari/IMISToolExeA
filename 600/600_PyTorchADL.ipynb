{
  "nbformat": 4,
  "nbformat_minor": 0,
  "metadata": {
    "colab": {
      "name": "600-PyTorchADL.ipynb",
      "provenance": [],
      "collapsed_sections": [],
      "authorship_tag": "ABX9TyPF+1P55F0wWQEUU/i6T+hy",
      "include_colab_link": true
    },
    "kernelspec": {
      "name": "python3",
      "display_name": "Python 3"
    }
  },
  "cells": [
    {
      "cell_type": "markdown",
      "metadata": {
        "id": "view-in-github",
        "colab_type": "text"
      },
      "source": [
        "<a href=\"https://colab.research.google.com/github/kameda-yoshinari/IMISToolExeA2021/blob/main/600/600_PyTorchADL.ipynb\" target=\"_parent\"><img src=\"https://colab.research.google.com/assets/colab-badge.svg\" alt=\"Open In Colab\"/></a>"
      ]
    },
    {
      "cell_type": "markdown",
      "metadata": {
        "id": "CvYFa2bSBgrB"
      },
      "source": [
        "# 6. Advanced Deep Learning by PyTorch\n",
        "\n",
        "This section refers a japanese text book of 「つくりながら学ぶ！PyTorchによる発展ディープラーニング」 (Advanced Deep Learning by PyTorch).\n",
        "\n",
        "* [つくりながら学ぶ！PyTorchによる発展ディープラーニング](https://www.amazon.co.jp/%E3%81%A4%E3%81%8F%E3%82%8A%E3%81%AA%E3%81%8C%E3%82%89%E5%AD%A6%E3%81%B6-PyTorch%E3%81%AB%E3%82%88%E3%82%8B%E7%99%BA%E5%B1%95%E3%83%87%E3%82%A3%E3%83%BC%E3%83%97%E3%83%A9%E3%83%BC%E3%83%8B%E3%83%B3%E3%82%B0-%E5%B0%8F%E5%B7%9D%E9%9B%84%E5%A4%AA%E9%83%8E/dp/4839970254) (Japanese textbook at amazon)"
      ]
    },
    {
      "cell_type": "markdown",
      "metadata": {
        "id": "5X-PBWBVKB3f"
      },
      "source": [
        "---\n",
        "# Before you comes to Google Colab\n",
        "\n",
        "## 1. Visit Programs on the book \n",
        "\n",
        "Official site:  \n",
        "https://book.mynavi.jp/supportsite/detail/9784839970253.html\n",
        "\n",
        "Codes in the book:  \n",
        "https://github.com/YutaroOgawa/pytorch_advanced\n",
        "\n"
      ]
    },
    {
      "cell_type": "markdown",
      "metadata": {
        "id": "7PP4YVTTLkiG"
      },
      "source": [
        "---\n",
        "\n",
        "# Google Colab"
      ]
    },
    {
      "cell_type": "code",
      "metadata": {
        "id": "TG8Cu0UxXcQ0"
      },
      "source": [
        "!echo \"Start mounting your Google Drive.\"\n",
        "from google.colab import drive \n",
        "drive.mount('/content/drive')\n",
        "%cd /content/drive/My\\ Drive/\n",
        "!echo \"Make a working folder and move to there.\"\n",
        "%mkdir -p 202107_Tool-A/Work600/\n",
        "%cd       202107_Tool-A/Work600/\n",
        "!ls -l"
      ],
      "execution_count": null,
      "outputs": []
    },
    {
      "cell_type": "markdown",
      "metadata": {
        "id": "-WTkCZxAXzro"
      },
      "source": [
        "Timezone JST."
      ]
    },
    {
      "cell_type": "code",
      "metadata": {
        "id": "dSHwW7ulXvd9"
      },
      "source": [
        "!echo \"Change to the JST notation.\"\n",
        "!rm /etc/localtime\n",
        "!ln -s /usr/share/zoneinfo/Japan /etc/localtime"
      ],
      "execution_count": null,
      "outputs": []
    },
    {
      "cell_type": "markdown",
      "metadata": {
        "id": "_Ievo4n3xg-2"
      },
      "source": [
        "Download codes and other files from the github.  \n",
        "(Remove the pytorch_advanced folder if it exists)."
      ]
    },
    {
      "cell_type": "code",
      "metadata": {
        "id": "OSDuB7hX5BDt"
      },
      "source": [
        "!rm -rf pytorch_advanced\n",
        "!git clone https://github.com/YutaroOgawa/pytorch_advanced.git"
      ],
      "execution_count": null,
      "outputs": []
    },
    {
      "cell_type": "code",
      "metadata": {
        "id": "YhcD0C4Sxipu"
      },
      "source": [
        "!ls -l"
      ],
      "execution_count": null,
      "outputs": []
    },
    {
      "cell_type": "markdown",
      "metadata": {
        "id": "pFizVjJC2ru5"
      },
      "source": [
        "---\n",
        "# Tips\n",
        "\n",
        "Instead of running git command, you can do the same in the previous section by following steps.\n",
        "\n",
        "1. Visit https://github.com/YutaroOgawa/pytorch_advanced\n",
        "2. \"Code\" → Download ZIP\n",
        "3. You will obtain pytorch_advanced-master.zip in your local folder.\n",
        "4. Unzip pytorch_advanced-master.zip .\n",
        "5. You will have \"pytorch_advanced-master/\" folder.\n",
        "6. Open your google drive page on your browser with your google account.\n",
        "7. Make \"My Drive / 202107_Tool-A / Work600\" folder.\n",
        "8. Drop the \"pytorch_advanced-master/\" folder to the \"Work600\" follder on the google drive.\n",
        "\n",
        "To verify the procedure, make sure you can find \"README.md\" at \"My Drive / 202107_Tool-A / Work600 / pytorch_advanced-master /\".\n",
        "\n",
        "You may rename \"pytorch_advanced-master\" to \"pytorch_advanced\" to make sure the following sections can be applied in the same way."
      ]
    },
    {
      "cell_type": "markdown",
      "metadata": {
        "id": "9ijPyK5WSgVA"
      },
      "source": [
        "---\n",
        "Revised by KAMEDA, Yoshinari at University of Tsukuba for lecture purpose.  \n",
        "Original: https://github.com/YutaroOgawa/pytorch_advanced\n",
        "\n",
        "2021/08/02. \n"
      ]
    }
  ]
}