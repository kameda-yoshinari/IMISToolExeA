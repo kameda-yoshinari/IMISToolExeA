{
  "nbformat": 4,
  "nbformat_minor": 0,
  "metadata": {
    "colab": {
      "name": "100-ColabTutorial",
      "provenance": [],
      "collapsed_sections": [],
      "authorship_tag": "ABX9TyNJr3QigjSdlasabHILssFi",
      "include_colab_link": true
    },
    "kernelspec": {
      "name": "python3",
      "display_name": "Python 3"
    },
    "accelerator": "GPU"
  },
  "cells": [
    {
      "cell_type": "markdown",
      "metadata": {
        "id": "view-in-github",
        "colab_type": "text"
      },
      "source": [
        "<a href=\"https://colab.research.google.com/github/kameda-yoshinari/IMISToolExeA2022/blob/main/100_ColabTutorial.ipynb\" target=\"_parent\"><img src=\"https://colab.research.google.com/assets/colab-badge.svg\" alt=\"Open In Colab\"/></a>"
      ]
    },
    {
      "cell_type": "markdown",
      "metadata": {
        "id": "CvYFa2bSBgrB"
      },
      "source": [
        "# 1. Google Colaboratory Tutorial\n",
        "\n",
        "Before we step further google colaboratory, we should know how the colab works.\n",
        "\n",
        "\n"
      ]
    },
    {
      "cell_type": "markdown",
      "metadata": {
        "id": "5X-PBWBVKB3f"
      },
      "source": [
        "# Overview of Colaboratory Features  \n",
        "\n",
        "https://colab.research.google.com/notebooks/basic_features_overview.ipynb"
      ]
    },
    {
      "cell_type": "markdown",
      "metadata": {
        "id": "p6vDKbo-KaIT"
      },
      "source": [
        "# Some important issues you should know\n",
        "\n",
        "\n",
        "##* Charge\n",
        "\n",
        "Free. \n",
        "\n",
        "##* Hardware resource management\n",
        "\n",
        "WHen you are using one instance, 90 min max for idle time , 12 hours for running (they will shutdown the instance then). Apparently not for heavy use, rather educational / trial. Google prepares [google cloud](https://cloud.google.com/ or [AWS](https://aws.amazon.com/jp/) if you seriously think of massive runs.\n",
        "\n",
        "As of Oct. 2019, it seems users can run multiple instances in parallel ! [(source](https://stackoverflow.com/questions/58411527/can-multiple-colab-notebooks-share-the-same-runtime))\n",
        "\n",
        "But probably you will have lower priority for a certain period once you overuse the system. Think [Colab Pro](https://colab.research.google.com/signup) if you need a bit more computation (but not like google cloud / AWS).\n",
        "\n",
        "##* CPU only / with GPU / with TPU\n",
        "\n",
        "You can pick up three types of instances on connecting an instance from a colab notebook. Default is CPU only. Change the runtime type if you need GPU or TPU. (TPU has been available since 2018/09.)  \n",
        "As for this course, basic CPU-only version is sufficient.\n",
        "\n",
        "##* System info\n",
        "\n",
        "Here are some tips to get system info.  \n",
        "You are the root (= You can change system files too).  \n",
        "That's why you can install any libraries on a colab notebook.\n",
        "\n"
      ]
    },
    {
      "cell_type": "code",
      "metadata": {
        "id": "Rmph62FBHzhi"
      },
      "source": [
        "!echo \"Distribution is ---\"\n",
        "!cat /etc/issue\n",
        "!echo \"CPUs are ---\"\n",
        "!cat /proc/cpuinfo | grep \"model name\"\n",
        "!echo \"Memory size is ---\"\n",
        "!free -h\n",
        "!echo \"Disk is ---\"\n",
        "!df -h /\n",
        "!echo \"GPU (if assigned) is ---\"\n",
        "!nvidia-smi\n",
        "!echo \"You are logging in as ---\"\n",
        "!whoami\n",
        "!echo \"How much time this instance is running ---\"\n",
        "!uptime"
      ],
      "execution_count": null,
      "outputs": []
    },
    {
      "cell_type": "markdown",
      "metadata": {
        "id": "Aop_8Bn1IJO8"
      },
      "source": [
        "# Code snipets\n",
        "\n",
        "Especially when you think of how to write a code which is related to the google colaboratory system, ask them to \"code snipet\" first (then you may wonder asking questions on the internet, but don't do that at first!)\n",
        "\n",
        "1. Menu / Help / Query code snipet\n",
        "2. You will see a strip next to the colab notebook pain\n",
        "3. Make a query\n",
        "4. Some answers are shown at the bottom.\n",
        "5. I RECOMMEND YOU to \"show source notebook\" before you take it!!\n",
        "6. Check samples too (if available)\n",
        "7. Then \"insert\" (or click right arrow)\" to import that code to your notebook.\n",
        "8. Edit if needed.\n",
        "9. Run the code cell and enjoy!\n",
        "\n",
        "Here are very popular snipets you may be interested in.\n",
        "Make a query and give it a try!\n",
        "\n",
        "* Adding form fields\n",
        "* Camera capture\n",
        "* Cross-output communication\n",
        "* display Javascript to execute JavaScript from Python\n",
        "* Downloading files or importing data from Google Drive\n"
      ]
    },
    {
      "cell_type": "markdown",
      "metadata": {
        "id": "-3YIrudJbGUJ"
      },
      "source": [
        "# AI cooked\n",
        "\n",
        "One of the good points of the Google colaboratory is that the maintainers are always pre-install the latest versions of the major AI/ML tools. (If not, you can install by your hands since you are the root.)"
      ]
    },
    {
      "cell_type": "markdown",
      "metadata": {
        "id": "GP4GWBYyucqP"
      },
      "source": [
        "For example, libraries on python language are:"
      ]
    },
    {
      "cell_type": "code",
      "source": [
        "!echo \"How many libraries available? ---\"\n",
        "!pip list | wc -l"
      ],
      "metadata": {
        "id": "0Tq8e3lbzG67"
      },
      "execution_count": null,
      "outputs": []
    },
    {
      "cell_type": "code",
      "metadata": {
        "id": "VxMoZGOhbZ0x"
      },
      "source": [
        "!echo \"List all all the libraries ---\"\n",
        "!pip list"
      ],
      "execution_count": null,
      "outputs": []
    },
    {
      "cell_type": "markdown",
      "metadata": {
        "id": "zjiI-HEEukf_"
      },
      "source": [
        "And other softwares/libraries on the google colab linux are:"
      ]
    },
    {
      "cell_type": "code",
      "source": [
        "!apt list | wc -l"
      ],
      "metadata": {
        "id": "GYKHIcJ4zl3-"
      },
      "execution_count": null,
      "outputs": []
    },
    {
      "cell_type": "code",
      "metadata": {
        "id": "NNGl_aY3bc7-"
      },
      "source": [
        "!apt list"
      ],
      "execution_count": null,
      "outputs": []
    },
    {
      "cell_type": "markdown",
      "metadata": {
        "id": "XOfGIwmnuxCt"
      },
      "source": [
        "Note that they are sometimes not the latest ones. It is probably because they prefer to install the well-tested ones.\n",
        "\n",
        "If you want to use the lastest one, you can install it by pip / apt (as you are the root user).\n"
      ]
    },
    {
      "cell_type": "markdown",
      "metadata": {
        "id": "ESwkrK2D06qb"
      },
      "source": [
        "---\n",
        "Tools and Practices for Intelligent Interaction Systems A  \n",
        "Master's and Docotal programs in intelligent and mechanical interaction systems, University of Tsukuba, Japan.  \n",
        "KAMEDA Yoshinari, SHIBUYA Takeshi  \n",
        "\n",
        "知能システムツール演習a  \n",
        "知能機能システム学位プログラム (筑波大学大学院)  \n",
        "担当：亀田能成，澁谷長史  \n",
        "\n",
        "2021/08/01.  \n",
        "2021/07/26.  \n",
        "2020/06/29.\n"
      ]
    }
  ]
}