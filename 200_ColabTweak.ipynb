{
  "nbformat": 4,
  "nbformat_minor": 0,
  "metadata": {
    "colab": {
      "name": "200-ColabTweak",
      "provenance": [],
      "collapsed_sections": [],
      "authorship_tag": "ABX9TyODV7USXvZ22U8p15XFiiC5",
      "include_colab_link": true
    },
    "kernelspec": {
      "name": "python3",
      "display_name": "Python 3"
    }
  },
  "cells": [
    {
      "cell_type": "markdown",
      "metadata": {
        "id": "view-in-github",
        "colab_type": "text"
      },
      "source": [
        "<a href=\"https://colab.research.google.com/github/kameda-yoshinari/IMISToolExeA2021/blob/main/200_ColabTweak.ipynb\" target=\"_parent\"><img src=\"https://colab.research.google.com/assets/colab-badge.svg\" alt=\"Open In Colab\"/></a>"
      ]
    },
    {
      "cell_type": "markdown",
      "metadata": {
        "id": "CvYFa2bSBgrB"
      },
      "source": [
        "# 2. Google Colaboratory Tweaks\n",
        "\n",
        "Some issues that students of this course should know.\n"
      ]
    },
    {
      "cell_type": "markdown",
      "metadata": {
        "id": "5X-PBWBVKB3f"
      },
      "source": [
        "# Domain of the students \n",
        "\n",
        "The students in U-Tsukuba should have G SUITE for Education account.\n",
        "Since it is under G SUITE for Education, you have unlimited Drive size.\n",
        "\n",
        "> Example: tsukuba.taro.jx@alumni.tsukuba.ac.jp\n",
        "\n",
        "How to apply: \n",
        "https://alumni.tsukuba.ac.jp/site/user.html (Japanese only)\n",
        "\n",
        "\n"
      ]
    },
    {
      "cell_type": "markdown",
      "metadata": {
        "id": "cseCanA05WMq"
      },
      "source": [
        "# Mounting Google Drive\n",
        "\n",
        "1. Connect the instance at a colab notebook.\n",
        "2. Mount your \"My drive\" in google drive service by the following procedure.\n",
        "3. Make a working folder and move to the folder.\n",
        "\n",
        "Even after you shutdown the instance, you can see the files you made."
      ]
    },
    {
      "cell_type": "code",
      "metadata": {
        "id": "BDCKum3_6eaO",
        "colab": {
          "base_uri": "https://localhost:8080/"
        },
        "outputId": "a32840ff-7b2d-4063-c004-575d31a8ad38"
      },
      "source": [
        "!echo \"Start mounting your Google Drive.\"\n",
        "from google.colab import drive \n",
        "drive.mount('/content/drive')"
      ],
      "execution_count": null,
      "outputs": [
        {
          "output_type": "stream",
          "text": [
            "Start mounting your Google Drive.\n"
          ],
          "name": "stdout"
        },
        {
          "output_type": "stream",
          "text": [
            "Mounted at /content/drive\n"
          ],
          "name": "stdout"
        }
      ]
    },
    {
      "cell_type": "code",
      "metadata": {
        "id": "OzKDDehf7RxV",
        "colab": {
          "base_uri": "https://localhost:8080/"
        },
        "outputId": "3a69ff2d-b04a-4721-ec3a-a79483943087"
      },
      "source": [
        "!echo \"Make a working folder and move to there.\"\n",
        "%cd /content/drive/My\\ Drive/\n",
        "%mkdir -p 202107_Tool-A/Work200\n",
        "%cd       202107_Tool-A/Work200\n",
        "!ls"
      ],
      "execution_count": null,
      "outputs": [
        {
          "output_type": "stream",
          "text": [
            "Make a working folder and move to there.\n",
            "/content/drive/My Drive\n",
            "/content/drive/My Drive/202107_Tool-A/Work200\n"
          ],
          "name": "stdout"
        }
      ]
    },
    {
      "cell_type": "markdown",
      "metadata": {
        "id": "3AIitsgj7Zu9"
      },
      "source": [
        "# Local time (Japan Standard Time)\n",
        "\n",
        "Instances follows UTC notation by default.  \n",
        "Sometimes we prefer to see the time in JST (JST-9).\n",
        "As you are the root, you can directly change the OS setup.\n"
      ]
    },
    {
      "cell_type": "code",
      "metadata": {
        "id": "vtPqS4d77421",
        "colab": {
          "base_uri": "https://localhost:8080/"
        },
        "outputId": "a3f4a91c-0ce6-464d-cb67-e4ad9819ba7b"
      },
      "source": [
        "!echo \"Change to the JST notation.\"\n",
        "!rm /etc/localtime\n",
        "!ln -s /usr/share/zoneinfo/Japan /etc/localtime\n",
        "!date"
      ],
      "execution_count": null,
      "outputs": [
        {
          "output_type": "stream",
          "text": [
            "Change to the JST notation.\n",
            "Sun Jul 25 12:59:43 JST 2021\n"
          ],
          "name": "stdout"
        }
      ]
    },
    {
      "cell_type": "markdown",
      "metadata": {
        "id": "p6vDKbo-KaIT"
      },
      "source": [
        "# Report submission\n",
        "\n",
        "The report template will be given in ipynb file.\n",
        "You should save it to your local google colaboratory folder and then edit it to fit your report.\n",
        "\n",
        "The report submission should be made at this cource (0ALE005) at https://manaba.tsukuba.ac.jp .\n",
        "Note that 0ALE005 is coupled with 0ALE002 and 0AL5706 on manaba system.\n",
        "\n",
        "\n",
        "**File (main)**\n",
        "\n",
        "Download the ipynb to your local machine and then submit the file to the manaba.\n",
        "\n",
        "**URL (backup)**\n",
        "\n",
        "Make a shared link which is open only to the alumni.tsukuba.ac.jp domain.\n",
        "\n"
      ]
    },
    {
      "cell_type": "markdown",
      "metadata": {
        "id": "ESwkrK2D06qb"
      },
      "source": [
        "---\n",
        "Tools for intelligent interaction systems a  \n",
        "Master's and Docotal programs in intelligent and mechanical interaction systems, University of Tsukuba, Japan.  \n",
        "KAMEDA Yoshinari, SHIBUYA Takeshi  \n",
        "\n",
        "知能システムツール演習a  \n",
        "知能機能システム学位プログラム (筑波大学大学院)  \n",
        "担当：亀田能成，澁谷長史  \n",
        "\n",
        "2021/07/26.  \n",
        "2020/06/29.\n",
        "\n"
      ]
    }
  ]
}