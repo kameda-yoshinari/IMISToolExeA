{
  "nbformat": 4,
  "nbformat_minor": 0,
  "metadata": {
    "colab": {
      "provenance": [],
      "include_colab_link": true
    },
    "kernelspec": {
      "name": "python3",
      "display_name": "Python 3"
    }
  },
  "cells": [
    {
      "cell_type": "markdown",
      "metadata": {
        "id": "view-in-github",
        "colab_type": "text"
      },
      "source": [
        "<a href=\"https://colab.research.google.com/github/kameda-yoshinari/IMISToolExeA/blob/main/200_ColabTweak.ipynb\" target=\"_parent\"><img src=\"https://colab.research.google.com/assets/colab-badge.svg\" alt=\"Open In Colab\"/></a>"
      ]
    },
    {
      "cell_type": "markdown",
      "metadata": {
        "id": "CvYFa2bSBgrB"
      },
      "source": [
        "# 2. Google Colaboratory Tweaks\n",
        "\n",
        "Some issues that students of this course should know.\n"
      ]
    },
    {
      "cell_type": "markdown",
      "metadata": {
        "id": "5X-PBWBVKB3f"
      },
      "source": [
        "# Domain of the students\n",
        "\n",
        "The students should prepare an ordinary google account (e.g. kameday@gmail.com).\n",
        "\n",
        "> U-Tsukuba once offered G SUITE for Education account to the students (example: tsukuba.taro.jx@alumni.tsukuba.ac.jp) with unlimited storage size (before 2022/07).\n",
        "From [2022/08], the size is limited to 20GB ... and alway out of strage as a whole ... what a pity...)  \n",
        "\n",
        "\n",
        "\n"
      ]
    },
    {
      "cell_type": "markdown",
      "metadata": {
        "id": "cseCanA05WMq"
      },
      "source": [
        "# Google Drive\n",
        "\n",
        "## Mounting google drive on a google colaboratory runtime instance\n",
        "1. Connect the instance at a colab notebook.\n",
        "2. Mount your \"My drive\" in google drive service by the following procedure.\n",
        "3. Make a working folder and move to the folder.\n",
        "\n",
        "Even after you shutdown the instance, you can see the files you made."
      ]
    },
    {
      "cell_type": "code",
      "metadata": {
        "id": "BDCKum3_6eaO"
      },
      "source": [
        "!echo \"Start mounting your Google Drive.\"\n",
        "from google.colab import drive\n",
        "drive.mount('/content/drive')"
      ],
      "execution_count": null,
      "outputs": []
    },
    {
      "cell_type": "code",
      "metadata": {
        "id": "OzKDDehf7RxV"
      },
      "source": [
        "!echo \"Make a working folder and move to there.\"\n",
        "%cd /content/drive/My\\ Drive/\n",
        "%mkdir -p IMIS_Tool-A/Work200\n",
        "%cd       IMIS_Tool-A/Work200\n",
        "!ls"
      ],
      "execution_count": null,
      "outputs": []
    },
    {
      "cell_type": "markdown",
      "source": [
        "## Analysis  \n",
        "\n",
        "You have to be aware about the storage usage.  \n",
        "du command can help you.  \n",
        "The below is shown with the size of M-bytes.  \n"
      ],
      "metadata": {
        "id": "rdDV-dMlvIuk"
      }
    },
    {
      "cell_type": "code",
      "source": [
        "# in Total\n",
        "!du -s -m '/content/drive/My Drive/'"
      ],
      "metadata": {
        "id": "wS45AgH-vgYf"
      },
      "execution_count": null,
      "outputs": []
    },
    {
      "cell_type": "code",
      "source": [
        "# by  Folders\n",
        "%cd '/content/drive/My Drive/'\n",
        "!du -s -m *"
      ],
      "metadata": {
        "id": "WN1sOR_Lw1jX"
      },
      "execution_count": null,
      "outputs": []
    },
    {
      "cell_type": "code",
      "source": [
        "# Inside IMIS_Tool-A\n",
        "%cd '/content/drive/My Drive/IMIS_Tool-A'\n",
        "!du -s -m *"
      ],
      "metadata": {
        "id": "cLvYHWOjxRh8"
      },
      "execution_count": null,
      "outputs": []
    },
    {
      "cell_type": "code",
      "source": [
        "# Another example\n",
        "# Inside Work600 of IMIS_Tool-A (This works well only after you come back here after learning 600)\n",
        "%cd '/content/drive/My Drive/IMIS_Tool-A/'\n",
        "!du -s -m */*/*"
      ],
      "metadata": {
        "id": "DDRNp1muxdfk"
      },
      "execution_count": null,
      "outputs": []
    },
    {
      "cell_type": "markdown",
      "metadata": {
        "id": "3AIitsgj7Zu9"
      },
      "source": [
        "# Local time (Japan Standard Time)\n",
        "\n",
        "Instances follows UTC notation by default.  \n",
        "Sometimes we prefer to see the time in JST (JST-9).\n",
        "As you are the root, you can directly change the OS setup.\n"
      ]
    },
    {
      "cell_type": "code",
      "metadata": {
        "id": "vtPqS4d77421"
      },
      "source": [
        "!echo \"Default is the UTC  notation.\"\n",
        "!date\n",
        "!echo \"Change to the JST notation.\"\n",
        "!rm /etc/localtime\n",
        "!ln -s /usr/share/zoneinfo/Japan /etc/localtime\n",
        "!date"
      ],
      "execution_count": null,
      "outputs": []
    },
    {
      "cell_type": "markdown",
      "metadata": {
        "id": "p6vDKbo-KaIT"
      },
      "source": [
        "---\n",
        "# Report submission\n",
        "\n",
        "The report template will be given in ipynb file.  \n",
        "\n",
        "You should save this file as a report templete to your local google colaboratory folder and then edit it to fit your report.\n",
        "\n",
        "The report submission should be made at this cource (0ALE005) at https://manaba.tsukuba.ac.jp .  \n",
        "Note that 0ALE005 is coupled with 0AL5707 on manaba system.  \n",
        "File extension should be **ipynb**. Other format won't be accepted.  \n",
        "\n"
      ]
    },
    {
      "cell_type": "markdown",
      "metadata": {
        "id": "ESwkrK2D06qb"
      },
      "source": [
        "---\n",
        "Back to [index](https://github.com/kameda-yoshinari/IMISToolExeA/)  \n",
        "\n",
        "---\n",
        "Tools and Practices for Intelligent Interaction Systems A  \n",
        "Master's and Docotal programs in intelligent and mechanical interaction systems, University of Tsukuba, Japan.  \n",
        "KAMEDA Yoshinari, SHIBUYA Takeshi  \n",
        "\n",
        "知能システムツール演習a  \n",
        "知能機能システム学位プログラム (筑波大学大学院)  \n",
        "担当：亀田能成，澁谷長史  \n",
        "\n",
        "2024/08/05.  \n",
        "2023/07/31.  \n",
        "2023/07/06.  \n",
        "2022/08/09.  (du command)  \n",
        "2022/08/01.  \n",
        "2021/07/26.  \n",
        "2020/06/29.\n",
        "\n"
      ]
    }
  ]
}