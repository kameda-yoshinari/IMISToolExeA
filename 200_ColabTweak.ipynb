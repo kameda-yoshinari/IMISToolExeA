{
  "nbformat": 4,
  "nbformat_minor": 0,
  "metadata": {
    "colab": {
      "name": "200-ColabTweak",
      "provenance": [],
      "collapsed_sections": [],
      "authorship_tag": "ABX9TyPKAGDSbaTgtbowwtAES1v5",
      "include_colab_link": true
    },
    "kernelspec": {
      "name": "python3",
      "display_name": "Python 3"
    }
  },
  "cells": [
    {
      "cell_type": "markdown",
      "metadata": {
        "id": "view-in-github",
        "colab_type": "text"
      },
      "source": [
        "<a href=\"https://colab.research.google.com/github/kameda-yoshinari/IMISToolExeA2022/blob/main/200_ColabTweak.ipynb\" target=\"_parent\"><img src=\"https://colab.research.google.com/assets/colab-badge.svg\" alt=\"Open In Colab\"/></a>"
      ]
    },
    {
      "cell_type": "markdown",
      "metadata": {
        "id": "CvYFa2bSBgrB"
      },
      "source": [
        "# 2. Google Colaboratory Tweaks\n",
        "\n",
        "Some issues that students of this course should know.\n"
      ]
    },
    {
      "cell_type": "markdown",
      "metadata": {
        "id": "5X-PBWBVKB3f"
      },
      "source": [
        "# Domain of the students \n",
        "\n",
        "The students in U-Tsukuba should have G SUITE for Education account.  \n",
        "(Since it is under G SUITE for Education, you have unlimited Drive size until 2022/07.\n",
        "From [2022/08](https://futureship.sec.tsukuba.ac.jp/news/211228-1.html), the size is limited to 20GB ... what a pity...)  \n",
        "\n",
        "\n",
        "> Example: tsukuba.taro.jx@alumni.tsukuba.ac.jp\n",
        "\n",
        "How to apply: \n",
        "https://futureship.sec.tsukuba.ac.jp/alumni/mail/ (Japanese only)\n",
        "\n",
        "\n"
      ]
    },
    {
      "cell_type": "markdown",
      "metadata": {
        "id": "cseCanA05WMq"
      },
      "source": [
        "# Google Drive\n",
        "\n",
        "## Mounting google drive on a google colaboratory runtime instance\n",
        "1. Connect the instance at a colab notebook.\n",
        "2. Mount your \"My drive\" in google drive service by the following procedure.\n",
        "3. Make a working folder and move to the folder.\n",
        "\n",
        "Even after you shutdown the instance, you can see the files you made."
      ]
    },
    {
      "cell_type": "code",
      "metadata": {
        "id": "BDCKum3_6eaO",
        "colab": {
          "base_uri": "https://localhost:8080/"
        },
        "outputId": "be8fb5fb-d3ff-4170-a109-7383eef27a64"
      },
      "source": [
        "!echo \"Start mounting your Google Drive.\"\n",
        "from google.colab import drive \n",
        "drive.mount('/content/drive')"
      ],
      "execution_count": 1,
      "outputs": [
        {
          "output_type": "stream",
          "name": "stdout",
          "text": [
            "Start mounting your Google Drive.\n",
            "Mounted at /content/drive\n"
          ]
        }
      ]
    },
    {
      "cell_type": "code",
      "metadata": {
        "id": "OzKDDehf7RxV",
        "colab": {
          "base_uri": "https://localhost:8080/"
        },
        "outputId": "6fbdbc0f-3d0c-46a9-9900-9045dc814199"
      },
      "source": [
        "!echo \"Make a working folder and move to there.\"\n",
        "%cd /content/drive/My\\ Drive/\n",
        "%mkdir -p IMIS_Tool-A/Work200\n",
        "%cd       IMIS_Tool-A/Work200\n",
        "!ls"
      ],
      "execution_count": 2,
      "outputs": [
        {
          "output_type": "stream",
          "name": "stdout",
          "text": [
            "Make a working folder and move to there.\n",
            "/content/drive/My Drive\n",
            "/content/drive/My Drive/IMIS_Tool-A/Work200\n"
          ]
        }
      ]
    },
    {
      "cell_type": "markdown",
      "source": [
        "## Analysis  \n",
        "\n",
        "You have to be aware about the storage usage.  \n",
        "du command can help you.  \n",
        "The below is shown with the size of M-bytes.  \n",
        "I do not know the reason, but the usage by the google drive seems to be almost double of the du usage.  "
      ],
      "metadata": {
        "id": "rdDV-dMlvIuk"
      }
    },
    {
      "cell_type": "code",
      "source": [
        "# in Total\n",
        "!du -s -m '/content/drive/My Drive/'"
      ],
      "metadata": {
        "colab": {
          "base_uri": "https://localhost:8080/"
        },
        "id": "wS45AgH-vgYf",
        "outputId": "599c8503-7f70-4cde-fbac-a9d4142050b8"
      },
      "execution_count": 3,
      "outputs": [
        {
          "output_type": "stream",
          "name": "stdout",
          "text": [
            "25286\t/content/drive/My Drive/\n"
          ]
        }
      ]
    },
    {
      "cell_type": "code",
      "source": [
        "# by  Folders\n",
        "%cd '/content/drive/My Drive/'\n",
        "!du -s -m *"
      ],
      "metadata": {
        "colab": {
          "base_uri": "https://localhost:8080/"
        },
        "id": "WN1sOR_Lw1jX",
        "outputId": "3fb8feda-ad4a-4f68-b17b-2953f41da99a"
      },
      "execution_count": 4,
      "outputs": [
        {
          "output_type": "stream",
          "name": "stdout",
          "text": [
            "/content/drive/My Drive\n",
            "79\tColab Notebooks\n",
            "24257\tIMIS_Tool-A\n",
            "915\tUT_DataAlgo\n",
            "36\t筑波大学\n"
          ]
        }
      ]
    },
    {
      "cell_type": "code",
      "source": [
        "# Inside IMIS_Tool-A\n",
        "%cd '/content/drive/My Drive/IMIS_Tool-A'\n",
        "!du -s -m *"
      ],
      "metadata": {
        "colab": {
          "base_uri": "https://localhost:8080/"
        },
        "id": "cLvYHWOjxRh8",
        "outputId": "d1447e43-8293-4e8d-81c1-7176c4210ad6"
      },
      "execution_count": 5,
      "outputs": [
        {
          "output_type": "stream",
          "name": "stdout",
          "text": [
            "/content/drive/My Drive/IMIS_Tool-A\n",
            "1\tWork200\n",
            "69\tWork400\n",
            "24189\tWork600\n"
          ]
        }
      ]
    },
    {
      "cell_type": "code",
      "source": [
        "# Inside Work600 of IMIS_Tool-A \n",
        "%cd '/content/drive/My Drive/IMIS_Tool-A/'\n",
        "!du -s -m */*/*"
      ],
      "metadata": {
        "colab": {
          "base_uri": "https://localhost:8080/"
        },
        "id": "DDRNp1muxdfk",
        "outputId": "62b6d34f-ffe2-4ea7-9f34-9dfb24cadad9"
      },
      "execution_count": 6,
      "outputs": [
        {
          "output_type": "stream",
          "name": "stdout",
          "text": [
            "/content/drive/My Drive/IMIS_Tool-A\n",
            "1\tWork400/deep-learning-from-scratch-master/ch00\n",
            "1\tWork400/deep-learning-from-scratch-master/ch01\n",
            "1\tWork400/deep-learning-from-scratch-master/ch02\n",
            "1\tWork400/deep-learning-from-scratch-master/ch03\n",
            "1\tWork400/deep-learning-from-scratch-master/ch04\n",
            "1\tWork400/deep-learning-from-scratch-master/ch05\n",
            "1\tWork400/deep-learning-from-scratch-master/ch06\n",
            "4\tWork400/deep-learning-from-scratch-master/ch07\n",
            "1\tWork400/deep-learning-from-scratch-master/ch08\n",
            "1\tWork400/deep-learning-from-scratch-master/common\n",
            "64\tWork400/deep-learning-from-scratch-master/dataset\n",
            "1\tWork400/deep-learning-from-scratch-master/LICENSE.md\n",
            "1\tWork400/deep-learning-from-scratch-master/README.md\n",
            "560\tWork600/pytorch_advanced/1_image_classification\n",
            "2188\tWork600/pytorch_advanced/2_objectdetection\n",
            "377\tWork600/pytorch_advanced/3_semantic_segmentation\n",
            "6977\tWork600/pytorch_advanced/4_pose_estimation\n",
            "1\tWork600/pytorch_advanced/5_gan_generation\n",
            "1\tWork600/pytorch_advanced/6_gan_anomaly_detection\n",
            "12841\tWork600/pytorch_advanced/7_nlp_sentiment_transformer\n",
            "1228\tWork600/pytorch_advanced/8_nlp_sentiment_bert\n",
            "2\tWork600/pytorch_advanced/9_video_classification_eco\n",
            "1\tWork600/pytorch_advanced/etc\n",
            "1\tWork600/pytorch_advanced/LICENSE\n",
            "1\tWork600/pytorch_advanced/README.md\n"
          ]
        }
      ]
    },
    {
      "cell_type": "markdown",
      "metadata": {
        "id": "3AIitsgj7Zu9"
      },
      "source": [
        "# Local time (Japan Standard Time)\n",
        "\n",
        "Instances follows UTC notation by default.  \n",
        "Sometimes we prefer to see the time in JST (JST-9).\n",
        "As you are the root, you can directly change the OS setup.\n"
      ]
    },
    {
      "cell_type": "code",
      "metadata": {
        "id": "vtPqS4d77421",
        "colab": {
          "base_uri": "https://localhost:8080/"
        },
        "outputId": "830ce066-6011-4c14-e95c-e41ad77869ef"
      },
      "source": [
        "!echo \"Default is the UTC  notation.\"\n",
        "!date\n",
        "!echo \"Change to the JST notation.\"\n",
        "!rm /etc/localtime\n",
        "!ln -s /usr/share/zoneinfo/Japan /etc/localtime\n",
        "!date"
      ],
      "execution_count": 7,
      "outputs": [
        {
          "output_type": "stream",
          "name": "stdout",
          "text": [
            "Default is the UTC  notation.\n",
            "Mon Aug  8 23:29:54 UTC 2022\n",
            "Change to the JST notation.\n",
            "Tue Aug  9 08:29:55 JST 2022\n"
          ]
        }
      ]
    },
    {
      "cell_type": "markdown",
      "metadata": {
        "id": "p6vDKbo-KaIT"
      },
      "source": [
        "# Report submission\n",
        "\n",
        "The report template will be given in ipynb file style.\n",
        "You should save it to your local google colaboratory folder and then edit it to fit your report.\n",
        "\n",
        "The report submission should be made at this cource (0ALE005) at https://manaba.tsukuba.ac.jp .\n",
        "Note that 0ALE005 is coupled with 0ALE002 and 0AL5706 on manaba system.\n",
        "\n",
        "\n",
        "**File (main)**\n",
        "\n",
        "Download the ipynb to your local machine and then submit the file to the manaba.\n",
        "\n",
        "**URL (backup)**\n",
        "\n",
        "Make a shared link which is open only to the alumni.tsukuba.ac.jp domain.\n",
        "\n"
      ]
    },
    {
      "cell_type": "markdown",
      "metadata": {
        "id": "ESwkrK2D06qb"
      },
      "source": [
        "---\n",
        "Tools and Practices for Intelligent Interaction Systems A  \n",
        "Master's and Docotal programs in intelligent and mechanical interaction systems, University of Tsukuba, Japan.  \n",
        "KAMEDA Yoshinari, SHIBUYA Takeshi  \n",
        "\n",
        "知能システムツール演習a  \n",
        "知能機能システム学位プログラム (筑波大学大学院)  \n",
        "担当：亀田能成，澁谷長史  \n",
        "\n",
        "2022/08/09.  (du command)  \n",
        "2022/08/01.  \n",
        "2021/07/26.  \n",
        "2020/06/29.\n",
        "\n"
      ]
    }
  ]
}