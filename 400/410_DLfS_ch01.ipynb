{
  "nbformat": 4,
  "nbformat_minor": 0,
  "metadata": {
    "colab": {
      "name": "410-DLfS-ch01.ipynb",
      "provenance": [],
      "collapsed_sections": [],
      "authorship_tag": "ABX9TyNTPB1wtfpkv6JL48Qop9hv",
      "include_colab_link": true
    },
    "kernelspec": {
      "name": "python3",
      "display_name": "Python 3"
    },
    "language_info": {
      "name": "python"
    }
  },
  "cells": [
    {
      "cell_type": "markdown",
      "metadata": {
        "id": "view-in-github",
        "colab_type": "text"
      },
      "source": [
        "<a href=\"https://colab.research.google.com/github/kameda-yoshinari/IMISToolExeA2021/blob/main/400/410_DLfS_ch01.ipynb\" target=\"_parent\"><img src=\"https://colab.research.google.com/assets/colab-badge.svg\" alt=\"Open In Colab\"/></a>"
      ]
    },
    {
      "cell_type": "markdown",
      "metadata": {
        "id": "ek6y-gjMTypG"
      },
      "source": [
        "# ゼロから作るDeep Learning ch01"
      ]
    },
    {
      "cell_type": "code",
      "metadata": {
        "id": "cW05gNeaN5aP"
      },
      "source": [
        "!echo \"Change to the JST notation.\"\n",
        "!rm /etc/localtime\n",
        "!ln -s /usr/share/zoneinfo/Japan /etc/localtime"
      ],
      "execution_count": null,
      "outputs": []
    },
    {
      "cell_type": "code",
      "metadata": {
        "id": "ydoyACcVNp-k"
      },
      "source": [
        "!echo \"Start mounting your Google Drive.\"\n",
        "from google.colab import drive \n",
        "drive.mount('/content/drive')\n",
        "!echo \"Make a working folder and move to there.\"\n",
        "%cd /content/drive/My\\ Drive/\n",
        "%cd 202107_Tool-A/Work400/deep-learning-from-scratch-master\n",
        "!ls -l"
      ],
      "execution_count": null,
      "outputs": []
    },
    {
      "cell_type": "code",
      "metadata": {
        "id": "0FBPj95eN8Gb"
      },
      "source": [
        "%cd ch01"
      ],
      "execution_count": null,
      "outputs": []
    },
    {
      "cell_type": "markdown",
      "metadata": {
        "id": "CkzSwhHzQNX7"
      },
      "source": [
        "---\n",
        "# 1.4.1 hungry.py"
      ]
    },
    {
      "cell_type": "code",
      "metadata": {
        "id": "QWhE4ICkQRrY"
      },
      "source": [
        "!python hungry.py"
      ],
      "execution_count": null,
      "outputs": []
    },
    {
      "cell_type": "code",
      "metadata": {
        "id": "DXFU85EXQmT5"
      },
      "source": [
        "print(\"I'm hungry!\")"
      ],
      "execution_count": null,
      "outputs": []
    },
    {
      "cell_type": "markdown",
      "metadata": {
        "id": "cYDiY8ZISvYG"
      },
      "source": [
        ""
      ]
    },
    {
      "cell_type": "markdown",
      "metadata": {
        "id": "GwomhNtpQwup"
      },
      "source": [
        "# 1.4.2 man.py"
      ]
    },
    {
      "cell_type": "code",
      "metadata": {
        "id": "lFWSiM_RQ0y8"
      },
      "source": [
        "!python man.py"
      ],
      "execution_count": null,
      "outputs": []
    },
    {
      "cell_type": "code",
      "metadata": {
        "id": "lv-Vs1LxQ4sl"
      },
      "source": [
        "# coding: utf-8\n",
        "class Man:\n",
        "    \"\"\"サンプルクラス\"\"\"\n",
        "\n",
        "    def __init__(self, name):\n",
        "        self.name = name\n",
        "        print(\"Initilized!\")\n",
        "\n",
        "    def hello(self):\n",
        "        print(\"Hello \" + self.name + \"!\")\n",
        "\n",
        "    def goodbye(self):\n",
        "        print(\"Good-bye \" + self.name + \"!\")\n",
        "\n",
        "m = Man(\"David\")\n",
        "m.hello()\n",
        "m.goodbye()"
      ],
      "execution_count": null,
      "outputs": []
    },
    {
      "cell_type": "markdown",
      "metadata": {
        "id": "1upM6ZIWR408"
      },
      "source": [
        "# 1.6.1 simple_graph.py (sin_graph.py)\n",
        "\n",
        "On google colaboratory, you cannot see the graph by script-run. You should write the code in the code cell."
      ]
    },
    {
      "cell_type": "code",
      "metadata": {
        "id": "AjbwzhSHR9jv"
      },
      "source": [
        "!python simple_graph.py"
      ],
      "execution_count": null,
      "outputs": []
    },
    {
      "cell_type": "code",
      "metadata": {
        "id": "pkGxxcstSGCv"
      },
      "source": [
        "# coding: utf-8\n",
        "import numpy as np\n",
        "import matplotlib.pyplot as plt\n",
        "\n",
        "# データの作成\n",
        "x = np.arange(0, 6, 0.1) # 0から6まで0.1刻みで生成\n",
        "y = np.sin(x)\n",
        "\n",
        "# グラフの描画\n",
        "plt.plot(x, y)\n",
        "plt.show()"
      ],
      "execution_count": null,
      "outputs": []
    },
    {
      "cell_type": "markdown",
      "metadata": {
        "id": "GFtsta__TCuc"
      },
      "source": [
        "# 1.6.2 sin_cos_graph.py"
      ]
    },
    {
      "cell_type": "code",
      "metadata": {
        "id": "eNtGtxTKTG6S"
      },
      "source": [
        "# coding: utf-8\n",
        "import numpy as np\n",
        "import matplotlib.pyplot as plt\n",
        "\n",
        "# データの作成\n",
        "x = np.arange(0, 6, 0.1) # 0から6まで0.1刻みで生成\n",
        "y1 = np.sin(x)\n",
        "y2 = np.cos(x)\n",
        "\n",
        "# グラフの描画\n",
        "plt.plot(x, y1, label=\"sin\")\n",
        "plt.plot(x, y2, linestyle = \"--\", label=\"cos\")\n",
        "plt.xlabel(\"x\") # x軸のラベル\n",
        "plt.ylabel(\"y\") # y軸のラベル\n",
        "plt.title('sin & cos')\n",
        "plt.legend()\n",
        "plt.show()"
      ],
      "execution_count": null,
      "outputs": []
    },
    {
      "cell_type": "markdown",
      "metadata": {
        "id": "McRiY1IOTkR7"
      },
      "source": [
        "# 1.6.3 img_show.py"
      ]
    },
    {
      "cell_type": "code",
      "metadata": {
        "id": "Ptvu_Mb6ToBl"
      },
      "source": [
        "# coding: utf-8\n",
        "import matplotlib.pyplot as plt\n",
        "from matplotlib.image import imread\n",
        "\n",
        "img = imread('../dataset/lena.png') # 画像の読み込み\n",
        "plt.imshow(img)\n",
        "\n",
        "plt.show()"
      ],
      "execution_count": null,
      "outputs": []
    },
    {
      "cell_type": "markdown",
      "metadata": {
        "id": "vhZolcazUKlm"
      },
      "source": [
        "---\n",
        "Tools for intelligent interaction systems a  \n",
        "Master's and Docotal programs in intelligent and mechanical interaction systems, University of Tsukuba, Japan.  \n",
        "KAMEDA Yoshinari, SHIBUYA Takeshi  \n",
        "\n",
        "知能システムツール演習a  \n",
        "知能機能システム学位プログラム (筑波大学大学院)  \n",
        "担当：亀田能成，澁谷長史  \n",
        "\n",
        "2021/07/26.  \n"
      ]
    }
  ]
}