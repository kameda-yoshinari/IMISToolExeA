{
  "nbformat": 4,
  "nbformat_minor": 0,
  "metadata": {
    "colab": {
      "provenance": [],
      "include_colab_link": true
    },
    "kernelspec": {
      "name": "python3",
      "display_name": "Python 3"
    },
    "language_info": {
      "name": "python"
    }
  },
  "cells": [
    {
      "cell_type": "markdown",
      "metadata": {
        "id": "view-in-github",
        "colab_type": "text"
      },
      "source": [
        "<a href=\"https://colab.research.google.com/github/kameda-yoshinari/IMISToolExeA/blob/main/400/410_DLfS_ch01.ipynb\" target=\"_parent\"><img src=\"https://colab.research.google.com/assets/colab-badge.svg\" alt=\"Open In Colab\"/></a>"
      ]
    },
    {
      "cell_type": "markdown",
      "metadata": {
        "id": "ek6y-gjMTypG"
      },
      "source": [
        "# ゼロから作るDeep Learning ch01"
      ]
    },
    {
      "cell_type": "code",
      "metadata": {
        "id": "cW05gNeaN5aP"
      },
      "source": [
        "!echo \"Change to the JST notation.\"\n",
        "!rm /etc/localtime\n",
        "!ln -s /usr/share/zoneinfo/Japan /etc/localtime"
      ],
      "execution_count": null,
      "outputs": []
    },
    {
      "cell_type": "code",
      "metadata": {
        "id": "ydoyACcVNp-k"
      },
      "source": [
        "!echo \"Start mounting your Google Drive.\"\n",
        "from google.colab import drive\n",
        "drive.mount('/content/drive')\n",
        "!echo \"Make a working folder and move to there.\"\n",
        "%cd /content/drive/My\\ Drive/\n",
        "%cd IMIS_Tool-A/Work400/deep-learning-from-scratch-master\n",
        "!ls -l"
      ],
      "execution_count": null,
      "outputs": []
    },
    {
      "cell_type": "code",
      "metadata": {
        "id": "0FBPj95eN8Gb"
      },
      "source": [
        "%cd ch01"
      ],
      "execution_count": null,
      "outputs": []
    },
    {
      "cell_type": "markdown",
      "metadata": {
        "id": "CkzSwhHzQNX7"
      },
      "source": [
        "---\n",
        "# 1.4.1 hungry.py"
      ]
    },
    {
      "cell_type": "code",
      "metadata": {
        "id": "DXFU85EXQmT5"
      },
      "source": [
        "# direct code writing in codecell\n",
        "print(\"I'm hungry!\")"
      ],
      "execution_count": null,
      "outputs": []
    },
    {
      "cell_type": "code",
      "source": [
        "# or prepare a python code file by some other way (get the code from deep-learning-from-scratch-master.zip this time)\n",
        "!pwd\n",
        "!ls -l"
      ],
      "metadata": {
        "id": "Dh7sNZ8fAjCs"
      },
      "execution_count": null,
      "outputs": []
    },
    {
      "cell_type": "code",
      "source": [
        "# See the content of file (or you can browse the hungry.py at google drive too)\n",
        "!cat hungry.py"
      ],
      "metadata": {
        "id": "ba9teNSiA-Jk"
      },
      "execution_count": null,
      "outputs": []
    },
    {
      "cell_type": "code",
      "metadata": {
        "id": "QWhE4ICkQRrY"
      },
      "source": [
        "# Run the code!\n",
        "!python hungry.py"
      ],
      "execution_count": null,
      "outputs": []
    },
    {
      "cell_type": "markdown",
      "metadata": {
        "id": "GwomhNtpQwup"
      },
      "source": [
        "# 1.4.2 man.py"
      ]
    },
    {
      "cell_type": "code",
      "source": [
        "# Check man.py is there.\n",
        "!ls -l"
      ],
      "metadata": {
        "id": "s15-Yyx_De6O"
      },
      "execution_count": null,
      "outputs": []
    },
    {
      "cell_type": "code",
      "source": [
        "# Browse the code\n",
        "!cat man.py"
      ],
      "metadata": {
        "id": "pqrDaNw8Bt0X"
      },
      "execution_count": null,
      "outputs": []
    },
    {
      "cell_type": "code",
      "metadata": {
        "id": "lFWSiM_RQ0y8"
      },
      "source": [
        "# Run the code file man.py\n",
        "!python man.py"
      ],
      "execution_count": null,
      "outputs": []
    },
    {
      "cell_type": "markdown",
      "source": [
        "Or write the code like below in the code cell to run directly.\n",
        "\n",
        "(In simple cases, you can directly run like this, but you'd better to insert \"%cd /content/drive/My\\ Drive/IMIS_Tool-A/Work400/deep-learning-from-scratch-master/ch01\" at the first line as the code may access another files in the same current folder. See 400 once again.)"
      ],
      "metadata": {
        "id": "1F_j5c1CB2Ty"
      }
    },
    {
      "cell_type": "code",
      "metadata": {
        "id": "lv-Vs1LxQ4sl"
      },
      "source": [
        "# coding: utf-8\n",
        "class Man:\n",
        "    \"\"\"サンプルクラス\"\"\"\n",
        "\n",
        "    def __init__(self, name):\n",
        "        self.name = name\n",
        "        print(\"Initilized!\")\n",
        "\n",
        "    def hello(self):\n",
        "        print(\"Hello \" + self.name + \"!\")\n",
        "\n",
        "    def goodbye(self):\n",
        "        print(\"Good-bye \" + self.name + \"!\")\n",
        "\n",
        "m = Man(\"David\")\n",
        "m.hello()\n",
        "m.goodbye()"
      ],
      "execution_count": null,
      "outputs": []
    },
    {
      "cell_type": "markdown",
      "metadata": {
        "id": "1upM6ZIWR408"
      },
      "source": [
        "# 1.6.1 simple_graph.py (sin_graph.py)\n",
        "\n",
        "Basically, the two styles comes to the same results.  \n",
        "But there are a few exception.  \n",
        "One of the major ones is showing the figure (as colab is operated under CUI, not GUI).  \n",
        "On google colaboratory, you cannot see the graph by script-run. You should write the code in the code cell."
      ]
    },
    {
      "cell_type": "code",
      "source": [
        "!ls -l"
      ],
      "metadata": {
        "id": "Gt3uJ0-FChiY"
      },
      "execution_count": null,
      "outputs": []
    },
    {
      "cell_type": "code",
      "source": [
        "!cat simple_graph.py"
      ],
      "metadata": {
        "id": "V_x1SKOcCkFw"
      },
      "execution_count": null,
      "outputs": []
    },
    {
      "cell_type": "code",
      "metadata": {
        "id": "AjbwzhSHR9jv"
      },
      "source": [
        "# You feel sad as you cannot see the graph in GUI.\n",
        "!python simple_graph.py"
      ],
      "execution_count": null,
      "outputs": []
    },
    {
      "cell_type": "markdown",
      "source": [
        "Run the same code directly (and you can see the graph this time)."
      ],
      "metadata": {
        "id": "JEiaCXxqCn3w"
      }
    },
    {
      "cell_type": "code",
      "metadata": {
        "id": "pkGxxcstSGCv"
      },
      "source": [
        "# coding: utf-8\n",
        "import numpy as np\n",
        "import matplotlib.pyplot as plt\n",
        "\n",
        "# データの作成\n",
        "x = np.arange(0, 6, 0.1) # 0から6まで0.1刻みで生成\n",
        "y = np.sin(x)\n",
        "\n",
        "# グラフの描画\n",
        "plt.plot(x, y)\n",
        "plt.show()"
      ],
      "execution_count": null,
      "outputs": []
    },
    {
      "cell_type": "markdown",
      "metadata": {
        "id": "GFtsta__TCuc"
      },
      "source": [
        "# 1.6.2 sin_cos_graph.py"
      ]
    },
    {
      "cell_type": "code",
      "metadata": {
        "id": "eNtGtxTKTG6S"
      },
      "source": [
        "# coding: utf-8\n",
        "import numpy as np\n",
        "import matplotlib.pyplot as plt\n",
        "\n",
        "# データの作成\n",
        "x = np.arange(0, 6, 0.1) # 0から6まで0.1刻みで生成\n",
        "y1 = np.sin(x)\n",
        "y2 = np.cos(x)\n",
        "\n",
        "# グラフの描画\n",
        "plt.plot(x, y1, label=\"sin\")\n",
        "plt.plot(x, y2, linestyle = \"--\", label=\"cos\")\n",
        "plt.xlabel(\"x\") # x軸のラベル\n",
        "plt.ylabel(\"y\") # y軸のラベル\n",
        "plt.title('sin & cos')\n",
        "plt.legend()\n",
        "plt.show()"
      ],
      "execution_count": null,
      "outputs": []
    },
    {
      "cell_type": "markdown",
      "metadata": {
        "id": "McRiY1IOTkR7"
      },
      "source": [
        "# 1.6.3 img_show.py"
      ]
    },
    {
      "cell_type": "code",
      "metadata": {
        "id": "Ptvu_Mb6ToBl"
      },
      "source": [
        "# coding: utf-8\n",
        "import matplotlib.pyplot as plt\n",
        "from matplotlib.image import imread\n",
        "\n",
        "img = imread('../dataset/lena.png') # 画像の読み込み\n",
        "plt.imshow(img)\n",
        "\n",
        "plt.show()"
      ],
      "execution_count": null,
      "outputs": []
    },
    {
      "cell_type": "markdown",
      "source": [
        "BTW, note that it is now prohibited in the research community.  \n",
        "https://www.ieee.org/content/dam/ieee-org/ieee/web/org/pubs/2023-pspb-highlights.pdf  \n",
        "https://ieeexplore.ieee.org/document/8100841  \n",
        "Wmmm, you are the witness of historical change of our society.\n"
      ],
      "metadata": {
        "id": "J03hvBz2I3lW"
      }
    },
    {
      "cell_type": "markdown",
      "metadata": {
        "id": "vhZolcazUKlm"
      },
      "source": [
        "---\n",
        "Tools and Practices for Intelligent Interaction Systems A  \n",
        "Master's and Docotal programs in intelligent and mechanical interaction systems, University of Tsukuba, Japan.  \n",
        "KAMEDA Yoshinari, SHIBUYA Takeshi  \n",
        "\n",
        "知能システムツール演習a  \n",
        "知能機能システム学位プログラム (筑波大学大学院)  \n",
        "担当：亀田能成，澁谷長史  \n",
        "\n",
        "2025/07/28.  \n",
        "2024/08/05.  \n",
        "2024/07/29.  \n",
        "2022/08/01.  \n",
        "2021/07/26.  \n"
      ]
    }
  ]
}