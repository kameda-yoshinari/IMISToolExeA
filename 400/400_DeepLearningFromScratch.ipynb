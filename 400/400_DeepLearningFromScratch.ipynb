{
  "nbformat": 4,
  "nbformat_minor": 0,
  "metadata": {
    "colab": {
      "name": "400-DeepLearningFromScratch",
      "provenance": [],
      "collapsed_sections": [],
      "authorship_tag": "ABX9TyO2QevkATvs/bionw80lm7G",
      "include_colab_link": true
    },
    "kernelspec": {
      "name": "python3",
      "display_name": "Python 3"
    },
    "accelerator": "TPU"
  },
  "cells": [
    {
      "cell_type": "markdown",
      "metadata": {
        "id": "view-in-github",
        "colab_type": "text"
      },
      "source": [
        "<a href=\"https://colab.research.google.com/github/kameda-yoshinari/IMISToolExeA2022/blob/main/400/400_DeepLearningFromScratch.ipynb\" target=\"_parent\"><img src=\"https://colab.research.google.com/assets/colab-badge.svg\" alt=\"Open In Colab\"/></a>"
      ]
    },
    {
      "cell_type": "markdown",
      "metadata": {
        "id": "CvYFa2bSBgrB"
      },
      "source": [
        "# 4. Deep Learning from Scratch\n",
        "\n",
        "An example of building up deep learning machine from scratch.  \n",
        "This book is introduced for 2019 cource for the first time, so it becomes a bit obsolute, but yet it could be useful especially those who have to learn basics of the theory (and who prefer to see Japanese text).\n",
        "\n",
        "* [ゼロから作るDeep Learning](https://www.amazon.co.jp/%E3%82%BC%E3%83%AD%E3%81%8B%E3%82%89%E4%BD%9C%E3%82%8BDeep-Learning-%E2%80%95Python%E3%81%A7%E5%AD%A6%E3%81%B6%E3%83%87%E3%82%A3%E3%83%BC%E3%83%97%E3%83%A9%E3%83%BC%E3%83%8B%E3%83%B3%E3%82%B0%E3%81%AE%E7%90%86%E8%AB%96%E3%81%A8%E5%AE%9F%E8%A3%85-%E6%96%8E%E8%97%A4-%E5%BA%B7%E6%AF%85/dp/4873117585) (Japanese textbook at amazon)"
      ]
    },
    {
      "cell_type": "markdown",
      "metadata": {
        "id": "5X-PBWBVKB3f"
      },
      "source": [
        "---\n",
        "# Before you comes to Google Colab\n",
        "\n",
        "## 1. Visit Programs on the book \n",
        "\n",
        "Official site:  \n",
        "https://www.oreilly.co.jp/books/9784873117584/\n",
        "\n",
        "Codes in the book:  \n",
        "https://github.com/oreilly-japan/deep-learning-from-scratch\n",
        "\n",
        "## 2. Download codes\n",
        "\n",
        "1. \"Code\" → Download ZIP\n",
        "2. You will obtain deep-learning-from-scratch-master.zip in your local folder.\n",
        "3. Unzip deep-learning-from-scratch-master.zip .\n",
        "4. You will have \"deep-learning-from-scratch-master/\" folder.\n",
        "5. Open your google drive page on your browser with your google account.\n",
        "6. Make \"My Drive / IMIS_Tool-A / Work400\" folder.\n",
        "7. Drop the \"deep-learning-from-scratch-master/\" folder to the \"Work400\" follder on the google drive.\n",
        "\n"
      ]
    },
    {
      "cell_type": "markdown",
      "metadata": {
        "id": "7PP4YVTTLkiG"
      },
      "source": [
        "---\n",
        "\n",
        "# When you are on Google Colab"
      ]
    },
    {
      "cell_type": "markdown",
      "metadata": {
        "id": "-WTkCZxAXzro"
      },
      "source": [
        "## 1. Timezone JST."
      ]
    },
    {
      "cell_type": "code",
      "metadata": {
        "id": "dSHwW7ulXvd9"
      },
      "source": [
        "!echo \"Change to the JST notation.\"\n",
        "!rm /etc/localtime\n",
        "!ln -s /usr/share/zoneinfo/Japan /etc/localtime"
      ],
      "execution_count": null,
      "outputs": []
    },
    {
      "cell_type": "markdown",
      "metadata": {
        "id": "ZS5LzDizmKgE"
      },
      "source": [
        "## 2. Working directory on your google drive."
      ]
    },
    {
      "cell_type": "code",
      "metadata": {
        "id": "TG8Cu0UxXcQ0"
      },
      "source": [
        "!echo \"Start mounting your Google Drive.\"\n",
        "from google.colab import drive \n",
        "drive.mount('/content/drive')\n",
        "%cd /content/drive/My\\ Drive/\n",
        "!echo \"Make a working folder and move to there.\"\n",
        "%mkdir -p IMIS_Tool-A/Work400/deep-learning-from-scratch-master\n",
        "%cd       IMIS_Tool-A/Work400/deep-learning-from-scratch-master\n",
        "!ls -l"
      ],
      "execution_count": null,
      "outputs": []
    },
    {
      "cell_type": "markdown",
      "metadata": {
        "id": "AQo5gKFXahsy"
      },
      "source": [
        "---\n",
        "# How to run python codes\n",
        "\n",
        "**Here is the general way of running python codes. As for this course, I prepare both for the most of the cases.** \n",
        "\n",
        "[A] The one is to use the code cell as if it is a terminal window."
      ]
    },
    {
      "cell_type": "code",
      "metadata": {
        "id": "h7Ekm2iTZu5H"
      },
      "source": [
        "%cd /content/drive/My\\ Drive/IMIS_Tool-A/Work400/deep-learning-from-scratch-master/ch01\n",
        "!python man.py"
      ],
      "execution_count": null,
      "outputs": []
    },
    {
      "cell_type": "markdown",
      "metadata": {
        "id": "VkR90a5Raz-I"
      },
      "source": [
        "[B] The other is to see the the code by cat command and copy/paste the code body to the next codecell.\n"
      ]
    },
    {
      "cell_type": "code",
      "metadata": {
        "id": "8MEUnu8-a7ut"
      },
      "source": [
        "%cd /content/drive/My\\ Drive/IMIS_Tool-A/Work400/deep-learning-from-scratch-master/ch01\n",
        "!cat man.py"
      ],
      "execution_count": null,
      "outputs": []
    },
    {
      "cell_type": "markdown",
      "metadata": {
        "id": "MJ-g3LxVbV-_"
      },
      "source": [
        "Remember to put the 1st line as the code may access of the current folder."
      ]
    },
    {
      "cell_type": "code",
      "metadata": {
        "id": "X8GeiDXIbAXI"
      },
      "source": [
        "%cd /content/drive/My\\ Drive/IMIS_Tool-A/Work400/deep-learning-from-scratch-master/ch01\n",
        "# coding: utf-8\n",
        "class Man:\n",
        "    \"\"\"サンプルクラス\"\"\"\n",
        "\n",
        "    def __init__(self, name):\n",
        "        self.name = name\n",
        "        print(\"Initilized!\")\n",
        "\n",
        "    def hello(self):\n",
        "        print(\"Hello \" + self.name + \"!\")\n",
        "\n",
        "    def goodbye(self):\n",
        "        print(\"Good-bye \" + self.name + \"!\")\n",
        "\n",
        "m = Man(\"David\")\n",
        "m.hello()\n",
        "m.goodbye()"
      ],
      "execution_count": null,
      "outputs": []
    },
    {
      "cell_type": "markdown",
      "metadata": {
        "id": "Mmae-_D2NOFC"
      },
      "source": [
        "# Tips\n",
        "\n",
        "On changing the folders **inside the pyhton**, set the code like: "
      ]
    },
    {
      "cell_type": "code",
      "metadata": {
        "id": "Yk1qKwZUYN_r"
      },
      "source": [
        "import os\n",
        "os.chdir(\"/content/drive/My Drive/IMIS_Tool-A/Work400/deep-learning-from-scratch-master\")\n",
        "xx = os.listdir(\".\")\n",
        "os.makedirs(\"ch00/test01\", exist_ok=True)\n",
        "files = os.listdir(\".\")\n",
        "print(files)\n",
        "os.chdir(\"ch00\")\n",
        "print(os.listdir(\".\"))"
      ],
      "execution_count": null,
      "outputs": []
    },
    {
      "cell_type": "markdown",
      "metadata": {
        "id": "9ijPyK5WSgVA"
      },
      "source": [
        "---\n",
        "Tools and Practices for Intelligent Interaction Systems A  \n",
        "Master's and Docotal programs in intelligent and mechanical interaction systems, University of Tsukuba, Japan.  \n",
        "KAMEDA Yoshinari, SHIBUYA Takeshi  \n",
        "\n",
        "知能システムツール演習a  \n",
        "知能機能システム学位プログラム (筑波大学大学院)  \n",
        "担当：亀田能成，澁谷長史  \n",
        "\n",
        "2021/08/02. revised  \n",
        "2021/07/26.  \n",
        "2020/06/29.\n",
        "\n"
      ]
    }
  ]
}