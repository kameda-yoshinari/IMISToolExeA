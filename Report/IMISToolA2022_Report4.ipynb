{
  "nbformat": 4,
  "nbformat_minor": 0,
  "metadata": {
    "colab": {
      "name": "IMISToolA2022-Report4",
      "provenance": [],
      "collapsed_sections": [],
      "authorship_tag": "ABX9TyPt0pnG2Fay11o8GzIeKqWx",
      "include_colab_link": true
    },
    "kernelspec": {
      "name": "python3",
      "display_name": "Python 3"
    }
  },
  "cells": [
    {
      "cell_type": "markdown",
      "metadata": {
        "id": "view-in-github",
        "colab_type": "text"
      },
      "source": [
        "<a href=\"https://colab.research.google.com/github/kameda-yoshinari/IMISToolExeA2022/blob/main/Report/IMISToolA2022_Report4.ipynb\" target=\"_parent\"><img src=\"https://colab.research.google.com/assets/colab-badge.svg\" alt=\"Open In Colab\"/></a>"
      ]
    },
    {
      "cell_type": "markdown",
      "metadata": {
        "id": "-SqpuNOEWS-a"
      },
      "source": [
        "# Report 4 (2022/08/01 ver.B)\n",
        "\n",
        "for Tools for intelligent interaction systems a (0ALE005 / 0AL5706).\n",
        "\n",
        "---\n",
        "\n",
        "<font color=\"red\">\n",
        "If Ver.B or later, change log should be found at the end of this page.  \n",
        "\n",
        "Your ID info should be placed in the following three items (MANDATORY).\n",
        "</font>\n",
        "\n",
        "* Student ID: (E.g. 202099998)...Erase-and-put-yours-here\n",
        "* Name: (E.g. 筑波 太郎）...Erase-and-put-yours-here\n",
        "* Colab account: (E.g. tsukuba.taro.xs@alumni.tsukuba.ac.jp)...Erase-and-put-yours-here\n",
        "\n",
        "---\n",
        "\n",
        "Report could be written in English or Japanese. / レポートの記述は日本語でも英語でもよい．\n",
        "\n",
        "---"
      ]
    },
    {
      "cell_type": "markdown",
      "metadata": {
        "id": "8NUVKBVvmvtw"
      },
      "source": [
        "---\n",
        "# Report4A: Live capture query with CIFAR-10 or MNIST  \n",
        "\n",
        "* Show the way to build a classfier of CIFAR10 or MNIST.\n",
        "* Provide a python program that captures an image from a camera and that shows its recognition result of the image immediately.\n",
        "\n",
        "Hint: Each shown in tutorials. Find a way to unite them.\n",
        "\n"
      ]
    },
    {
      "cell_type": "code",
      "metadata": {
        "id": "s4hQ22_UpMRq",
        "colab": {
          "base_uri": "https://localhost:8080/",
          "height": 34
        },
        "outputId": "00f65dab-ebf8-40e8-8d37-70888cc450e9"
      },
      "source": [
        "print ('You can put code cells and text cells around here.')"
      ],
      "execution_count": null,
      "outputs": [
        {
          "output_type": "stream",
          "text": [
            "You can put code cells and text cells around here.\n"
          ],
          "name": "stdout"
        }
      ]
    },
    {
      "cell_type": "markdown",
      "metadata": {
        "id": "0jF38tfbtz03"
      },
      "source": [
        "---\n",
        "# Report4B: Unique features of PyTorch\n",
        "\n",
        "What are the unique features of PyTorch (compared with other ML libraries)?\n",
        "Find appopriate part in the tutorials / documents in the official pytorch www, site them, and point the features. Then summersize them totally from your viewpoint. \n",
        "\n",
        "* List up at least two unique features. (URL, sentences to fit, and short description for each)\n",
        "* Total summary would be a coule of lines.\n",
        "\n"
      ]
    },
    {
      "cell_type": "markdown",
      "metadata": {
        "id": "j_LNv7qr2Jcq"
      },
      "source": [
        "(You can put text cells around here)"
      ]
    },
    {
      "cell_type": "markdown",
      "metadata": {
        "id": "aExQhnAcClQB"
      },
      "source": [
        "---\n",
        "# Report4C: Tutorials of pytorch\n",
        "\n",
        "There are [many tutorials](https://github.com/kameda-yoshinari/IMISToolExeA2021/blob/master/300_PyTorch.ipynb) provided by the Pytorch official site. Pick up **four tutorials** (you should complete those tutorials) and make a report for the four tutorials on:\n",
        "\n",
        "* Summary (2-3 lines)\n",
        "* What you learn\n",
        "* The most difficult part\n",
        "\n",
        "Note that you can choose the first two (mandatory ones) in the four choices. \n",
        "However, you should not take all fours in basic category (at least one should be from other category). "
      ]
    },
    {
      "cell_type": "markdown",
      "metadata": {
        "id": "RplBC85KCrzP"
      },
      "source": [
        "(You can put text cells around here)"
      ]
    },
    {
      "cell_type": "markdown",
      "metadata": {
        "id": "TjOgrYW8lAmy"
      },
      "source": [
        "---\n",
        "# Report4D: Chainer history  \n",
        "\n",
        "Briefly summerize the history of chainer and describe why it was coming and why it had to gone.\n",
        "\n",
        "* Who were the rivals? \n",
        "* What was the chainer's advantage?\n",
        "* What was their disadvantage (that results in their sad end)?\n"
      ]
    },
    {
      "cell_type": "markdown",
      "metadata": {
        "id": "B9Z8A8xin-Ru"
      },
      "source": [
        "(You can put text cells around here)"
      ]
    },
    {
      "cell_type": "markdown",
      "source": [
        "---\n",
        "#Report4E: Your Goole drive usage\n",
        "\n",
        "Find out the amount of your google drive space and report it.  \n",
        "Discuss the availability and what you should do to make it small.\n"
      ],
      "metadata": {
        "id": "EG38xv8ZHJUw"
      }
    },
    {
      "cell_type": "markdown",
      "source": [
        "(You can put text cells around here)"
      ],
      "metadata": {
        "id": "B6eNVn3PJFTM"
      }
    },
    {
      "cell_type": "markdown",
      "metadata": {
        "id": "c7rf54NjW5f2"
      },
      "source": [
        "---\n",
        "# Report submission\n",
        "\n",
        "The report template will be given in ipynb file.\n",
        "You should save it to your local google colaboratory folder and then edit it to fit your report.\n",
        "\n",
        "The report submission should be made at this cource (0ALE002) at https://manaba.tsukuba.ac.jp .\n",
        "Note that 0ALE005 is coupled with 0ALE002 (and 0AL5706) on manaba system.\n",
        "\n",
        "\n",
        "**File (main)**\n",
        "\n",
        "Download the ipynb to your local machine and then submit the file to the manaba.\n",
        "\n",
        "\n",
        "\n",
        "\n"
      ]
    },
    {
      "cell_type": "markdown",
      "metadata": {
        "id": "mrwIDJcJkSCk"
      },
      "source": [
        "---\n",
        "Tools and Practices for Intelligent Interaction Systems A  \n",
        "Master's and Docotal programs in intelligent and mechanical interaction systems, University of Tsukuba, Japan.  \n",
        "KAMEDA Yoshinari, SHIBUYA Takeshi  \n",
        "\n",
        "知能システムツール演習a  \n",
        "知能機能システム学位プログラム (筑波大学大学院)  \n",
        "担当：亀田能成，澁谷長史  \n",
        "\n",
        "2022/08/01. Ver.B. (File submission only)\n",
        "2022/08/01. Ver.A.\n",
        " \n",
        "\n"
      ]
    }
  ]
}