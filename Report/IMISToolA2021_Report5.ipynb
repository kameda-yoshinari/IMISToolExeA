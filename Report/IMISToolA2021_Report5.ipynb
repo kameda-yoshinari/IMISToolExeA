{
  "nbformat": 4,
  "nbformat_minor": 0,
  "metadata": {
    "colab": {
      "name": "IMISToolA2021-Report5",
      "provenance": [],
      "collapsed_sections": [],
      "authorship_tag": "ABX9TyPjLXD9sS+tuOLgx7kWpqbF",
      "include_colab_link": true
    },
    "kernelspec": {
      "name": "python3",
      "display_name": "Python 3"
    }
  },
  "cells": [
    {
      "cell_type": "markdown",
      "metadata": {
        "id": "view-in-github",
        "colab_type": "text"
      },
      "source": [
        "<a href=\"https://colab.research.google.com/github/kameda-yoshinari/IMISToolExeA2021/blob/main/Report/IMISToolA2021_Report5.ipynb\" target=\"_parent\"><img src=\"https://colab.research.google.com/assets/colab-badge.svg\" alt=\"Open In Colab\"/></a>"
      ]
    },
    {
      "cell_type": "markdown",
      "metadata": {
        "id": "-SqpuNOEWS-a"
      },
      "source": [
        "# Report 5 (2021/08/02 ver.A)\n",
        "\n",
        "for Tools for intelligent interaction systems a (0ALE005 / 0AL5706).\n",
        "\n",
        "---\n",
        "\n",
        "<font color=\"red\">\n",
        "If Ver.B or later, change log should be found at the end of this page.  \n",
        "\n",
        "Your ID info should be placed in the following three items (MANDATORY).\n",
        "</font>\n",
        "\n",
        "* Student ID: (E.g. 202099998)...Erase-and-put-yours-here\n",
        "* Name: (E.g. 筑波 太郎）...Erase-and-put-yours-here\n",
        "* Colab account: (E.g. tsukuba.taro.xs@alumni.tsukuba.ac.jp)...Erase-and-put-yours-here\n",
        "\n",
        "---\n",
        "\n",
        "Report could be written in English or Japanese. / レポートの記述は日本語でも英語でもよい．\n",
        "\n",
        "---"
      ]
    },
    {
      "cell_type": "markdown",
      "metadata": {
        "id": "8NUVKBVvmvtw"
      },
      "source": [
        "---\n",
        "# Report5A: Shorter learning period of SSD  \n",
        "\n",
        "In SSD described in chapter 2 of PyTorchADL, suppose you want to shorten the training period.\n",
        "\n",
        "(1) The first choice would be the change of epoches. What is the epoch?\n",
        "\n",
        "(2) Change the number of the epoch and tell what will happen if you change the number of epoch. You are asked to show the graph taken from your actual experiment.\n",
        "\n",
        "(3) Suppose the number of epoch should be fixed. What are the other choices? Describe the reason why it can shorten the training period.\n",
        "\n",
        "(4) Conduct the experiment accordingly based on the description (3). Again, you should show the graph taken from your own experiment.\n",
        "\n",
        "As for (1) and (3), show the related document source in the course material given in the course.\n",
        "\n",
        "As for  (2) (4), attach the way of conducting the experiment in code cells.\n"
      ]
    },
    {
      "cell_type": "code",
      "metadata": {
        "id": "s4hQ22_UpMRq",
        "colab": {
          "base_uri": "https://localhost:8080/",
          "height": 34
        },
        "outputId": "00f65dab-ebf8-40e8-8d37-70888cc450e9"
      },
      "source": [
        "print ('You can put many code cells and text cells around here.')"
      ],
      "execution_count": null,
      "outputs": [
        {
          "output_type": "stream",
          "text": [
            "You can put code cells and text cells around here.\n"
          ],
          "name": "stdout"
        }
      ]
    },
    {
      "cell_type": "markdown",
      "metadata": {
        "id": "iGQsKgSzCS90"
      },
      "source": [
        "To put the graph, the easiest way is to paste the graph (as bitmap) here when it is small. It is good to prepare one text cell for one graph."
      ]
    },
    {
      "cell_type": "markdown",
      "metadata": {
        "id": "oTW-cW4CCo0X"
      },
      "source": [
        "![image.png](data:image/png;base64,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)"
      ]
    },
    {
      "cell_type": "markdown",
      "metadata": {
        "id": "SCCkhHUtDRzy"
      },
      "source": [
        "But the file size becomes large and it is not good for editing.\n",
        "So the alternative choice to put the link of the figure here.\n",
        "\n",
        "One way is to submit the figure to the issue and make a link, and paste here (though the figure is to open to the public :-)\n",
        "![image](https://user-images.githubusercontent.com/45651568/127788486-55bc5375-7ffe-4059-ac22-46f523b39ffb.png)\n",
        "\n",
        "The issue could be submitted from [here](https://github.com/kameda-yoshinari/IMISToolExeA2021/issues)."
      ]
    },
    {
      "cell_type": "markdown",
      "metadata": {
        "id": "0jF38tfbtz03"
      },
      "source": [
        "---\n",
        "# Report5B: Difference of Transfer Learning and Fine Tuning\n",
        "\n",
        "Suppose you want to deliver a new object (=target) recognition on images. You can assume generic object recognition engine is there, but unfortunately the target object class is not included.\n",
        "\n",
        "(A) What is the typcal difference between Transfer Learning and Normal Learning method?\n",
        "\n",
        "(B) What is the the unique features of Fine Tuning?\n",
        "\n",
        "(C) Provide that your own case and discuss which should be the better choice in that case.\n"
      ]
    },
    {
      "cell_type": "markdown",
      "metadata": {
        "id": "j_LNv7qr2Jcq"
      },
      "source": [
        "(A) (Answer for A)"
      ]
    },
    {
      "cell_type": "markdown",
      "metadata": {
        "id": "_E6tduwZCCRQ"
      },
      "source": [
        "(B) (Answer for B)"
      ]
    },
    {
      "cell_type": "markdown",
      "metadata": {
        "id": "VB8CF_gICMKG"
      },
      "source": [
        " (C) (Answer for C\n",
        ")"
      ]
    },
    {
      "cell_type": "markdown",
      "metadata": {
        "id": "aExQhnAcClQB"
      },
      "source": [
        "---\n",
        "# Report5X: Challenge on Chapter 6 or later\n",
        "\n",
        "If you have a time, make a challenge on chapter 6 or later of PyTorchADL.\n",
        "\n",
        "Make a compact summary below and tell what you learn on experience of the chapter."
      ]
    },
    {
      "cell_type": "markdown",
      "metadata": {
        "id": "RplBC85KCrzP"
      },
      "source": [
        "(You can put text cells around here)"
      ]
    },
    {
      "cell_type": "code",
      "metadata": {
        "colab": {
          "base_uri": "https://localhost:8080/"
        },
        "id": "jlcaVL4_EbY9",
        "outputId": "29b19203-d941-42b3-8527-32a67e974610"
      },
      "source": [
        "print (\"You can put code cells too.\")"
      ],
      "execution_count": 2,
      "outputs": [
        {
          "output_type": "stream",
          "text": [
            "You can put code cells too.\n"
          ],
          "name": "stdout"
        }
      ]
    },
    {
      "cell_type": "markdown",
      "metadata": {
        "id": "B9Z8A8xin-Ru"
      },
      "source": [
        "(You can put text cells around here)"
      ]
    },
    {
      "cell_type": "markdown",
      "metadata": {
        "id": "c7rf54NjW5f2"
      },
      "source": [
        "---\n",
        "# Report submission\n",
        "\n",
        "The report template will be given in ipynb file.\n",
        "You should save it to your local google colaboratory folder and then edit it to fit your report.\n",
        "\n",
        "The report submission should be made at this cource (0ALE005) at https://manaba.tsukuba.ac.jp .\n",
        "Note that 0ALE005 is coupled with 0ALE002 and 0AL5706 on manaba system.\n",
        "\n",
        "\n",
        "**File (main)**\n",
        "\n",
        "Download the ipynb to your local machine and then submit the file to the manaba.\n",
        "\n",
        "**URL (backup)**\n",
        "\n",
        "Make a shared link which is open only to the alumni.tsukuba.ac.jp (筑波大学交流広場) domain.\n",
        "\n",
        "![共有可能なリンク](https://docs.google.com/drawings/d/e/2PACX-1vTDuOu8Z1nZFTqJ0yMKXedJwDnZx0hiKXoL56h21kQrDRj4C52aQX7Nn9QJZFZAgKV32lxTzuvNlory/pub?w=508&h=403)\n",
        "\n",
        "\n",
        "\n"
      ]
    },
    {
      "cell_type": "markdown",
      "metadata": {
        "id": "mrwIDJcJkSCk"
      },
      "source": [
        "---\n",
        "Tools for intelligent interaction systems a  \n",
        "Master's and Docotal programs in intelligent and mechanical interaction systems, University of Tsukuba, Japan.  \n",
        "KAMEDA Yoshinari, SHIBUYA Takeshi  \n",
        "\n",
        "知能システムツール演習a  \n",
        "知能機能システム学位プログラム (筑波大学大学院)  \n",
        "担当：亀田能成，澁谷長史  \n",
        "\n",
        "2021/08/02 ver.A\n",
        "\n"
      ]
    }
  ]
}