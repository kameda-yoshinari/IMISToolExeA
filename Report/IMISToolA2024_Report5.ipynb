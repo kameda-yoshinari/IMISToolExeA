{
  "nbformat": 4,
  "nbformat_minor": 0,
  "metadata": {
    "colab": {
      "provenance": [],
      "include_colab_link": true
    },
    "kernelspec": {
      "name": "python3",
      "display_name": "Python 3"
    }
  },
  "cells": [
    {
      "cell_type": "markdown",
      "metadata": {
        "id": "view-in-github",
        "colab_type": "text"
      },
      "source": [
        "<a href=\"https://colab.research.google.com/github/kameda-yoshinari/IMISToolExeA/blob/main/Report/IMISToolA2024_Report5.ipynb\" target=\"_parent\"><img src=\"https://colab.research.google.com/assets/colab-badge.svg\" alt=\"Open In Colab\"/></a>"
      ]
    },
    {
      "cell_type": "markdown",
      "metadata": {
        "id": "-SqpuNOEWS-a"
      },
      "source": [
        "# Report 5 (2024/08/05 ver.B)\n",
        "\n",
        "for Tools for intelligent interaction systems a (0ALE005 / 0AL5707).\n",
        "\n",
        "---\n",
        "\n",
        "<font color=\"red\">\n",
        "If Ver.B or later, change log should be found at the end of this page.  \n",
        "\n",
        "Your ID info should be placed in the following three items (MANDATORY).\n",
        "</font>\n",
        "\n",
        "* Student ID: (E.g. 202099998)...Erase-and-put-yours-here\n",
        "* Name: (E.g. 筑波 太郎）...Erase-and-put-yours-here\n",
        "* Colab account: (E.g. tsukuba.taro.xs@alumni.tsukuba.ac.jp)...Erase-and-put-yours-here\n",
        "\n",
        "---\n",
        "\n",
        "Report could be written in English or Japanese. / レポートの記述は日本語でも英語でもよい．\n",
        "\n",
        "---"
      ]
    },
    {
      "cell_type": "markdown",
      "metadata": {
        "id": "8NUVKBVvmvtw"
      },
      "source": [
        "---\n",
        "# Report5A: Make your own classifier (Mandatory:必須)  \n",
        "\n",
        "**Directly change \"--\" in this text cell to write a report.**\n",
        "\n",
        "You are strongly encouraged to take images at your USB camera (or your smartphone camera). (It is because the dataset would be obvious and trivial if you collect images by the google query with the word...)  \n",
        "**FYI, [Lesson 700](https://github.com/kameda-yoshinari/IMISToolExeA/blob/main/700_PyPorchPractice.ipynb) will be very useful to finish this assignment.**\n",
        "\n",
        "* Show the link to the top google-drive folder of the image dataset (It should include train/Class1 train/Class2 val/Class1 val/Class2)\n",
        "\n",
        "1. URL: -- (it should be accessible to kameda.yoshinari.ft@u.tsukuba.ac.jp)\n",
        "\n",
        "* Show the two class names you give.\n",
        "\n",
        "1. Class1: --\n",
        "2. Class2: --\n",
        "\n",
        "* Number of images\n",
        "\n",
        "1. Class1: --\n",
        "2. Class2: --\n",
        "\n",
        "* Three examples of test results (true label, two predicted labels of model_ft and model_conv, image)\n",
        "\n",
        "1. Example1: --\n",
        "2. Example2: --\n",
        "3. Example3: --\n",
        "\n",
        "Images should be given by URL that is accesible by kameda.yoshinari.ft@u.tsukuba.ac.jp, or inline image).\n"
      ]
    },
    {
      "cell_type": "markdown",
      "metadata": {
        "id": "j_LNv7qr2Jcq"
      },
      "source": [
        "Write your findings of Report5A (Any comments are OK) below.\n",
        "\n",
        "--"
      ]
    },
    {
      "cell_type": "markdown",
      "metadata": {
        "id": "aExQhnAcClQB"
      },
      "source": [
        "---\n",
        "# Report5X: Evaluate the performance by \"test\" dataset (Optional:発展)  \n",
        "\n",
        "Prepare 50 test images that take either of the two class objects (or other if you prefer, in this case, the 3rd label should be \"other\") and measure the performance of the two classifiers (of model_ft and model_conv).\n",
        "\n",
        "* The images should be placed at the same folder as shown in 5A. (e.g. test/Class1 test/Class2 test/other)\n",
        "* The total number of images below test/ should be 50 or more.\n",
        "* Show the accuracy for the 50 images for both model_ft and model_conv.\n",
        "* Carefully write the table and the report so as to be easy to read.\n"
      ]
    },
    {
      "cell_type": "markdown",
      "source": [
        "Report of 5X should be placed by changing this text cell (you can add more cells if you need)."
      ],
      "metadata": {
        "id": "e1hK49DPoXmS"
      }
    },
    {
      "cell_type": "markdown",
      "metadata": {
        "id": "0jF38tfbtz03"
      },
      "source": [
        "---\n",
        "# Report5Y: Evaluate the performance by changing the training (and validation) dataset (Optional:発展)  \n",
        "\n",
        "By changinge the number of the images in train / validation, show the classification ratio for each.\n",
        "\n",
        "* The number changing policy is up to the student.\n",
        "* Write the way to select the images.\n",
        "* Discuss what you expect before you start and what actually happend in the experimental result.\n",
        "* Guess the reason if you encounter the expectation does not become true.\n"
      ]
    },
    {
      "cell_type": "markdown",
      "source": [
        "Report of 5X should be placed by changing this text cell (you can add more cells if you need)."
      ],
      "metadata": {
        "id": "NxPntCzupjFv"
      }
    },
    {
      "cell_type": "markdown",
      "metadata": {
        "id": "TjOgrYW8lAmy"
      },
      "source": [
        "---\n",
        "# Report5Z: Hide the objects and see what happens on the classifiers (Optional:発展)  \n",
        "\n",
        "You may think the classifier could be build even when the objects are deleted from the training images as the some peripheral areas might have the biased image property correlated to the object.\n",
        "\n",
        "* Delete (black out) the objects roughly in the training images.\n",
        "* Run the same process of 5A, and 5X / 5Y if possible.\n",
        "* Discuss what you expect before you start and what actually happend in the experimental result.\n",
        "* Justify the reason of what actually happend."
      ]
    },
    {
      "cell_type": "markdown",
      "metadata": {
        "id": "B9Z8A8xin-Ru"
      },
      "source": [
        "Report of 5X should be placed by changing this text cell (you can add more cells if you need)."
      ]
    },
    {
      "cell_type": "markdown",
      "metadata": {
        "id": "c7rf54NjW5f2"
      },
      "source": [
        "---\n",
        "# Report submission\n",
        "\n",
        "The report template will be given in ipynb file.  \n",
        "\n",
        "You should save this file as a report templete to your local google colaboratory folder and then edit it to fit your report.\n",
        "\n",
        "The report submission should be made at this cource (0ALE005) at https://manaba.tsukuba.ac.jp .  \n",
        "Note that 0AL5707 is coupled with 0ALE005 on manaba system, so 0AL5707 students should also submit the report at 0ALE005.  \n",
        "File extension should be **ipynb**. Other format won't be accepted.  \n",
        "\n",
        "\n",
        "\n",
        "\n",
        "\n",
        "\n"
      ]
    },
    {
      "cell_type": "markdown",
      "metadata": {
        "id": "mrwIDJcJkSCk"
      },
      "source": [
        "---\n",
        "Tools and Practices for Intelligent Interaction Systems A  \n",
        "Master's and Docotal programs in intelligent and mechanical interaction systems, University of Tsukuba, Japan.  \n",
        "KAMEDA Yoshinari, SHIBUYA Takeshi  \n",
        "\n",
        "知能システムツール演習a  \n",
        "知能機能システム学位プログラム (筑波大学大学院)  \n",
        "担当：亀田能成，澁谷長史  \n",
        "\n",
        "2024/08/05. Ver.B.  \n",
        "\n",
        "\n"
      ]
    }
  ]
}